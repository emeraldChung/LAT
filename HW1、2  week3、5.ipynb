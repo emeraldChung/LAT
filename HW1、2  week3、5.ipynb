{
 "cells": [
  {
   "cell_type": "markdown",
   "id": "be2384be",
   "metadata": {},
   "source": [
    "# HW1 week3"
   ]
  },
  {
   "cell_type": "code",
   "execution_count": 1,
   "id": "d51c55b7",
   "metadata": {},
   "outputs": [],
   "source": [
    "import pandas as pd\n",
    "data = []\n",
    "df2015 = pd.read_csv('特教經費2015.csv')\n",
    "df2016 = pd.read_csv('特教經費2016.csv')\n",
    "df2017 = pd.read_csv('特教經費2017.csv')\n",
    "df2018 = pd.read_csv('特教經費2018.csv')\n",
    "df2015['年度'] = 2015\n",
    "df2016['年度'] = 2016\n",
    "df2017['年度'] = 2017\n",
    "df2018['年度'] = 2018"
   ]
  },
  {
   "cell_type": "code",
   "execution_count": 2,
   "id": "b980150a",
   "metadata": {
    "scrolled": true
   },
   "outputs": [
    {
     "data": {
      "text/html": [
       "<div>\n",
       "<style scoped>\n",
       "    .dataframe tbody tr th:only-of-type {\n",
       "        vertical-align: middle;\n",
       "    }\n",
       "\n",
       "    .dataframe tbody tr th {\n",
       "        vertical-align: top;\n",
       "    }\n",
       "\n",
       "    .dataframe thead th {\n",
       "        text-align: right;\n",
       "    }\n",
       "</style>\n",
       "<table border=\"1\" class=\"dataframe\">\n",
       "  <thead>\n",
       "    <tr style=\"text-align: right;\">\n",
       "      <th></th>\n",
       "      <th>RptNo</th>\n",
       "      <th>RptName</th>\n",
       "      <th>StatCourseNo</th>\n",
       "      <th>StatCourseName</th>\n",
       "      <th>DataDate</th>\n",
       "      <th>PlaceNo</th>\n",
       "      <th>PlaceName</th>\n",
       "      <th>PeriodNo</th>\n",
       "      <th>PeriodName</th>\n",
       "      <th>Complex1</th>\n",
       "      <th>...</th>\n",
       "      <th>Complex5Name</th>\n",
       "      <th>DeriveNo</th>\n",
       "      <th>DeriveExplain</th>\n",
       "      <th>FValue</th>\n",
       "      <th>SValue</th>\n",
       "      <th>RptDeptNo</th>\n",
       "      <th>RptDeptName</th>\n",
       "      <th>CreateTime</th>\n",
       "      <th>ModifyTime</th>\n",
       "      <th>年度</th>\n",
       "    </tr>\n",
       "  </thead>\n",
       "  <tbody>\n",
       "    <tr>\n",
       "      <th>0</th>\n",
       "      <td>10440-01-02-2</td>\n",
       "      <td>臺中市特殊教育學校教育經費概況(預、決算數)</td>\n",
       "      <td>1044001a017</td>\n",
       "      <td>特殊教育學校教育經費概況(預、決算數)-預算數-經費來源(單位:千元)</td>\n",
       "      <td>2015/1/1 上午 12:00:00</td>\n",
       "      <td>10000066000</td>\n",
       "      <td>臺中市</td>\n",
       "      <td>Y</td>\n",
       "      <td>年</td>\n",
       "      <td>230010000101</td>\n",
       "      <td>...</td>\n",
       "      <td>NaN</td>\n",
       "      <td>0</td>\n",
       "      <td>NaN</td>\n",
       "      <td>488231</td>\n",
       "      <td>NaN</td>\n",
       "      <td>387040000E</td>\n",
       "      <td>教育局</td>\n",
       "      <td>2016/12/16 上午 09:39:40</td>\n",
       "      <td>NaN</td>\n",
       "      <td>2015</td>\n",
       "    </tr>\n",
       "    <tr>\n",
       "      <th>1</th>\n",
       "      <td>10440-01-02-2</td>\n",
       "      <td>臺中市特殊教育學校教育經費概況(預、決算數)</td>\n",
       "      <td>1044001a017</td>\n",
       "      <td>特殊教育學校教育經費概況(預、決算數)-預算數-經費來源(單位:千元)</td>\n",
       "      <td>2015/1/1 上午 12:00:00</td>\n",
       "      <td>10000066000</td>\n",
       "      <td>臺中市</td>\n",
       "      <td>Y</td>\n",
       "      <td>年</td>\n",
       "      <td>230010000102</td>\n",
       "      <td>...</td>\n",
       "      <td>NaN</td>\n",
       "      <td>0</td>\n",
       "      <td>NaN</td>\n",
       "      <td>0</td>\n",
       "      <td>NaN</td>\n",
       "      <td>387040000E</td>\n",
       "      <td>教育局</td>\n",
       "      <td>2016/12/16 上午 09:39:40</td>\n",
       "      <td>NaN</td>\n",
       "      <td>2015</td>\n",
       "    </tr>\n",
       "    <tr>\n",
       "      <th>2</th>\n",
       "      <td>10440-01-02-2</td>\n",
       "      <td>臺中市特殊教育學校教育經費概況(預、決算數)</td>\n",
       "      <td>1044001a017</td>\n",
       "      <td>特殊教育學校教育經費概況(預、決算數)-預算數-經費來源(單位:千元)</td>\n",
       "      <td>2015/1/1 上午 12:00:00</td>\n",
       "      <td>10000066000</td>\n",
       "      <td>臺中市</td>\n",
       "      <td>Y</td>\n",
       "      <td>年</td>\n",
       "      <td>2300100002</td>\n",
       "      <td>...</td>\n",
       "      <td>NaN</td>\n",
       "      <td>0</td>\n",
       "      <td>NaN</td>\n",
       "      <td>65936</td>\n",
       "      <td>NaN</td>\n",
       "      <td>387040000E</td>\n",
       "      <td>教育局</td>\n",
       "      <td>2016/12/16 上午 09:39:40</td>\n",
       "      <td>NaN</td>\n",
       "      <td>2015</td>\n",
       "    </tr>\n",
       "    <tr>\n",
       "      <th>3</th>\n",
       "      <td>10440-01-02-2</td>\n",
       "      <td>臺中市特殊教育學校教育經費概況(預、決算數)</td>\n",
       "      <td>1044001a018</td>\n",
       "      <td>特殊教育學校教育經費概況(預、決算數)-預算數-經費支出(單位:千元)</td>\n",
       "      <td>2015/1/1 上午 12:00:00</td>\n",
       "      <td>10000066000</td>\n",
       "      <td>臺中市</td>\n",
       "      <td>Y</td>\n",
       "      <td>年</td>\n",
       "      <td>230010000101</td>\n",
       "      <td>...</td>\n",
       "      <td>NaN</td>\n",
       "      <td>0</td>\n",
       "      <td>NaN</td>\n",
       "      <td>481303</td>\n",
       "      <td>NaN</td>\n",
       "      <td>387040000E</td>\n",
       "      <td>教育局</td>\n",
       "      <td>2016/12/16 上午 09:39:40</td>\n",
       "      <td>NaN</td>\n",
       "      <td>2015</td>\n",
       "    </tr>\n",
       "    <tr>\n",
       "      <th>4</th>\n",
       "      <td>10440-01-02-2</td>\n",
       "      <td>臺中市特殊教育學校教育經費概況(預、決算數)</td>\n",
       "      <td>1044001a018</td>\n",
       "      <td>特殊教育學校教育經費概況(預、決算數)-預算數-經費支出(單位:千元)</td>\n",
       "      <td>2015/1/1 上午 12:00:00</td>\n",
       "      <td>10000066000</td>\n",
       "      <td>臺中市</td>\n",
       "      <td>Y</td>\n",
       "      <td>年</td>\n",
       "      <td>230010000102</td>\n",
       "      <td>...</td>\n",
       "      <td>NaN</td>\n",
       "      <td>0</td>\n",
       "      <td>NaN</td>\n",
       "      <td>0</td>\n",
       "      <td>NaN</td>\n",
       "      <td>387040000E</td>\n",
       "      <td>教育局</td>\n",
       "      <td>2016/12/16 上午 09:39:40</td>\n",
       "      <td>NaN</td>\n",
       "      <td>2015</td>\n",
       "    </tr>\n",
       "    <tr>\n",
       "      <th>...</th>\n",
       "      <td>...</td>\n",
       "      <td>...</td>\n",
       "      <td>...</td>\n",
       "      <td>...</td>\n",
       "      <td>...</td>\n",
       "      <td>...</td>\n",
       "      <td>...</td>\n",
       "      <td>...</td>\n",
       "      <td>...</td>\n",
       "      <td>...</td>\n",
       "      <td>...</td>\n",
       "      <td>...</td>\n",
       "      <td>...</td>\n",
       "      <td>...</td>\n",
       "      <td>...</td>\n",
       "      <td>...</td>\n",
       "      <td>...</td>\n",
       "      <td>...</td>\n",
       "      <td>...</td>\n",
       "      <td>...</td>\n",
       "      <td>...</td>\n",
       "    </tr>\n",
       "    <tr>\n",
       "      <th>139</th>\n",
       "      <td>10440-01-02-2</td>\n",
       "      <td>臺中市特殊教育學校教育經費概況(預、決算數)</td>\n",
       "      <td>1044001a020</td>\n",
       "      <td>特殊教育學校教育經費概況(預、決算數)-決算數-經費支出(單位:千元)</td>\n",
       "      <td>2018/1/1 上午 12:00:00</td>\n",
       "      <td>10000066000</td>\n",
       "      <td>臺中市</td>\n",
       "      <td>Y</td>\n",
       "      <td>年</td>\n",
       "      <td>230010000102</td>\n",
       "      <td>...</td>\n",
       "      <td>NaN</td>\n",
       "      <td>0</td>\n",
       "      <td>NaN</td>\n",
       "      <td>0</td>\n",
       "      <td>NaN</td>\n",
       "      <td>387040000E</td>\n",
       "      <td>教育局</td>\n",
       "      <td>2019/2/27 下午 02:09:53</td>\n",
       "      <td>2019/3/4 上午 11:40:37</td>\n",
       "      <td>2018</td>\n",
       "    </tr>\n",
       "    <tr>\n",
       "      <th>140</th>\n",
       "      <td>10440-01-02-2</td>\n",
       "      <td>臺中市特殊教育學校教育經費概況(預、決算數)</td>\n",
       "      <td>1044001a020</td>\n",
       "      <td>特殊教育學校教育經費概況(預、決算數)-決算數-經費支出(單位:千元)</td>\n",
       "      <td>2018/1/1 上午 12:00:00</td>\n",
       "      <td>10000066000</td>\n",
       "      <td>臺中市</td>\n",
       "      <td>Y</td>\n",
       "      <td>年</td>\n",
       "      <td>2300100002</td>\n",
       "      <td>...</td>\n",
       "      <td>NaN</td>\n",
       "      <td>0</td>\n",
       "      <td>NaN</td>\n",
       "      <td>499</td>\n",
       "      <td>NaN</td>\n",
       "      <td>387040000E</td>\n",
       "      <td>教育局</td>\n",
       "      <td>2019/2/27 下午 02:09:53</td>\n",
       "      <td>2019/3/4 上午 11:40:37</td>\n",
       "      <td>2018</td>\n",
       "    </tr>\n",
       "    <tr>\n",
       "      <th>141</th>\n",
       "      <td>10440-01-02-2</td>\n",
       "      <td>臺中市特殊教育學校教育經費概況(預、決算數)</td>\n",
       "      <td>1044001a020</td>\n",
       "      <td>特殊教育學校教育經費概況(預、決算數)-決算數-經費支出(單位:千元)</td>\n",
       "      <td>2018/1/1 上午 12:00:00</td>\n",
       "      <td>10000066000</td>\n",
       "      <td>臺中市</td>\n",
       "      <td>Y</td>\n",
       "      <td>年</td>\n",
       "      <td>230010000101</td>\n",
       "      <td>...</td>\n",
       "      <td>NaN</td>\n",
       "      <td>0</td>\n",
       "      <td>NaN</td>\n",
       "      <td>0</td>\n",
       "      <td>NaN</td>\n",
       "      <td>387040000E</td>\n",
       "      <td>教育局</td>\n",
       "      <td>2019/2/27 下午 02:09:53</td>\n",
       "      <td>2019/3/4 上午 11:40:37</td>\n",
       "      <td>2018</td>\n",
       "    </tr>\n",
       "    <tr>\n",
       "      <th>142</th>\n",
       "      <td>10440-01-02-2</td>\n",
       "      <td>臺中市特殊教育學校教育經費概況(預、決算數)</td>\n",
       "      <td>1044001a020</td>\n",
       "      <td>特殊教育學校教育經費概況(預、決算數)-決算數-經費支出(單位:千元)</td>\n",
       "      <td>2018/1/1 上午 12:00:00</td>\n",
       "      <td>10000066000</td>\n",
       "      <td>臺中市</td>\n",
       "      <td>Y</td>\n",
       "      <td>年</td>\n",
       "      <td>230010000102</td>\n",
       "      <td>...</td>\n",
       "      <td>NaN</td>\n",
       "      <td>0</td>\n",
       "      <td>NaN</td>\n",
       "      <td>27140</td>\n",
       "      <td>NaN</td>\n",
       "      <td>387040000E</td>\n",
       "      <td>教育局</td>\n",
       "      <td>2019/2/27 下午 02:09:53</td>\n",
       "      <td>2019/3/4 上午 11:40:37</td>\n",
       "      <td>2018</td>\n",
       "    </tr>\n",
       "    <tr>\n",
       "      <th>143</th>\n",
       "      <td>10440-01-02-2</td>\n",
       "      <td>臺中市特殊教育學校教育經費概況(預、決算數)</td>\n",
       "      <td>1044001a020</td>\n",
       "      <td>特殊教育學校教育經費概況(預、決算數)-決算數-經費支出(單位:千元)</td>\n",
       "      <td>2018/1/1 上午 12:00:00</td>\n",
       "      <td>10000066000</td>\n",
       "      <td>臺中市</td>\n",
       "      <td>Y</td>\n",
       "      <td>年</td>\n",
       "      <td>2300100002</td>\n",
       "      <td>...</td>\n",
       "      <td>NaN</td>\n",
       "      <td>0</td>\n",
       "      <td>NaN</td>\n",
       "      <td>6023</td>\n",
       "      <td>NaN</td>\n",
       "      <td>387040000E</td>\n",
       "      <td>教育局</td>\n",
       "      <td>2019/2/27 下午 02:09:53</td>\n",
       "      <td>2019/3/4 上午 11:40:37</td>\n",
       "      <td>2018</td>\n",
       "    </tr>\n",
       "  </tbody>\n",
       "</table>\n",
       "<p>144 rows × 28 columns</p>\n",
       "</div>"
      ],
      "text/plain": [
       "             RptNo                 RptName StatCourseNo  \\\n",
       "0    10440-01-02-2  臺中市特殊教育學校教育經費概況(預、決算數)  1044001a017   \n",
       "1    10440-01-02-2  臺中市特殊教育學校教育經費概況(預、決算數)  1044001a017   \n",
       "2    10440-01-02-2  臺中市特殊教育學校教育經費概況(預、決算數)  1044001a017   \n",
       "3    10440-01-02-2  臺中市特殊教育學校教育經費概況(預、決算數)  1044001a018   \n",
       "4    10440-01-02-2  臺中市特殊教育學校教育經費概況(預、決算數)  1044001a018   \n",
       "..             ...                     ...          ...   \n",
       "139  10440-01-02-2  臺中市特殊教育學校教育經費概況(預、決算數)  1044001a020   \n",
       "140  10440-01-02-2  臺中市特殊教育學校教育經費概況(預、決算數)  1044001a020   \n",
       "141  10440-01-02-2  臺中市特殊教育學校教育經費概況(預、決算數)  1044001a020   \n",
       "142  10440-01-02-2  臺中市特殊教育學校教育經費概況(預、決算數)  1044001a020   \n",
       "143  10440-01-02-2  臺中市特殊教育學校教育經費概況(預、決算數)  1044001a020   \n",
       "\n",
       "                          StatCourseName              DataDate      PlaceNo  \\\n",
       "0    特殊教育學校教育經費概況(預、決算數)-預算數-經費來源(單位:千元)  2015/1/1 上午 12:00:00  10000066000   \n",
       "1    特殊教育學校教育經費概況(預、決算數)-預算數-經費來源(單位:千元)  2015/1/1 上午 12:00:00  10000066000   \n",
       "2    特殊教育學校教育經費概況(預、決算數)-預算數-經費來源(單位:千元)  2015/1/1 上午 12:00:00  10000066000   \n",
       "3    特殊教育學校教育經費概況(預、決算數)-預算數-經費支出(單位:千元)  2015/1/1 上午 12:00:00  10000066000   \n",
       "4    特殊教育學校教育經費概況(預、決算數)-預算數-經費支出(單位:千元)  2015/1/1 上午 12:00:00  10000066000   \n",
       "..                                   ...                   ...          ...   \n",
       "139  特殊教育學校教育經費概況(預、決算數)-決算數-經費支出(單位:千元)  2018/1/1 上午 12:00:00  10000066000   \n",
       "140  特殊教育學校教育經費概況(預、決算數)-決算數-經費支出(單位:千元)  2018/1/1 上午 12:00:00  10000066000   \n",
       "141  特殊教育學校教育經費概況(預、決算數)-決算數-經費支出(單位:千元)  2018/1/1 上午 12:00:00  10000066000   \n",
       "142  特殊教育學校教育經費概況(預、決算數)-決算數-經費支出(單位:千元)  2018/1/1 上午 12:00:00  10000066000   \n",
       "143  特殊教育學校教育經費概況(預、決算數)-決算數-經費支出(單位:千元)  2018/1/1 上午 12:00:00  10000066000   \n",
       "\n",
       "    PlaceName PeriodNo PeriodName      Complex1  ... Complex5Name  DeriveNo  \\\n",
       "0         臺中市        Y          年  230010000101  ...          NaN         0   \n",
       "1         臺中市        Y          年  230010000102  ...          NaN         0   \n",
       "2         臺中市        Y          年    2300100002  ...          NaN         0   \n",
       "3         臺中市        Y          年  230010000101  ...          NaN         0   \n",
       "4         臺中市        Y          年  230010000102  ...          NaN         0   \n",
       "..        ...      ...        ...           ...  ...          ...       ...   \n",
       "139       臺中市        Y          年  230010000102  ...          NaN         0   \n",
       "140       臺中市        Y          年    2300100002  ...          NaN         0   \n",
       "141       臺中市        Y          年  230010000101  ...          NaN         0   \n",
       "142       臺中市        Y          年  230010000102  ...          NaN         0   \n",
       "143       臺中市        Y          年    2300100002  ...          NaN         0   \n",
       "\n",
       "    DeriveExplain  FValue  SValue   RptDeptNo  RptDeptName  \\\n",
       "0             NaN  488231     NaN  387040000E          教育局   \n",
       "1             NaN       0     NaN  387040000E          教育局   \n",
       "2             NaN   65936     NaN  387040000E          教育局   \n",
       "3             NaN  481303     NaN  387040000E          教育局   \n",
       "4             NaN       0     NaN  387040000E          教育局   \n",
       "..            ...     ...     ...         ...          ...   \n",
       "139           NaN       0     NaN  387040000E          教育局   \n",
       "140           NaN     499     NaN  387040000E          教育局   \n",
       "141           NaN       0     NaN  387040000E          教育局   \n",
       "142           NaN   27140     NaN  387040000E          教育局   \n",
       "143           NaN    6023     NaN  387040000E          教育局   \n",
       "\n",
       "                 CreateTime            ModifyTime    年度  \n",
       "0    2016/12/16 上午 09:39:40                   NaN  2015  \n",
       "1    2016/12/16 上午 09:39:40                   NaN  2015  \n",
       "2    2016/12/16 上午 09:39:40                   NaN  2015  \n",
       "3    2016/12/16 上午 09:39:40                   NaN  2015  \n",
       "4    2016/12/16 上午 09:39:40                   NaN  2015  \n",
       "..                      ...                   ...   ...  \n",
       "139   2019/2/27 下午 02:09:53  2019/3/4 上午 11:40:37  2018  \n",
       "140   2019/2/27 下午 02:09:53  2019/3/4 上午 11:40:37  2018  \n",
       "141   2019/2/27 下午 02:09:53  2019/3/4 上午 11:40:37  2018  \n",
       "142   2019/2/27 下午 02:09:53  2019/3/4 上午 11:40:37  2018  \n",
       "143   2019/2/27 下午 02:09:53  2019/3/4 上午 11:40:37  2018  \n",
       "\n",
       "[144 rows x 28 columns]"
      ]
     },
     "execution_count": 2,
     "metadata": {},
     "output_type": "execute_result"
    }
   ],
   "source": [
    "data = pd.concat([df2015, df2016, df2017, df2018], axis=0, ignore_index=True)\n",
    "data"
   ]
  },
  {
   "cell_type": "markdown",
   "id": "510695da",
   "metadata": {},
   "source": [
    "Q1.資料前3項"
   ]
  },
  {
   "cell_type": "code",
   "execution_count": 3,
   "id": "6e4bfcb0",
   "metadata": {
    "scrolled": true
   },
   "outputs": [
    {
     "data": {
      "text/html": [
       "<div>\n",
       "<style scoped>\n",
       "    .dataframe tbody tr th:only-of-type {\n",
       "        vertical-align: middle;\n",
       "    }\n",
       "\n",
       "    .dataframe tbody tr th {\n",
       "        vertical-align: top;\n",
       "    }\n",
       "\n",
       "    .dataframe thead th {\n",
       "        text-align: right;\n",
       "    }\n",
       "</style>\n",
       "<table border=\"1\" class=\"dataframe\">\n",
       "  <thead>\n",
       "    <tr style=\"text-align: right;\">\n",
       "      <th></th>\n",
       "      <th>RptNo</th>\n",
       "      <th>RptName</th>\n",
       "      <th>StatCourseNo</th>\n",
       "      <th>StatCourseName</th>\n",
       "      <th>DataDate</th>\n",
       "      <th>PlaceNo</th>\n",
       "      <th>PlaceName</th>\n",
       "      <th>PeriodNo</th>\n",
       "      <th>PeriodName</th>\n",
       "      <th>Complex1</th>\n",
       "      <th>...</th>\n",
       "      <th>Complex5Name</th>\n",
       "      <th>DeriveNo</th>\n",
       "      <th>DeriveExplain</th>\n",
       "      <th>FValue</th>\n",
       "      <th>SValue</th>\n",
       "      <th>RptDeptNo</th>\n",
       "      <th>RptDeptName</th>\n",
       "      <th>CreateTime</th>\n",
       "      <th>ModifyTime</th>\n",
       "      <th>年度</th>\n",
       "    </tr>\n",
       "  </thead>\n",
       "  <tbody>\n",
       "    <tr>\n",
       "      <th>0</th>\n",
       "      <td>10440-01-02-2</td>\n",
       "      <td>臺中市特殊教育學校教育經費概況(預、決算數)</td>\n",
       "      <td>1044001a017</td>\n",
       "      <td>特殊教育學校教育經費概況(預、決算數)-預算數-經費來源(單位:千元)</td>\n",
       "      <td>2015/1/1 上午 12:00:00</td>\n",
       "      <td>10000066000</td>\n",
       "      <td>臺中市</td>\n",
       "      <td>Y</td>\n",
       "      <td>年</td>\n",
       "      <td>230010000101</td>\n",
       "      <td>...</td>\n",
       "      <td>NaN</td>\n",
       "      <td>0</td>\n",
       "      <td>NaN</td>\n",
       "      <td>488231</td>\n",
       "      <td>NaN</td>\n",
       "      <td>387040000E</td>\n",
       "      <td>教育局</td>\n",
       "      <td>2016/12/16 上午 09:39:40</td>\n",
       "      <td>NaN</td>\n",
       "      <td>2015</td>\n",
       "    </tr>\n",
       "    <tr>\n",
       "      <th>1</th>\n",
       "      <td>10440-01-02-2</td>\n",
       "      <td>臺中市特殊教育學校教育經費概況(預、決算數)</td>\n",
       "      <td>1044001a017</td>\n",
       "      <td>特殊教育學校教育經費概況(預、決算數)-預算數-經費來源(單位:千元)</td>\n",
       "      <td>2015/1/1 上午 12:00:00</td>\n",
       "      <td>10000066000</td>\n",
       "      <td>臺中市</td>\n",
       "      <td>Y</td>\n",
       "      <td>年</td>\n",
       "      <td>230010000102</td>\n",
       "      <td>...</td>\n",
       "      <td>NaN</td>\n",
       "      <td>0</td>\n",
       "      <td>NaN</td>\n",
       "      <td>0</td>\n",
       "      <td>NaN</td>\n",
       "      <td>387040000E</td>\n",
       "      <td>教育局</td>\n",
       "      <td>2016/12/16 上午 09:39:40</td>\n",
       "      <td>NaN</td>\n",
       "      <td>2015</td>\n",
       "    </tr>\n",
       "  </tbody>\n",
       "</table>\n",
       "<p>2 rows × 28 columns</p>\n",
       "</div>"
      ],
      "text/plain": [
       "           RptNo                 RptName StatCourseNo  \\\n",
       "0  10440-01-02-2  臺中市特殊教育學校教育經費概況(預、決算數)  1044001a017   \n",
       "1  10440-01-02-2  臺中市特殊教育學校教育經費概況(預、決算數)  1044001a017   \n",
       "\n",
       "                        StatCourseName              DataDate      PlaceNo  \\\n",
       "0  特殊教育學校教育經費概況(預、決算數)-預算數-經費來源(單位:千元)  2015/1/1 上午 12:00:00  10000066000   \n",
       "1  特殊教育學校教育經費概況(預、決算數)-預算數-經費來源(單位:千元)  2015/1/1 上午 12:00:00  10000066000   \n",
       "\n",
       "  PlaceName PeriodNo PeriodName      Complex1  ... Complex5Name  DeriveNo  \\\n",
       "0       臺中市        Y          年  230010000101  ...          NaN         0   \n",
       "1       臺中市        Y          年  230010000102  ...          NaN         0   \n",
       "\n",
       "  DeriveExplain  FValue  SValue   RptDeptNo  RptDeptName  \\\n",
       "0           NaN  488231     NaN  387040000E          教育局   \n",
       "1           NaN       0     NaN  387040000E          教育局   \n",
       "\n",
       "               CreateTime  ModifyTime    年度  \n",
       "0  2016/12/16 上午 09:39:40         NaN  2015  \n",
       "1  2016/12/16 上午 09:39:40         NaN  2015  \n",
       "\n",
       "[2 rows x 28 columns]"
      ]
     },
     "execution_count": 3,
     "metadata": {},
     "output_type": "execute_result"
    }
   ],
   "source": [
    "data.head(2)"
   ]
  },
  {
   "cell_type": "markdown",
   "id": "537f1088",
   "metadata": {},
   "source": [
    "Q2.資料後10項"
   ]
  },
  {
   "cell_type": "code",
   "execution_count": 4,
   "id": "895bde22",
   "metadata": {},
   "outputs": [
    {
     "data": {
      "text/html": [
       "<div>\n",
       "<style scoped>\n",
       "    .dataframe tbody tr th:only-of-type {\n",
       "        vertical-align: middle;\n",
       "    }\n",
       "\n",
       "    .dataframe tbody tr th {\n",
       "        vertical-align: top;\n",
       "    }\n",
       "\n",
       "    .dataframe thead th {\n",
       "        text-align: right;\n",
       "    }\n",
       "</style>\n",
       "<table border=\"1\" class=\"dataframe\">\n",
       "  <thead>\n",
       "    <tr style=\"text-align: right;\">\n",
       "      <th></th>\n",
       "      <th>RptNo</th>\n",
       "      <th>RptName</th>\n",
       "      <th>StatCourseNo</th>\n",
       "      <th>StatCourseName</th>\n",
       "      <th>DataDate</th>\n",
       "      <th>PlaceNo</th>\n",
       "      <th>PlaceName</th>\n",
       "      <th>PeriodNo</th>\n",
       "      <th>PeriodName</th>\n",
       "      <th>Complex1</th>\n",
       "      <th>...</th>\n",
       "      <th>Complex5Name</th>\n",
       "      <th>DeriveNo</th>\n",
       "      <th>DeriveExplain</th>\n",
       "      <th>FValue</th>\n",
       "      <th>SValue</th>\n",
       "      <th>RptDeptNo</th>\n",
       "      <th>RptDeptName</th>\n",
       "      <th>CreateTime</th>\n",
       "      <th>ModifyTime</th>\n",
       "      <th>年度</th>\n",
       "    </tr>\n",
       "  </thead>\n",
       "  <tbody>\n",
       "    <tr>\n",
       "      <th>134</th>\n",
       "      <td>10440-01-02-2</td>\n",
       "      <td>臺中市特殊教育學校教育經費概況(預、決算數)</td>\n",
       "      <td>1044001a020</td>\n",
       "      <td>特殊教育學校教育經費概況(預、決算數)-決算數-經費支出(單位:千元)</td>\n",
       "      <td>2018/1/1 上午 12:00:00</td>\n",
       "      <td>10000066000</td>\n",
       "      <td>臺中市</td>\n",
       "      <td>Y</td>\n",
       "      <td>年</td>\n",
       "      <td>2300100002</td>\n",
       "      <td>...</td>\n",
       "      <td>NaN</td>\n",
       "      <td>0</td>\n",
       "      <td>NaN</td>\n",
       "      <td>3882</td>\n",
       "      <td>NaN</td>\n",
       "      <td>387040000E</td>\n",
       "      <td>教育局</td>\n",
       "      <td>2019/2/27 下午 02:09:53</td>\n",
       "      <td>2019/3/4 上午 11:40:37</td>\n",
       "      <td>2018</td>\n",
       "    </tr>\n",
       "    <tr>\n",
       "      <th>135</th>\n",
       "      <td>10440-01-02-2</td>\n",
       "      <td>臺中市特殊教育學校教育經費概況(預、決算數)</td>\n",
       "      <td>1044001a020</td>\n",
       "      <td>特殊教育學校教育經費概況(預、決算數)-決算數-經費支出(單位:千元)</td>\n",
       "      <td>2018/1/1 上午 12:00:00</td>\n",
       "      <td>10000066000</td>\n",
       "      <td>臺中市</td>\n",
       "      <td>Y</td>\n",
       "      <td>年</td>\n",
       "      <td>230010000101</td>\n",
       "      <td>...</td>\n",
       "      <td>NaN</td>\n",
       "      <td>0</td>\n",
       "      <td>NaN</td>\n",
       "      <td>0</td>\n",
       "      <td>NaN</td>\n",
       "      <td>387040000E</td>\n",
       "      <td>教育局</td>\n",
       "      <td>2019/2/27 下午 02:09:53</td>\n",
       "      <td>2019/3/4 上午 11:40:37</td>\n",
       "      <td>2018</td>\n",
       "    </tr>\n",
       "    <tr>\n",
       "      <th>136</th>\n",
       "      <td>10440-01-02-2</td>\n",
       "      <td>臺中市特殊教育學校教育經費概況(預、決算數)</td>\n",
       "      <td>1044001a020</td>\n",
       "      <td>特殊教育學校教育經費概況(預、決算數)-決算數-經費支出(單位:千元)</td>\n",
       "      <td>2018/1/1 上午 12:00:00</td>\n",
       "      <td>10000066000</td>\n",
       "      <td>臺中市</td>\n",
       "      <td>Y</td>\n",
       "      <td>年</td>\n",
       "      <td>230010000102</td>\n",
       "      <td>...</td>\n",
       "      <td>NaN</td>\n",
       "      <td>0</td>\n",
       "      <td>NaN</td>\n",
       "      <td>0</td>\n",
       "      <td>NaN</td>\n",
       "      <td>387040000E</td>\n",
       "      <td>教育局</td>\n",
       "      <td>2019/2/27 下午 02:09:53</td>\n",
       "      <td>2019/3/4 上午 11:40:37</td>\n",
       "      <td>2018</td>\n",
       "    </tr>\n",
       "    <tr>\n",
       "      <th>137</th>\n",
       "      <td>10440-01-02-2</td>\n",
       "      <td>臺中市特殊教育學校教育經費概況(預、決算數)</td>\n",
       "      <td>1044001a020</td>\n",
       "      <td>特殊教育學校教育經費概況(預、決算數)-決算數-經費支出(單位:千元)</td>\n",
       "      <td>2018/1/1 上午 12:00:00</td>\n",
       "      <td>10000066000</td>\n",
       "      <td>臺中市</td>\n",
       "      <td>Y</td>\n",
       "      <td>年</td>\n",
       "      <td>2300100002</td>\n",
       "      <td>...</td>\n",
       "      <td>NaN</td>\n",
       "      <td>0</td>\n",
       "      <td>NaN</td>\n",
       "      <td>0</td>\n",
       "      <td>NaN</td>\n",
       "      <td>387040000E</td>\n",
       "      <td>教育局</td>\n",
       "      <td>2019/2/27 下午 02:09:53</td>\n",
       "      <td>2019/3/4 上午 11:40:37</td>\n",
       "      <td>2018</td>\n",
       "    </tr>\n",
       "    <tr>\n",
       "      <th>138</th>\n",
       "      <td>10440-01-02-2</td>\n",
       "      <td>臺中市特殊教育學校教育經費概況(預、決算數)</td>\n",
       "      <td>1044001a020</td>\n",
       "      <td>特殊教育學校教育經費概況(預、決算數)-決算數-經費支出(單位:千元)</td>\n",
       "      <td>2018/1/1 上午 12:00:00</td>\n",
       "      <td>10000066000</td>\n",
       "      <td>臺中市</td>\n",
       "      <td>Y</td>\n",
       "      <td>年</td>\n",
       "      <td>230010000101</td>\n",
       "      <td>...</td>\n",
       "      <td>NaN</td>\n",
       "      <td>0</td>\n",
       "      <td>NaN</td>\n",
       "      <td>0</td>\n",
       "      <td>NaN</td>\n",
       "      <td>387040000E</td>\n",
       "      <td>教育局</td>\n",
       "      <td>2019/2/27 下午 02:09:53</td>\n",
       "      <td>2019/3/4 上午 11:40:37</td>\n",
       "      <td>2018</td>\n",
       "    </tr>\n",
       "    <tr>\n",
       "      <th>139</th>\n",
       "      <td>10440-01-02-2</td>\n",
       "      <td>臺中市特殊教育學校教育經費概況(預、決算數)</td>\n",
       "      <td>1044001a020</td>\n",
       "      <td>特殊教育學校教育經費概況(預、決算數)-決算數-經費支出(單位:千元)</td>\n",
       "      <td>2018/1/1 上午 12:00:00</td>\n",
       "      <td>10000066000</td>\n",
       "      <td>臺中市</td>\n",
       "      <td>Y</td>\n",
       "      <td>年</td>\n",
       "      <td>230010000102</td>\n",
       "      <td>...</td>\n",
       "      <td>NaN</td>\n",
       "      <td>0</td>\n",
       "      <td>NaN</td>\n",
       "      <td>0</td>\n",
       "      <td>NaN</td>\n",
       "      <td>387040000E</td>\n",
       "      <td>教育局</td>\n",
       "      <td>2019/2/27 下午 02:09:53</td>\n",
       "      <td>2019/3/4 上午 11:40:37</td>\n",
       "      <td>2018</td>\n",
       "    </tr>\n",
       "    <tr>\n",
       "      <th>140</th>\n",
       "      <td>10440-01-02-2</td>\n",
       "      <td>臺中市特殊教育學校教育經費概況(預、決算數)</td>\n",
       "      <td>1044001a020</td>\n",
       "      <td>特殊教育學校教育經費概況(預、決算數)-決算數-經費支出(單位:千元)</td>\n",
       "      <td>2018/1/1 上午 12:00:00</td>\n",
       "      <td>10000066000</td>\n",
       "      <td>臺中市</td>\n",
       "      <td>Y</td>\n",
       "      <td>年</td>\n",
       "      <td>2300100002</td>\n",
       "      <td>...</td>\n",
       "      <td>NaN</td>\n",
       "      <td>0</td>\n",
       "      <td>NaN</td>\n",
       "      <td>499</td>\n",
       "      <td>NaN</td>\n",
       "      <td>387040000E</td>\n",
       "      <td>教育局</td>\n",
       "      <td>2019/2/27 下午 02:09:53</td>\n",
       "      <td>2019/3/4 上午 11:40:37</td>\n",
       "      <td>2018</td>\n",
       "    </tr>\n",
       "    <tr>\n",
       "      <th>141</th>\n",
       "      <td>10440-01-02-2</td>\n",
       "      <td>臺中市特殊教育學校教育經費概況(預、決算數)</td>\n",
       "      <td>1044001a020</td>\n",
       "      <td>特殊教育學校教育經費概況(預、決算數)-決算數-經費支出(單位:千元)</td>\n",
       "      <td>2018/1/1 上午 12:00:00</td>\n",
       "      <td>10000066000</td>\n",
       "      <td>臺中市</td>\n",
       "      <td>Y</td>\n",
       "      <td>年</td>\n",
       "      <td>230010000101</td>\n",
       "      <td>...</td>\n",
       "      <td>NaN</td>\n",
       "      <td>0</td>\n",
       "      <td>NaN</td>\n",
       "      <td>0</td>\n",
       "      <td>NaN</td>\n",
       "      <td>387040000E</td>\n",
       "      <td>教育局</td>\n",
       "      <td>2019/2/27 下午 02:09:53</td>\n",
       "      <td>2019/3/4 上午 11:40:37</td>\n",
       "      <td>2018</td>\n",
       "    </tr>\n",
       "    <tr>\n",
       "      <th>142</th>\n",
       "      <td>10440-01-02-2</td>\n",
       "      <td>臺中市特殊教育學校教育經費概況(預、決算數)</td>\n",
       "      <td>1044001a020</td>\n",
       "      <td>特殊教育學校教育經費概況(預、決算數)-決算數-經費支出(單位:千元)</td>\n",
       "      <td>2018/1/1 上午 12:00:00</td>\n",
       "      <td>10000066000</td>\n",
       "      <td>臺中市</td>\n",
       "      <td>Y</td>\n",
       "      <td>年</td>\n",
       "      <td>230010000102</td>\n",
       "      <td>...</td>\n",
       "      <td>NaN</td>\n",
       "      <td>0</td>\n",
       "      <td>NaN</td>\n",
       "      <td>27140</td>\n",
       "      <td>NaN</td>\n",
       "      <td>387040000E</td>\n",
       "      <td>教育局</td>\n",
       "      <td>2019/2/27 下午 02:09:53</td>\n",
       "      <td>2019/3/4 上午 11:40:37</td>\n",
       "      <td>2018</td>\n",
       "    </tr>\n",
       "    <tr>\n",
       "      <th>143</th>\n",
       "      <td>10440-01-02-2</td>\n",
       "      <td>臺中市特殊教育學校教育經費概況(預、決算數)</td>\n",
       "      <td>1044001a020</td>\n",
       "      <td>特殊教育學校教育經費概況(預、決算數)-決算數-經費支出(單位:千元)</td>\n",
       "      <td>2018/1/1 上午 12:00:00</td>\n",
       "      <td>10000066000</td>\n",
       "      <td>臺中市</td>\n",
       "      <td>Y</td>\n",
       "      <td>年</td>\n",
       "      <td>2300100002</td>\n",
       "      <td>...</td>\n",
       "      <td>NaN</td>\n",
       "      <td>0</td>\n",
       "      <td>NaN</td>\n",
       "      <td>6023</td>\n",
       "      <td>NaN</td>\n",
       "      <td>387040000E</td>\n",
       "      <td>教育局</td>\n",
       "      <td>2019/2/27 下午 02:09:53</td>\n",
       "      <td>2019/3/4 上午 11:40:37</td>\n",
       "      <td>2018</td>\n",
       "    </tr>\n",
       "  </tbody>\n",
       "</table>\n",
       "<p>10 rows × 28 columns</p>\n",
       "</div>"
      ],
      "text/plain": [
       "             RptNo                 RptName StatCourseNo  \\\n",
       "134  10440-01-02-2  臺中市特殊教育學校教育經費概況(預、決算數)  1044001a020   \n",
       "135  10440-01-02-2  臺中市特殊教育學校教育經費概況(預、決算數)  1044001a020   \n",
       "136  10440-01-02-2  臺中市特殊教育學校教育經費概況(預、決算數)  1044001a020   \n",
       "137  10440-01-02-2  臺中市特殊教育學校教育經費概況(預、決算數)  1044001a020   \n",
       "138  10440-01-02-2  臺中市特殊教育學校教育經費概況(預、決算數)  1044001a020   \n",
       "139  10440-01-02-2  臺中市特殊教育學校教育經費概況(預、決算數)  1044001a020   \n",
       "140  10440-01-02-2  臺中市特殊教育學校教育經費概況(預、決算數)  1044001a020   \n",
       "141  10440-01-02-2  臺中市特殊教育學校教育經費概況(預、決算數)  1044001a020   \n",
       "142  10440-01-02-2  臺中市特殊教育學校教育經費概況(預、決算數)  1044001a020   \n",
       "143  10440-01-02-2  臺中市特殊教育學校教育經費概況(預、決算數)  1044001a020   \n",
       "\n",
       "                          StatCourseName              DataDate      PlaceNo  \\\n",
       "134  特殊教育學校教育經費概況(預、決算數)-決算數-經費支出(單位:千元)  2018/1/1 上午 12:00:00  10000066000   \n",
       "135  特殊教育學校教育經費概況(預、決算數)-決算數-經費支出(單位:千元)  2018/1/1 上午 12:00:00  10000066000   \n",
       "136  特殊教育學校教育經費概況(預、決算數)-決算數-經費支出(單位:千元)  2018/1/1 上午 12:00:00  10000066000   \n",
       "137  特殊教育學校教育經費概況(預、決算數)-決算數-經費支出(單位:千元)  2018/1/1 上午 12:00:00  10000066000   \n",
       "138  特殊教育學校教育經費概況(預、決算數)-決算數-經費支出(單位:千元)  2018/1/1 上午 12:00:00  10000066000   \n",
       "139  特殊教育學校教育經費概況(預、決算數)-決算數-經費支出(單位:千元)  2018/1/1 上午 12:00:00  10000066000   \n",
       "140  特殊教育學校教育經費概況(預、決算數)-決算數-經費支出(單位:千元)  2018/1/1 上午 12:00:00  10000066000   \n",
       "141  特殊教育學校教育經費概況(預、決算數)-決算數-經費支出(單位:千元)  2018/1/1 上午 12:00:00  10000066000   \n",
       "142  特殊教育學校教育經費概況(預、決算數)-決算數-經費支出(單位:千元)  2018/1/1 上午 12:00:00  10000066000   \n",
       "143  特殊教育學校教育經費概況(預、決算數)-決算數-經費支出(單位:千元)  2018/1/1 上午 12:00:00  10000066000   \n",
       "\n",
       "    PlaceName PeriodNo PeriodName      Complex1  ... Complex5Name  DeriveNo  \\\n",
       "134       臺中市        Y          年    2300100002  ...          NaN         0   \n",
       "135       臺中市        Y          年  230010000101  ...          NaN         0   \n",
       "136       臺中市        Y          年  230010000102  ...          NaN         0   \n",
       "137       臺中市        Y          年    2300100002  ...          NaN         0   \n",
       "138       臺中市        Y          年  230010000101  ...          NaN         0   \n",
       "139       臺中市        Y          年  230010000102  ...          NaN         0   \n",
       "140       臺中市        Y          年    2300100002  ...          NaN         0   \n",
       "141       臺中市        Y          年  230010000101  ...          NaN         0   \n",
       "142       臺中市        Y          年  230010000102  ...          NaN         0   \n",
       "143       臺中市        Y          年    2300100002  ...          NaN         0   \n",
       "\n",
       "    DeriveExplain  FValue  SValue   RptDeptNo  RptDeptName  \\\n",
       "134           NaN    3882     NaN  387040000E          教育局   \n",
       "135           NaN       0     NaN  387040000E          教育局   \n",
       "136           NaN       0     NaN  387040000E          教育局   \n",
       "137           NaN       0     NaN  387040000E          教育局   \n",
       "138           NaN       0     NaN  387040000E          教育局   \n",
       "139           NaN       0     NaN  387040000E          教育局   \n",
       "140           NaN     499     NaN  387040000E          教育局   \n",
       "141           NaN       0     NaN  387040000E          教育局   \n",
       "142           NaN   27140     NaN  387040000E          教育局   \n",
       "143           NaN    6023     NaN  387040000E          教育局   \n",
       "\n",
       "                CreateTime            ModifyTime    年度  \n",
       "134  2019/2/27 下午 02:09:53  2019/3/4 上午 11:40:37  2018  \n",
       "135  2019/2/27 下午 02:09:53  2019/3/4 上午 11:40:37  2018  \n",
       "136  2019/2/27 下午 02:09:53  2019/3/4 上午 11:40:37  2018  \n",
       "137  2019/2/27 下午 02:09:53  2019/3/4 上午 11:40:37  2018  \n",
       "138  2019/2/27 下午 02:09:53  2019/3/4 上午 11:40:37  2018  \n",
       "139  2019/2/27 下午 02:09:53  2019/3/4 上午 11:40:37  2018  \n",
       "140  2019/2/27 下午 02:09:53  2019/3/4 上午 11:40:37  2018  \n",
       "141  2019/2/27 下午 02:09:53  2019/3/4 上午 11:40:37  2018  \n",
       "142  2019/2/27 下午 02:09:53  2019/3/4 上午 11:40:37  2018  \n",
       "143  2019/2/27 下午 02:09:53  2019/3/4 上午 11:40:37  2018  \n",
       "\n",
       "[10 rows x 28 columns]"
      ]
     },
     "execution_count": 4,
     "metadata": {},
     "output_type": "execute_result"
    }
   ],
   "source": [
    "data.tail(10)"
   ]
  },
  {
   "cell_type": "markdown",
   "id": "d9380d9a",
   "metadata": {},
   "source": [
    "Q3. 計算國、市、私立 資料數"
   ]
  },
  {
   "cell_type": "code",
   "execution_count": 5,
   "id": "0a83e532",
   "metadata": {},
   "outputs": [
    {
     "data": {
      "text/plain": [
       "國立    48\n",
       "市立    48\n",
       "私立    48\n",
       "Name: ComplexName, dtype: int64"
      ]
     },
     "execution_count": 5,
     "metadata": {},
     "output_type": "execute_result"
    }
   ],
   "source": [
    "counts = data['ComplexName'].value_counts()\n",
    "counts"
   ]
  },
  {
   "cell_type": "markdown",
   "id": "370a40e6",
   "metadata": {},
   "source": [
    "Q4. 支出種類及對應資料數"
   ]
  },
  {
   "cell_type": "code",
   "execution_count": 6,
   "id": "6967f843",
   "metadata": {},
   "outputs": [
    {
     "data": {
      "text/plain": [
       "經常支出        24\n",
       "資本支出        24\n",
       "償還借款        24\n",
       "經常支出報廢金額    24\n",
       "折舊、折耗及攤銷    24\n",
       "Name: Complex2Name, dtype: int64"
      ]
     },
     "execution_count": 6,
     "metadata": {},
     "output_type": "execute_result"
    }
   ],
   "source": [
    "支出種類 = data['Complex2Name'].value_counts()\n",
    "支出種類"
   ]
  },
  {
   "cell_type": "markdown",
   "id": "40617cfd",
   "metadata": {},
   "source": [
    "Q5. 各國市私立所對應之支出種類金額"
   ]
  },
  {
   "cell_type": "code",
   "execution_count": 7,
   "id": "826fb0a4",
   "metadata": {
    "scrolled": false
   },
   "outputs": [
    {
     "data": {
      "text/html": [
       "<div>\n",
       "<style scoped>\n",
       "    .dataframe tbody tr th:only-of-type {\n",
       "        vertical-align: middle;\n",
       "    }\n",
       "\n",
       "    .dataframe tbody tr th {\n",
       "        vertical-align: top;\n",
       "    }\n",
       "\n",
       "    .dataframe thead th {\n",
       "        text-align: right;\n",
       "    }\n",
       "</style>\n",
       "<table border=\"1\" class=\"dataframe\">\n",
       "  <thead>\n",
       "    <tr style=\"text-align: right;\">\n",
       "      <th></th>\n",
       "      <th>ComplexName</th>\n",
       "      <th>Complex2Name</th>\n",
       "      <th>FValue</th>\n",
       "      <th>年度</th>\n",
       "    </tr>\n",
       "  </thead>\n",
       "  <tbody>\n",
       "    <tr>\n",
       "      <th>0</th>\n",
       "      <td>國立</td>\n",
       "      <td>NaN</td>\n",
       "      <td>488231</td>\n",
       "      <td>2015</td>\n",
       "    </tr>\n",
       "    <tr>\n",
       "      <th>1</th>\n",
       "      <td>市立</td>\n",
       "      <td>NaN</td>\n",
       "      <td>0</td>\n",
       "      <td>2015</td>\n",
       "    </tr>\n",
       "    <tr>\n",
       "      <th>2</th>\n",
       "      <td>私立</td>\n",
       "      <td>NaN</td>\n",
       "      <td>65936</td>\n",
       "      <td>2015</td>\n",
       "    </tr>\n",
       "    <tr>\n",
       "      <th>3</th>\n",
       "      <td>國立</td>\n",
       "      <td>經常支出</td>\n",
       "      <td>481303</td>\n",
       "      <td>2015</td>\n",
       "    </tr>\n",
       "    <tr>\n",
       "      <th>4</th>\n",
       "      <td>市立</td>\n",
       "      <td>經常支出</td>\n",
       "      <td>0</td>\n",
       "      <td>2015</td>\n",
       "    </tr>\n",
       "    <tr>\n",
       "      <th>...</th>\n",
       "      <td>...</td>\n",
       "      <td>...</td>\n",
       "      <td>...</td>\n",
       "      <td>...</td>\n",
       "    </tr>\n",
       "    <tr>\n",
       "      <th>139</th>\n",
       "      <td>市立</td>\n",
       "      <td>經常支出報廢金額</td>\n",
       "      <td>0</td>\n",
       "      <td>2018</td>\n",
       "    </tr>\n",
       "    <tr>\n",
       "      <th>140</th>\n",
       "      <td>私立</td>\n",
       "      <td>經常支出報廢金額</td>\n",
       "      <td>499</td>\n",
       "      <td>2018</td>\n",
       "    </tr>\n",
       "    <tr>\n",
       "      <th>141</th>\n",
       "      <td>國立</td>\n",
       "      <td>折舊、折耗及攤銷</td>\n",
       "      <td>0</td>\n",
       "      <td>2018</td>\n",
       "    </tr>\n",
       "    <tr>\n",
       "      <th>142</th>\n",
       "      <td>市立</td>\n",
       "      <td>折舊、折耗及攤銷</td>\n",
       "      <td>27140</td>\n",
       "      <td>2018</td>\n",
       "    </tr>\n",
       "    <tr>\n",
       "      <th>143</th>\n",
       "      <td>私立</td>\n",
       "      <td>折舊、折耗及攤銷</td>\n",
       "      <td>6023</td>\n",
       "      <td>2018</td>\n",
       "    </tr>\n",
       "  </tbody>\n",
       "</table>\n",
       "<p>144 rows × 4 columns</p>\n",
       "</div>"
      ],
      "text/plain": [
       "    ComplexName Complex2Name  FValue    年度\n",
       "0            國立          NaN  488231  2015\n",
       "1            市立          NaN       0  2015\n",
       "2            私立          NaN   65936  2015\n",
       "3            國立         經常支出  481303  2015\n",
       "4            市立         經常支出       0  2015\n",
       "..          ...          ...     ...   ...\n",
       "139          市立     經常支出報廢金額       0  2018\n",
       "140          私立     經常支出報廢金額     499  2018\n",
       "141          國立     折舊、折耗及攤銷       0  2018\n",
       "142          市立     折舊、折耗及攤銷   27140  2018\n",
       "143          私立     折舊、折耗及攤銷    6023  2018\n",
       "\n",
       "[144 rows x 4 columns]"
      ]
     },
     "execution_count": 7,
     "metadata": {},
     "output_type": "execute_result"
    }
   ],
   "source": [
    "對應支出金額 = data[['ComplexName','Complex2Name', 'FValue','年度']]\n",
    "對應支出金額"
   ]
  },
  {
   "cell_type": "markdown",
   "id": "9dfcf673",
   "metadata": {},
   "source": [
    "Q6. 找出國立對應之支出種類金額"
   ]
  },
  {
   "cell_type": "code",
   "execution_count": 8,
   "id": "0c493134",
   "metadata": {
    "scrolled": false
   },
   "outputs": [
    {
     "data": {
      "text/plain": [
       "0       True\n",
       "1      False\n",
       "2      False\n",
       "3       True\n",
       "4      False\n",
       "       ...  \n",
       "139    False\n",
       "140    False\n",
       "141     True\n",
       "142    False\n",
       "143    False\n",
       "Name: ComplexName, Length: 144, dtype: bool"
      ]
     },
     "execution_count": 8,
     "metadata": {},
     "output_type": "execute_result"
    }
   ],
   "source": [
    "對應支出金額[\"ComplexName\"] == \"國立\""
   ]
  },
  {
   "cell_type": "code",
   "execution_count": 9,
   "id": "2ba7efb8",
   "metadata": {
    "scrolled": true
   },
   "outputs": [
    {
     "data": {
      "text/html": [
       "<div>\n",
       "<style scoped>\n",
       "    .dataframe tbody tr th:only-of-type {\n",
       "        vertical-align: middle;\n",
       "    }\n",
       "\n",
       "    .dataframe tbody tr th {\n",
       "        vertical-align: top;\n",
       "    }\n",
       "\n",
       "    .dataframe thead th {\n",
       "        text-align: right;\n",
       "    }\n",
       "</style>\n",
       "<table border=\"1\" class=\"dataframe\">\n",
       "  <thead>\n",
       "    <tr style=\"text-align: right;\">\n",
       "      <th></th>\n",
       "      <th>ComplexName</th>\n",
       "      <th>Complex2Name</th>\n",
       "      <th>FValue</th>\n",
       "      <th>年度</th>\n",
       "    </tr>\n",
       "  </thead>\n",
       "  <tbody>\n",
       "    <tr>\n",
       "      <th>0</th>\n",
       "      <td>國立</td>\n",
       "      <td>NaN</td>\n",
       "      <td>488231</td>\n",
       "      <td>2015</td>\n",
       "    </tr>\n",
       "    <tr>\n",
       "      <th>3</th>\n",
       "      <td>國立</td>\n",
       "      <td>經常支出</td>\n",
       "      <td>481303</td>\n",
       "      <td>2015</td>\n",
       "    </tr>\n",
       "    <tr>\n",
       "      <th>6</th>\n",
       "      <td>國立</td>\n",
       "      <td>資本支出</td>\n",
       "      <td>29063</td>\n",
       "      <td>2015</td>\n",
       "    </tr>\n",
       "    <tr>\n",
       "      <th>9</th>\n",
       "      <td>國立</td>\n",
       "      <td>償還借款</td>\n",
       "      <td>0</td>\n",
       "      <td>2015</td>\n",
       "    </tr>\n",
       "    <tr>\n",
       "      <th>12</th>\n",
       "      <td>國立</td>\n",
       "      <td>經常支出報廢金額</td>\n",
       "      <td>0</td>\n",
       "      <td>2015</td>\n",
       "    </tr>\n",
       "    <tr>\n",
       "      <th>15</th>\n",
       "      <td>國立</td>\n",
       "      <td>折舊、折耗及攤銷</td>\n",
       "      <td>62880</td>\n",
       "      <td>2015</td>\n",
       "    </tr>\n",
       "    <tr>\n",
       "      <th>18</th>\n",
       "      <td>國立</td>\n",
       "      <td>NaN</td>\n",
       "      <td>498796</td>\n",
       "      <td>2015</td>\n",
       "    </tr>\n",
       "    <tr>\n",
       "      <th>21</th>\n",
       "      <td>國立</td>\n",
       "      <td>經常支出</td>\n",
       "      <td>445445</td>\n",
       "      <td>2015</td>\n",
       "    </tr>\n",
       "    <tr>\n",
       "      <th>24</th>\n",
       "      <td>國立</td>\n",
       "      <td>資本支出</td>\n",
       "      <td>18682</td>\n",
       "      <td>2015</td>\n",
       "    </tr>\n",
       "    <tr>\n",
       "      <th>27</th>\n",
       "      <td>國立</td>\n",
       "      <td>償還借款</td>\n",
       "      <td>0</td>\n",
       "      <td>2015</td>\n",
       "    </tr>\n",
       "    <tr>\n",
       "      <th>30</th>\n",
       "      <td>國立</td>\n",
       "      <td>經常支出報廢金額</td>\n",
       "      <td>0</td>\n",
       "      <td>2015</td>\n",
       "    </tr>\n",
       "    <tr>\n",
       "      <th>33</th>\n",
       "      <td>國立</td>\n",
       "      <td>折舊、折耗及攤銷</td>\n",
       "      <td>74784</td>\n",
       "      <td>2015</td>\n",
       "    </tr>\n",
       "    <tr>\n",
       "      <th>36</th>\n",
       "      <td>國立</td>\n",
       "      <td>NaN</td>\n",
       "      <td>522490</td>\n",
       "      <td>2016</td>\n",
       "    </tr>\n",
       "    <tr>\n",
       "      <th>39</th>\n",
       "      <td>國立</td>\n",
       "      <td>經常支出</td>\n",
       "      <td>492093</td>\n",
       "      <td>2016</td>\n",
       "    </tr>\n",
       "    <tr>\n",
       "      <th>42</th>\n",
       "      <td>國立</td>\n",
       "      <td>資本支出</td>\n",
       "      <td>36622</td>\n",
       "      <td>2016</td>\n",
       "    </tr>\n",
       "    <tr>\n",
       "      <th>45</th>\n",
       "      <td>國立</td>\n",
       "      <td>償還借款</td>\n",
       "      <td>0</td>\n",
       "      <td>2016</td>\n",
       "    </tr>\n",
       "    <tr>\n",
       "      <th>48</th>\n",
       "      <td>國立</td>\n",
       "      <td>經常支出報廢金額</td>\n",
       "      <td>0</td>\n",
       "      <td>2016</td>\n",
       "    </tr>\n",
       "    <tr>\n",
       "      <th>51</th>\n",
       "      <td>國立</td>\n",
       "      <td>折舊、折耗及攤銷</td>\n",
       "      <td>66385</td>\n",
       "      <td>2016</td>\n",
       "    </tr>\n",
       "    <tr>\n",
       "      <th>54</th>\n",
       "      <td>國立</td>\n",
       "      <td>NaN</td>\n",
       "      <td>526408</td>\n",
       "      <td>2016</td>\n",
       "    </tr>\n",
       "    <tr>\n",
       "      <th>57</th>\n",
       "      <td>國立</td>\n",
       "      <td>經常支出</td>\n",
       "      <td>464759</td>\n",
       "      <td>2016</td>\n",
       "    </tr>\n",
       "    <tr>\n",
       "      <th>60</th>\n",
       "      <td>國立</td>\n",
       "      <td>資本支出</td>\n",
       "      <td>28930</td>\n",
       "      <td>2016</td>\n",
       "    </tr>\n",
       "    <tr>\n",
       "      <th>63</th>\n",
       "      <td>國立</td>\n",
       "      <td>償還借款</td>\n",
       "      <td>0</td>\n",
       "      <td>2016</td>\n",
       "    </tr>\n",
       "    <tr>\n",
       "      <th>66</th>\n",
       "      <td>國立</td>\n",
       "      <td>經常支出報廢金額</td>\n",
       "      <td>0</td>\n",
       "      <td>2016</td>\n",
       "    </tr>\n",
       "    <tr>\n",
       "      <th>69</th>\n",
       "      <td>國立</td>\n",
       "      <td>折舊、折耗及攤銷</td>\n",
       "      <td>63419</td>\n",
       "      <td>2016</td>\n",
       "    </tr>\n",
       "    <tr>\n",
       "      <th>72</th>\n",
       "      <td>國立</td>\n",
       "      <td>NaN</td>\n",
       "      <td>0</td>\n",
       "      <td>2017</td>\n",
       "    </tr>\n",
       "    <tr>\n",
       "      <th>75</th>\n",
       "      <td>國立</td>\n",
       "      <td>經常支出</td>\n",
       "      <td>0</td>\n",
       "      <td>2017</td>\n",
       "    </tr>\n",
       "    <tr>\n",
       "      <th>78</th>\n",
       "      <td>國立</td>\n",
       "      <td>資本支出</td>\n",
       "      <td>0</td>\n",
       "      <td>2017</td>\n",
       "    </tr>\n",
       "    <tr>\n",
       "      <th>81</th>\n",
       "      <td>國立</td>\n",
       "      <td>償還借款</td>\n",
       "      <td>0</td>\n",
       "      <td>2017</td>\n",
       "    </tr>\n",
       "    <tr>\n",
       "      <th>84</th>\n",
       "      <td>國立</td>\n",
       "      <td>經常支出報廢金額</td>\n",
       "      <td>0</td>\n",
       "      <td>2017</td>\n",
       "    </tr>\n",
       "    <tr>\n",
       "      <th>87</th>\n",
       "      <td>國立</td>\n",
       "      <td>折舊、折耗及攤銷</td>\n",
       "      <td>0</td>\n",
       "      <td>2017</td>\n",
       "    </tr>\n",
       "    <tr>\n",
       "      <th>90</th>\n",
       "      <td>國立</td>\n",
       "      <td>NaN</td>\n",
       "      <td>0</td>\n",
       "      <td>2017</td>\n",
       "    </tr>\n",
       "    <tr>\n",
       "      <th>93</th>\n",
       "      <td>國立</td>\n",
       "      <td>經常支出</td>\n",
       "      <td>0</td>\n",
       "      <td>2017</td>\n",
       "    </tr>\n",
       "    <tr>\n",
       "      <th>96</th>\n",
       "      <td>國立</td>\n",
       "      <td>資本支出</td>\n",
       "      <td>0</td>\n",
       "      <td>2017</td>\n",
       "    </tr>\n",
       "    <tr>\n",
       "      <th>99</th>\n",
       "      <td>國立</td>\n",
       "      <td>償還借款</td>\n",
       "      <td>0</td>\n",
       "      <td>2017</td>\n",
       "    </tr>\n",
       "    <tr>\n",
       "      <th>102</th>\n",
       "      <td>國立</td>\n",
       "      <td>經常支出報廢金額</td>\n",
       "      <td>0</td>\n",
       "      <td>2017</td>\n",
       "    </tr>\n",
       "    <tr>\n",
       "      <th>105</th>\n",
       "      <td>國立</td>\n",
       "      <td>折舊、折耗及攤銷</td>\n",
       "      <td>0</td>\n",
       "      <td>2017</td>\n",
       "    </tr>\n",
       "    <tr>\n",
       "      <th>108</th>\n",
       "      <td>國立</td>\n",
       "      <td>NaN</td>\n",
       "      <td>0</td>\n",
       "      <td>2018</td>\n",
       "    </tr>\n",
       "    <tr>\n",
       "      <th>111</th>\n",
       "      <td>國立</td>\n",
       "      <td>經常支出</td>\n",
       "      <td>0</td>\n",
       "      <td>2018</td>\n",
       "    </tr>\n",
       "    <tr>\n",
       "      <th>114</th>\n",
       "      <td>國立</td>\n",
       "      <td>資本支出</td>\n",
       "      <td>0</td>\n",
       "      <td>2018</td>\n",
       "    </tr>\n",
       "    <tr>\n",
       "      <th>117</th>\n",
       "      <td>國立</td>\n",
       "      <td>償還借款</td>\n",
       "      <td>0</td>\n",
       "      <td>2018</td>\n",
       "    </tr>\n",
       "    <tr>\n",
       "      <th>120</th>\n",
       "      <td>國立</td>\n",
       "      <td>經常支出報廢金額</td>\n",
       "      <td>0</td>\n",
       "      <td>2018</td>\n",
       "    </tr>\n",
       "    <tr>\n",
       "      <th>123</th>\n",
       "      <td>國立</td>\n",
       "      <td>折舊、折耗及攤銷</td>\n",
       "      <td>0</td>\n",
       "      <td>2018</td>\n",
       "    </tr>\n",
       "    <tr>\n",
       "      <th>126</th>\n",
       "      <td>國立</td>\n",
       "      <td>NaN</td>\n",
       "      <td>0</td>\n",
       "      <td>2018</td>\n",
       "    </tr>\n",
       "    <tr>\n",
       "      <th>129</th>\n",
       "      <td>國立</td>\n",
       "      <td>經常支出</td>\n",
       "      <td>0</td>\n",
       "      <td>2018</td>\n",
       "    </tr>\n",
       "    <tr>\n",
       "      <th>132</th>\n",
       "      <td>國立</td>\n",
       "      <td>資本支出</td>\n",
       "      <td>0</td>\n",
       "      <td>2018</td>\n",
       "    </tr>\n",
       "    <tr>\n",
       "      <th>135</th>\n",
       "      <td>國立</td>\n",
       "      <td>償還借款</td>\n",
       "      <td>0</td>\n",
       "      <td>2018</td>\n",
       "    </tr>\n",
       "    <tr>\n",
       "      <th>138</th>\n",
       "      <td>國立</td>\n",
       "      <td>經常支出報廢金額</td>\n",
       "      <td>0</td>\n",
       "      <td>2018</td>\n",
       "    </tr>\n",
       "    <tr>\n",
       "      <th>141</th>\n",
       "      <td>國立</td>\n",
       "      <td>折舊、折耗及攤銷</td>\n",
       "      <td>0</td>\n",
       "      <td>2018</td>\n",
       "    </tr>\n",
       "  </tbody>\n",
       "</table>\n",
       "</div>"
      ],
      "text/plain": [
       "    ComplexName Complex2Name  FValue    年度\n",
       "0            國立          NaN  488231  2015\n",
       "3            國立         經常支出  481303  2015\n",
       "6            國立         資本支出   29063  2015\n",
       "9            國立         償還借款       0  2015\n",
       "12           國立     經常支出報廢金額       0  2015\n",
       "15           國立     折舊、折耗及攤銷   62880  2015\n",
       "18           國立          NaN  498796  2015\n",
       "21           國立         經常支出  445445  2015\n",
       "24           國立         資本支出   18682  2015\n",
       "27           國立         償還借款       0  2015\n",
       "30           國立     經常支出報廢金額       0  2015\n",
       "33           國立     折舊、折耗及攤銷   74784  2015\n",
       "36           國立          NaN  522490  2016\n",
       "39           國立         經常支出  492093  2016\n",
       "42           國立         資本支出   36622  2016\n",
       "45           國立         償還借款       0  2016\n",
       "48           國立     經常支出報廢金額       0  2016\n",
       "51           國立     折舊、折耗及攤銷   66385  2016\n",
       "54           國立          NaN  526408  2016\n",
       "57           國立         經常支出  464759  2016\n",
       "60           國立         資本支出   28930  2016\n",
       "63           國立         償還借款       0  2016\n",
       "66           國立     經常支出報廢金額       0  2016\n",
       "69           國立     折舊、折耗及攤銷   63419  2016\n",
       "72           國立          NaN       0  2017\n",
       "75           國立         經常支出       0  2017\n",
       "78           國立         資本支出       0  2017\n",
       "81           國立         償還借款       0  2017\n",
       "84           國立     經常支出報廢金額       0  2017\n",
       "87           國立     折舊、折耗及攤銷       0  2017\n",
       "90           國立          NaN       0  2017\n",
       "93           國立         經常支出       0  2017\n",
       "96           國立         資本支出       0  2017\n",
       "99           國立         償還借款       0  2017\n",
       "102          國立     經常支出報廢金額       0  2017\n",
       "105          國立     折舊、折耗及攤銷       0  2017\n",
       "108          國立          NaN       0  2018\n",
       "111          國立         經常支出       0  2018\n",
       "114          國立         資本支出       0  2018\n",
       "117          國立         償還借款       0  2018\n",
       "120          國立     經常支出報廢金額       0  2018\n",
       "123          國立     折舊、折耗及攤銷       0  2018\n",
       "126          國立          NaN       0  2018\n",
       "129          國立         經常支出       0  2018\n",
       "132          國立         資本支出       0  2018\n",
       "135          國立         償還借款       0  2018\n",
       "138          國立     經常支出報廢金額       0  2018\n",
       "141          國立     折舊、折耗及攤銷       0  2018"
      ]
     },
     "execution_count": 9,
     "metadata": {},
     "output_type": "execute_result"
    }
   ],
   "source": [
    "國立fliter = (對應支出金額[\"ComplexName\"] == \"國立\")\n",
    "M_國立 = 對應支出金額[國立fliter]\n",
    "M_國立"
   ]
  },
  {
   "cell_type": "markdown",
   "id": "70ffae1a",
   "metadata": {},
   "source": [
    "Q7. 找出市立對應之支出種類金額"
   ]
  },
  {
   "cell_type": "code",
   "execution_count": 10,
   "id": "69ec0b40",
   "metadata": {},
   "outputs": [
    {
     "data": {
      "text/plain": [
       "0      False\n",
       "1       True\n",
       "2      False\n",
       "3      False\n",
       "4       True\n",
       "       ...  \n",
       "139     True\n",
       "140    False\n",
       "141    False\n",
       "142     True\n",
       "143    False\n",
       "Name: ComplexName, Length: 144, dtype: bool"
      ]
     },
     "execution_count": 10,
     "metadata": {},
     "output_type": "execute_result"
    }
   ],
   "source": [
    "對應支出金額[\"ComplexName\"] == \"市立\""
   ]
  },
  {
   "cell_type": "code",
   "execution_count": 16,
   "id": "1cd24da0",
   "metadata": {
    "scrolled": true
   },
   "outputs": [
    {
     "data": {
      "text/html": [
       "<div>\n",
       "<style scoped>\n",
       "    .dataframe tbody tr th:only-of-type {\n",
       "        vertical-align: middle;\n",
       "    }\n",
       "\n",
       "    .dataframe tbody tr th {\n",
       "        vertical-align: top;\n",
       "    }\n",
       "\n",
       "    .dataframe thead th {\n",
       "        text-align: right;\n",
       "    }\n",
       "</style>\n",
       "<table border=\"1\" class=\"dataframe\">\n",
       "  <thead>\n",
       "    <tr style=\"text-align: right;\">\n",
       "      <th></th>\n",
       "      <th>ComplexName</th>\n",
       "      <th>Complex2Name</th>\n",
       "      <th>FValue</th>\n",
       "      <th>年度</th>\n",
       "    </tr>\n",
       "  </thead>\n",
       "  <tbody>\n",
       "    <tr>\n",
       "      <th>1</th>\n",
       "      <td>市立</td>\n",
       "      <td>NaN</td>\n",
       "      <td>0</td>\n",
       "      <td>2015</td>\n",
       "    </tr>\n",
       "    <tr>\n",
       "      <th>4</th>\n",
       "      <td>市立</td>\n",
       "      <td>經常支出</td>\n",
       "      <td>0</td>\n",
       "      <td>2015</td>\n",
       "    </tr>\n",
       "    <tr>\n",
       "      <th>7</th>\n",
       "      <td>市立</td>\n",
       "      <td>資本支出</td>\n",
       "      <td>0</td>\n",
       "      <td>2015</td>\n",
       "    </tr>\n",
       "    <tr>\n",
       "      <th>10</th>\n",
       "      <td>市立</td>\n",
       "      <td>償還借款</td>\n",
       "      <td>0</td>\n",
       "      <td>2015</td>\n",
       "    </tr>\n",
       "    <tr>\n",
       "      <th>13</th>\n",
       "      <td>市立</td>\n",
       "      <td>經常支出報廢金額</td>\n",
       "      <td>0</td>\n",
       "      <td>2015</td>\n",
       "    </tr>\n",
       "    <tr>\n",
       "      <th>16</th>\n",
       "      <td>市立</td>\n",
       "      <td>折舊、折耗及攤銷</td>\n",
       "      <td>0</td>\n",
       "      <td>2015</td>\n",
       "    </tr>\n",
       "    <tr>\n",
       "      <th>19</th>\n",
       "      <td>市立</td>\n",
       "      <td>NaN</td>\n",
       "      <td>0</td>\n",
       "      <td>2015</td>\n",
       "    </tr>\n",
       "    <tr>\n",
       "      <th>22</th>\n",
       "      <td>市立</td>\n",
       "      <td>經常支出</td>\n",
       "      <td>0</td>\n",
       "      <td>2015</td>\n",
       "    </tr>\n",
       "    <tr>\n",
       "      <th>25</th>\n",
       "      <td>市立</td>\n",
       "      <td>資本支出</td>\n",
       "      <td>0</td>\n",
       "      <td>2015</td>\n",
       "    </tr>\n",
       "    <tr>\n",
       "      <th>28</th>\n",
       "      <td>市立</td>\n",
       "      <td>償還借款</td>\n",
       "      <td>0</td>\n",
       "      <td>2015</td>\n",
       "    </tr>\n",
       "    <tr>\n",
       "      <th>31</th>\n",
       "      <td>市立</td>\n",
       "      <td>經常支出報廢金額</td>\n",
       "      <td>0</td>\n",
       "      <td>2015</td>\n",
       "    </tr>\n",
       "    <tr>\n",
       "      <th>34</th>\n",
       "      <td>市立</td>\n",
       "      <td>折舊、折耗及攤銷</td>\n",
       "      <td>0</td>\n",
       "      <td>2015</td>\n",
       "    </tr>\n",
       "    <tr>\n",
       "      <th>37</th>\n",
       "      <td>市立</td>\n",
       "      <td>NaN</td>\n",
       "      <td>0</td>\n",
       "      <td>2016</td>\n",
       "    </tr>\n",
       "    <tr>\n",
       "      <th>40</th>\n",
       "      <td>市立</td>\n",
       "      <td>經常支出</td>\n",
       "      <td>0</td>\n",
       "      <td>2016</td>\n",
       "    </tr>\n",
       "    <tr>\n",
       "      <th>43</th>\n",
       "      <td>市立</td>\n",
       "      <td>資本支出</td>\n",
       "      <td>0</td>\n",
       "      <td>2016</td>\n",
       "    </tr>\n",
       "    <tr>\n",
       "      <th>46</th>\n",
       "      <td>市立</td>\n",
       "      <td>償還借款</td>\n",
       "      <td>0</td>\n",
       "      <td>2016</td>\n",
       "    </tr>\n",
       "    <tr>\n",
       "      <th>49</th>\n",
       "      <td>市立</td>\n",
       "      <td>經常支出報廢金額</td>\n",
       "      <td>0</td>\n",
       "      <td>2016</td>\n",
       "    </tr>\n",
       "    <tr>\n",
       "      <th>52</th>\n",
       "      <td>市立</td>\n",
       "      <td>折舊、折耗及攤銷</td>\n",
       "      <td>0</td>\n",
       "      <td>2016</td>\n",
       "    </tr>\n",
       "    <tr>\n",
       "      <th>55</th>\n",
       "      <td>市立</td>\n",
       "      <td>NaN</td>\n",
       "      <td>0</td>\n",
       "      <td>2016</td>\n",
       "    </tr>\n",
       "    <tr>\n",
       "      <th>58</th>\n",
       "      <td>市立</td>\n",
       "      <td>經常支出</td>\n",
       "      <td>0</td>\n",
       "      <td>2016</td>\n",
       "    </tr>\n",
       "    <tr>\n",
       "      <th>61</th>\n",
       "      <td>市立</td>\n",
       "      <td>資本支出</td>\n",
       "      <td>0</td>\n",
       "      <td>2016</td>\n",
       "    </tr>\n",
       "    <tr>\n",
       "      <th>64</th>\n",
       "      <td>市立</td>\n",
       "      <td>償還借款</td>\n",
       "      <td>0</td>\n",
       "      <td>2016</td>\n",
       "    </tr>\n",
       "    <tr>\n",
       "      <th>67</th>\n",
       "      <td>市立</td>\n",
       "      <td>經常支出報廢金額</td>\n",
       "      <td>0</td>\n",
       "      <td>2016</td>\n",
       "    </tr>\n",
       "    <tr>\n",
       "      <th>70</th>\n",
       "      <td>市立</td>\n",
       "      <td>折舊、折耗及攤銷</td>\n",
       "      <td>0</td>\n",
       "      <td>2016</td>\n",
       "    </tr>\n",
       "    <tr>\n",
       "      <th>73</th>\n",
       "      <td>市立</td>\n",
       "      <td>NaN</td>\n",
       "      <td>429746</td>\n",
       "      <td>2017</td>\n",
       "    </tr>\n",
       "    <tr>\n",
       "      <th>76</th>\n",
       "      <td>市立</td>\n",
       "      <td>經常支出</td>\n",
       "      <td>409354</td>\n",
       "      <td>2017</td>\n",
       "    </tr>\n",
       "    <tr>\n",
       "      <th>79</th>\n",
       "      <td>市立</td>\n",
       "      <td>資本支出</td>\n",
       "      <td>20392</td>\n",
       "      <td>2017</td>\n",
       "    </tr>\n",
       "    <tr>\n",
       "      <th>82</th>\n",
       "      <td>市立</td>\n",
       "      <td>償還借款</td>\n",
       "      <td>0</td>\n",
       "      <td>2017</td>\n",
       "    </tr>\n",
       "    <tr>\n",
       "      <th>85</th>\n",
       "      <td>市立</td>\n",
       "      <td>經常支出報廢金額</td>\n",
       "      <td>0</td>\n",
       "      <td>2017</td>\n",
       "    </tr>\n",
       "    <tr>\n",
       "      <th>88</th>\n",
       "      <td>市立</td>\n",
       "      <td>折舊、折耗及攤銷</td>\n",
       "      <td>0</td>\n",
       "      <td>2017</td>\n",
       "    </tr>\n",
       "    <tr>\n",
       "      <th>91</th>\n",
       "      <td>市立</td>\n",
       "      <td>NaN</td>\n",
       "      <td>419034</td>\n",
       "      <td>2017</td>\n",
       "    </tr>\n",
       "    <tr>\n",
       "      <th>94</th>\n",
       "      <td>市立</td>\n",
       "      <td>經常支出</td>\n",
       "      <td>390335</td>\n",
       "      <td>2017</td>\n",
       "    </tr>\n",
       "    <tr>\n",
       "      <th>97</th>\n",
       "      <td>市立</td>\n",
       "      <td>資本支出</td>\n",
       "      <td>18578</td>\n",
       "      <td>2017</td>\n",
       "    </tr>\n",
       "    <tr>\n",
       "      <th>100</th>\n",
       "      <td>市立</td>\n",
       "      <td>償還借款</td>\n",
       "      <td>0</td>\n",
       "      <td>2017</td>\n",
       "    </tr>\n",
       "    <tr>\n",
       "      <th>103</th>\n",
       "      <td>市立</td>\n",
       "      <td>經常支出報廢金額</td>\n",
       "      <td>0</td>\n",
       "      <td>2017</td>\n",
       "    </tr>\n",
       "    <tr>\n",
       "      <th>106</th>\n",
       "      <td>市立</td>\n",
       "      <td>折舊、折耗及攤銷</td>\n",
       "      <td>0</td>\n",
       "      <td>2017</td>\n",
       "    </tr>\n",
       "    <tr>\n",
       "      <th>109</th>\n",
       "      <td>市立</td>\n",
       "      <td>NaN</td>\n",
       "      <td>421768</td>\n",
       "      <td>2018</td>\n",
       "    </tr>\n",
       "    <tr>\n",
       "      <th>112</th>\n",
       "      <td>市立</td>\n",
       "      <td>經常支出</td>\n",
       "      <td>409255</td>\n",
       "      <td>2018</td>\n",
       "    </tr>\n",
       "    <tr>\n",
       "      <th>115</th>\n",
       "      <td>市立</td>\n",
       "      <td>資本支出</td>\n",
       "      <td>12513</td>\n",
       "      <td>2018</td>\n",
       "    </tr>\n",
       "    <tr>\n",
       "      <th>118</th>\n",
       "      <td>市立</td>\n",
       "      <td>償還借款</td>\n",
       "      <td>0</td>\n",
       "      <td>2018</td>\n",
       "    </tr>\n",
       "    <tr>\n",
       "      <th>121</th>\n",
       "      <td>市立</td>\n",
       "      <td>經常支出報廢金額</td>\n",
       "      <td>0</td>\n",
       "      <td>2018</td>\n",
       "    </tr>\n",
       "    <tr>\n",
       "      <th>124</th>\n",
       "      <td>市立</td>\n",
       "      <td>折舊、折耗及攤銷</td>\n",
       "      <td>0</td>\n",
       "      <td>2018</td>\n",
       "    </tr>\n",
       "    <tr>\n",
       "      <th>127</th>\n",
       "      <td>市立</td>\n",
       "      <td>NaN</td>\n",
       "      <td>430356</td>\n",
       "      <td>2018</td>\n",
       "    </tr>\n",
       "    <tr>\n",
       "      <th>130</th>\n",
       "      <td>市立</td>\n",
       "      <td>經常支出</td>\n",
       "      <td>404147</td>\n",
       "      <td>2018</td>\n",
       "    </tr>\n",
       "    <tr>\n",
       "      <th>133</th>\n",
       "      <td>市立</td>\n",
       "      <td>資本支出</td>\n",
       "      <td>11920</td>\n",
       "      <td>2018</td>\n",
       "    </tr>\n",
       "    <tr>\n",
       "      <th>136</th>\n",
       "      <td>市立</td>\n",
       "      <td>償還借款</td>\n",
       "      <td>0</td>\n",
       "      <td>2018</td>\n",
       "    </tr>\n",
       "    <tr>\n",
       "      <th>139</th>\n",
       "      <td>市立</td>\n",
       "      <td>經常支出報廢金額</td>\n",
       "      <td>0</td>\n",
       "      <td>2018</td>\n",
       "    </tr>\n",
       "    <tr>\n",
       "      <th>142</th>\n",
       "      <td>市立</td>\n",
       "      <td>折舊、折耗及攤銷</td>\n",
       "      <td>27140</td>\n",
       "      <td>2018</td>\n",
       "    </tr>\n",
       "  </tbody>\n",
       "</table>\n",
       "</div>"
      ],
      "text/plain": [
       "    ComplexName Complex2Name  FValue    年度\n",
       "1            市立          NaN       0  2015\n",
       "4            市立         經常支出       0  2015\n",
       "7            市立         資本支出       0  2015\n",
       "10           市立         償還借款       0  2015\n",
       "13           市立     經常支出報廢金額       0  2015\n",
       "16           市立     折舊、折耗及攤銷       0  2015\n",
       "19           市立          NaN       0  2015\n",
       "22           市立         經常支出       0  2015\n",
       "25           市立         資本支出       0  2015\n",
       "28           市立         償還借款       0  2015\n",
       "31           市立     經常支出報廢金額       0  2015\n",
       "34           市立     折舊、折耗及攤銷       0  2015\n",
       "37           市立          NaN       0  2016\n",
       "40           市立         經常支出       0  2016\n",
       "43           市立         資本支出       0  2016\n",
       "46           市立         償還借款       0  2016\n",
       "49           市立     經常支出報廢金額       0  2016\n",
       "52           市立     折舊、折耗及攤銷       0  2016\n",
       "55           市立          NaN       0  2016\n",
       "58           市立         經常支出       0  2016\n",
       "61           市立         資本支出       0  2016\n",
       "64           市立         償還借款       0  2016\n",
       "67           市立     經常支出報廢金額       0  2016\n",
       "70           市立     折舊、折耗及攤銷       0  2016\n",
       "73           市立          NaN  429746  2017\n",
       "76           市立         經常支出  409354  2017\n",
       "79           市立         資本支出   20392  2017\n",
       "82           市立         償還借款       0  2017\n",
       "85           市立     經常支出報廢金額       0  2017\n",
       "88           市立     折舊、折耗及攤銷       0  2017\n",
       "91           市立          NaN  419034  2017\n",
       "94           市立         經常支出  390335  2017\n",
       "97           市立         資本支出   18578  2017\n",
       "100          市立         償還借款       0  2017\n",
       "103          市立     經常支出報廢金額       0  2017\n",
       "106          市立     折舊、折耗及攤銷       0  2017\n",
       "109          市立          NaN  421768  2018\n",
       "112          市立         經常支出  409255  2018\n",
       "115          市立         資本支出   12513  2018\n",
       "118          市立         償還借款       0  2018\n",
       "121          市立     經常支出報廢金額       0  2018\n",
       "124          市立     折舊、折耗及攤銷       0  2018\n",
       "127          市立          NaN  430356  2018\n",
       "130          市立         經常支出  404147  2018\n",
       "133          市立         資本支出   11920  2018\n",
       "136          市立         償還借款       0  2018\n",
       "139          市立     經常支出報廢金額       0  2018\n",
       "142          市立     折舊、折耗及攤銷   27140  2018"
      ]
     },
     "execution_count": 16,
     "metadata": {},
     "output_type": "execute_result"
    }
   ],
   "source": [
    "市立fliter = (對應支出金額[\"ComplexName\"] == \"市立\")\n",
    "M_市立 = 對應支出金額[市立fliter]\n",
    "M_市立"
   ]
  },
  {
   "cell_type": "markdown",
   "id": "b918ab31",
   "metadata": {},
   "source": [
    "Q8. 找出私立對應之支出種類金額"
   ]
  },
  {
   "cell_type": "code",
   "execution_count": 17,
   "id": "1c7fa7b8",
   "metadata": {
    "scrolled": true
   },
   "outputs": [
    {
     "data": {
      "text/plain": [
       "0      False\n",
       "1      False\n",
       "2       True\n",
       "3      False\n",
       "4      False\n",
       "       ...  \n",
       "139    False\n",
       "140     True\n",
       "141    False\n",
       "142    False\n",
       "143     True\n",
       "Name: ComplexName, Length: 144, dtype: bool"
      ]
     },
     "execution_count": 17,
     "metadata": {},
     "output_type": "execute_result"
    }
   ],
   "source": [
    "對應支出金額[\"ComplexName\"] == \"私立\""
   ]
  },
  {
   "cell_type": "code",
   "execution_count": 18,
   "id": "4ebbde1f",
   "metadata": {
    "scrolled": true
   },
   "outputs": [
    {
     "data": {
      "text/html": [
       "<div>\n",
       "<style scoped>\n",
       "    .dataframe tbody tr th:only-of-type {\n",
       "        vertical-align: middle;\n",
       "    }\n",
       "\n",
       "    .dataframe tbody tr th {\n",
       "        vertical-align: top;\n",
       "    }\n",
       "\n",
       "    .dataframe thead th {\n",
       "        text-align: right;\n",
       "    }\n",
       "</style>\n",
       "<table border=\"1\" class=\"dataframe\">\n",
       "  <thead>\n",
       "    <tr style=\"text-align: right;\">\n",
       "      <th></th>\n",
       "      <th>ComplexName</th>\n",
       "      <th>Complex2Name</th>\n",
       "      <th>FValue</th>\n",
       "      <th>年度</th>\n",
       "    </tr>\n",
       "  </thead>\n",
       "  <tbody>\n",
       "    <tr>\n",
       "      <th>2</th>\n",
       "      <td>私立</td>\n",
       "      <td>NaN</td>\n",
       "      <td>65936</td>\n",
       "      <td>2015</td>\n",
       "    </tr>\n",
       "    <tr>\n",
       "      <th>5</th>\n",
       "      <td>私立</td>\n",
       "      <td>經常支出</td>\n",
       "      <td>57360</td>\n",
       "      <td>2015</td>\n",
       "    </tr>\n",
       "    <tr>\n",
       "      <th>8</th>\n",
       "      <td>私立</td>\n",
       "      <td>資本支出</td>\n",
       "      <td>1076</td>\n",
       "      <td>2015</td>\n",
       "    </tr>\n",
       "    <tr>\n",
       "      <th>11</th>\n",
       "      <td>私立</td>\n",
       "      <td>償還借款</td>\n",
       "      <td>0</td>\n",
       "      <td>2015</td>\n",
       "    </tr>\n",
       "    <tr>\n",
       "      <th>14</th>\n",
       "      <td>私立</td>\n",
       "      <td>經常支出報廢金額</td>\n",
       "      <td>1000</td>\n",
       "      <td>2015</td>\n",
       "    </tr>\n",
       "    <tr>\n",
       "      <th>17</th>\n",
       "      <td>私立</td>\n",
       "      <td>折舊、折耗及攤銷</td>\n",
       "      <td>0</td>\n",
       "      <td>2015</td>\n",
       "    </tr>\n",
       "    <tr>\n",
       "      <th>20</th>\n",
       "      <td>私立</td>\n",
       "      <td>NaN</td>\n",
       "      <td>166155</td>\n",
       "      <td>2015</td>\n",
       "    </tr>\n",
       "    <tr>\n",
       "      <th>23</th>\n",
       "      <td>私立</td>\n",
       "      <td>經常支出</td>\n",
       "      <td>71184</td>\n",
       "      <td>2015</td>\n",
       "    </tr>\n",
       "    <tr>\n",
       "      <th>26</th>\n",
       "      <td>私立</td>\n",
       "      <td>資本支出</td>\n",
       "      <td>9507</td>\n",
       "      <td>2015</td>\n",
       "    </tr>\n",
       "    <tr>\n",
       "      <th>29</th>\n",
       "      <td>私立</td>\n",
       "      <td>償還借款</td>\n",
       "      <td>0</td>\n",
       "      <td>2015</td>\n",
       "    </tr>\n",
       "    <tr>\n",
       "      <th>32</th>\n",
       "      <td>私立</td>\n",
       "      <td>經常支出報廢金額</td>\n",
       "      <td>1038</td>\n",
       "      <td>2015</td>\n",
       "    </tr>\n",
       "    <tr>\n",
       "      <th>35</th>\n",
       "      <td>私立</td>\n",
       "      <td>折舊、折耗及攤銷</td>\n",
       "      <td>0</td>\n",
       "      <td>2015</td>\n",
       "    </tr>\n",
       "    <tr>\n",
       "      <th>38</th>\n",
       "      <td>私立</td>\n",
       "      <td>NaN</td>\n",
       "      <td>66164</td>\n",
       "      <td>2016</td>\n",
       "    </tr>\n",
       "    <tr>\n",
       "      <th>41</th>\n",
       "      <td>私立</td>\n",
       "      <td>經常支出</td>\n",
       "      <td>65284</td>\n",
       "      <td>2016</td>\n",
       "    </tr>\n",
       "    <tr>\n",
       "      <th>44</th>\n",
       "      <td>私立</td>\n",
       "      <td>資本支出</td>\n",
       "      <td>880</td>\n",
       "      <td>2016</td>\n",
       "    </tr>\n",
       "    <tr>\n",
       "      <th>47</th>\n",
       "      <td>私立</td>\n",
       "      <td>償還借款</td>\n",
       "      <td>0</td>\n",
       "      <td>2016</td>\n",
       "    </tr>\n",
       "    <tr>\n",
       "      <th>50</th>\n",
       "      <td>私立</td>\n",
       "      <td>經常支出報廢金額</td>\n",
       "      <td>0</td>\n",
       "      <td>2016</td>\n",
       "    </tr>\n",
       "    <tr>\n",
       "      <th>53</th>\n",
       "      <td>私立</td>\n",
       "      <td>折舊、折耗及攤銷</td>\n",
       "      <td>0</td>\n",
       "      <td>2016</td>\n",
       "    </tr>\n",
       "    <tr>\n",
       "      <th>56</th>\n",
       "      <td>私立</td>\n",
       "      <td>NaN</td>\n",
       "      <td>153926</td>\n",
       "      <td>2016</td>\n",
       "    </tr>\n",
       "    <tr>\n",
       "      <th>59</th>\n",
       "      <td>私立</td>\n",
       "      <td>經常支出</td>\n",
       "      <td>61384</td>\n",
       "      <td>2016</td>\n",
       "    </tr>\n",
       "    <tr>\n",
       "      <th>62</th>\n",
       "      <td>私立</td>\n",
       "      <td>資本支出</td>\n",
       "      <td>9971</td>\n",
       "      <td>2016</td>\n",
       "    </tr>\n",
       "    <tr>\n",
       "      <th>65</th>\n",
       "      <td>私立</td>\n",
       "      <td>償還借款</td>\n",
       "      <td>0</td>\n",
       "      <td>2016</td>\n",
       "    </tr>\n",
       "    <tr>\n",
       "      <th>68</th>\n",
       "      <td>私立</td>\n",
       "      <td>經常支出報廢金額</td>\n",
       "      <td>0</td>\n",
       "      <td>2016</td>\n",
       "    </tr>\n",
       "    <tr>\n",
       "      <th>71</th>\n",
       "      <td>私立</td>\n",
       "      <td>折舊、折耗及攤銷</td>\n",
       "      <td>0</td>\n",
       "      <td>2016</td>\n",
       "    </tr>\n",
       "    <tr>\n",
       "      <th>74</th>\n",
       "      <td>私立</td>\n",
       "      <td>NaN</td>\n",
       "      <td>65314</td>\n",
       "      <td>2017</td>\n",
       "    </tr>\n",
       "    <tr>\n",
       "      <th>77</th>\n",
       "      <td>私立</td>\n",
       "      <td>經常支出</td>\n",
       "      <td>63574</td>\n",
       "      <td>2017</td>\n",
       "    </tr>\n",
       "    <tr>\n",
       "      <th>80</th>\n",
       "      <td>私立</td>\n",
       "      <td>資本支出</td>\n",
       "      <td>1740</td>\n",
       "      <td>2017</td>\n",
       "    </tr>\n",
       "    <tr>\n",
       "      <th>83</th>\n",
       "      <td>私立</td>\n",
       "      <td>償還借款</td>\n",
       "      <td>0</td>\n",
       "      <td>2017</td>\n",
       "    </tr>\n",
       "    <tr>\n",
       "      <th>86</th>\n",
       "      <td>私立</td>\n",
       "      <td>經常支出報廢金額</td>\n",
       "      <td>1400</td>\n",
       "      <td>2017</td>\n",
       "    </tr>\n",
       "    <tr>\n",
       "      <th>89</th>\n",
       "      <td>私立</td>\n",
       "      <td>折舊、折耗及攤銷</td>\n",
       "      <td>0</td>\n",
       "      <td>2017</td>\n",
       "    </tr>\n",
       "    <tr>\n",
       "      <th>92</th>\n",
       "      <td>私立</td>\n",
       "      <td>NaN</td>\n",
       "      <td>107316</td>\n",
       "      <td>2017</td>\n",
       "    </tr>\n",
       "    <tr>\n",
       "      <th>95</th>\n",
       "      <td>私立</td>\n",
       "      <td>經常支出</td>\n",
       "      <td>59122</td>\n",
       "      <td>2017</td>\n",
       "    </tr>\n",
       "    <tr>\n",
       "      <th>98</th>\n",
       "      <td>私立</td>\n",
       "      <td>資本支出</td>\n",
       "      <td>7443</td>\n",
       "      <td>2017</td>\n",
       "    </tr>\n",
       "    <tr>\n",
       "      <th>101</th>\n",
       "      <td>私立</td>\n",
       "      <td>償還借款</td>\n",
       "      <td>0</td>\n",
       "      <td>2017</td>\n",
       "    </tr>\n",
       "    <tr>\n",
       "      <th>104</th>\n",
       "      <td>私立</td>\n",
       "      <td>經常支出報廢金額</td>\n",
       "      <td>136</td>\n",
       "      <td>2017</td>\n",
       "    </tr>\n",
       "    <tr>\n",
       "      <th>107</th>\n",
       "      <td>私立</td>\n",
       "      <td>折舊、折耗及攤銷</td>\n",
       "      <td>0</td>\n",
       "      <td>2017</td>\n",
       "    </tr>\n",
       "    <tr>\n",
       "      <th>110</th>\n",
       "      <td>私立</td>\n",
       "      <td>NaN</td>\n",
       "      <td>68615</td>\n",
       "      <td>2018</td>\n",
       "    </tr>\n",
       "    <tr>\n",
       "      <th>113</th>\n",
       "      <td>私立</td>\n",
       "      <td>經常支出</td>\n",
       "      <td>63840</td>\n",
       "      <td>2018</td>\n",
       "    </tr>\n",
       "    <tr>\n",
       "      <th>116</th>\n",
       "      <td>私立</td>\n",
       "      <td>資本支出</td>\n",
       "      <td>4775</td>\n",
       "      <td>2018</td>\n",
       "    </tr>\n",
       "    <tr>\n",
       "      <th>119</th>\n",
       "      <td>私立</td>\n",
       "      <td>償還借款</td>\n",
       "      <td>0</td>\n",
       "      <td>2018</td>\n",
       "    </tr>\n",
       "    <tr>\n",
       "      <th>122</th>\n",
       "      <td>私立</td>\n",
       "      <td>經常支出報廢金額</td>\n",
       "      <td>6330</td>\n",
       "      <td>2018</td>\n",
       "    </tr>\n",
       "    <tr>\n",
       "      <th>125</th>\n",
       "      <td>私立</td>\n",
       "      <td>折舊、折耗及攤銷</td>\n",
       "      <td>0</td>\n",
       "      <td>2018</td>\n",
       "    </tr>\n",
       "    <tr>\n",
       "      <th>128</th>\n",
       "      <td>私立</td>\n",
       "      <td>NaN</td>\n",
       "      <td>120024</td>\n",
       "      <td>2018</td>\n",
       "    </tr>\n",
       "    <tr>\n",
       "      <th>131</th>\n",
       "      <td>私立</td>\n",
       "      <td>經常支出</td>\n",
       "      <td>52439</td>\n",
       "      <td>2018</td>\n",
       "    </tr>\n",
       "    <tr>\n",
       "      <th>134</th>\n",
       "      <td>私立</td>\n",
       "      <td>資本支出</td>\n",
       "      <td>3882</td>\n",
       "      <td>2018</td>\n",
       "    </tr>\n",
       "    <tr>\n",
       "      <th>137</th>\n",
       "      <td>私立</td>\n",
       "      <td>償還借款</td>\n",
       "      <td>0</td>\n",
       "      <td>2018</td>\n",
       "    </tr>\n",
       "    <tr>\n",
       "      <th>140</th>\n",
       "      <td>私立</td>\n",
       "      <td>經常支出報廢金額</td>\n",
       "      <td>499</td>\n",
       "      <td>2018</td>\n",
       "    </tr>\n",
       "    <tr>\n",
       "      <th>143</th>\n",
       "      <td>私立</td>\n",
       "      <td>折舊、折耗及攤銷</td>\n",
       "      <td>6023</td>\n",
       "      <td>2018</td>\n",
       "    </tr>\n",
       "  </tbody>\n",
       "</table>\n",
       "</div>"
      ],
      "text/plain": [
       "    ComplexName Complex2Name  FValue    年度\n",
       "2            私立          NaN   65936  2015\n",
       "5            私立         經常支出   57360  2015\n",
       "8            私立         資本支出    1076  2015\n",
       "11           私立         償還借款       0  2015\n",
       "14           私立     經常支出報廢金額    1000  2015\n",
       "17           私立     折舊、折耗及攤銷       0  2015\n",
       "20           私立          NaN  166155  2015\n",
       "23           私立         經常支出   71184  2015\n",
       "26           私立         資本支出    9507  2015\n",
       "29           私立         償還借款       0  2015\n",
       "32           私立     經常支出報廢金額    1038  2015\n",
       "35           私立     折舊、折耗及攤銷       0  2015\n",
       "38           私立          NaN   66164  2016\n",
       "41           私立         經常支出   65284  2016\n",
       "44           私立         資本支出     880  2016\n",
       "47           私立         償還借款       0  2016\n",
       "50           私立     經常支出報廢金額       0  2016\n",
       "53           私立     折舊、折耗及攤銷       0  2016\n",
       "56           私立          NaN  153926  2016\n",
       "59           私立         經常支出   61384  2016\n",
       "62           私立         資本支出    9971  2016\n",
       "65           私立         償還借款       0  2016\n",
       "68           私立     經常支出報廢金額       0  2016\n",
       "71           私立     折舊、折耗及攤銷       0  2016\n",
       "74           私立          NaN   65314  2017\n",
       "77           私立         經常支出   63574  2017\n",
       "80           私立         資本支出    1740  2017\n",
       "83           私立         償還借款       0  2017\n",
       "86           私立     經常支出報廢金額    1400  2017\n",
       "89           私立     折舊、折耗及攤銷       0  2017\n",
       "92           私立          NaN  107316  2017\n",
       "95           私立         經常支出   59122  2017\n",
       "98           私立         資本支出    7443  2017\n",
       "101          私立         償還借款       0  2017\n",
       "104          私立     經常支出報廢金額     136  2017\n",
       "107          私立     折舊、折耗及攤銷       0  2017\n",
       "110          私立          NaN   68615  2018\n",
       "113          私立         經常支出   63840  2018\n",
       "116          私立         資本支出    4775  2018\n",
       "119          私立         償還借款       0  2018\n",
       "122          私立     經常支出報廢金額    6330  2018\n",
       "125          私立     折舊、折耗及攤銷       0  2018\n",
       "128          私立          NaN  120024  2018\n",
       "131          私立         經常支出   52439  2018\n",
       "134          私立         資本支出    3882  2018\n",
       "137          私立         償還借款       0  2018\n",
       "140          私立     經常支出報廢金額     499  2018\n",
       "143          私立     折舊、折耗及攤銷    6023  2018"
      ]
     },
     "execution_count": 18,
     "metadata": {},
     "output_type": "execute_result"
    }
   ],
   "source": [
    "私立fliter = (對應支出金額[\"ComplexName\"] == \"私立\")\n",
    "M_私立 = 對應支出金額[私立fliter]\n",
    "M_私立"
   ]
  },
  {
   "cell_type": "markdown",
   "id": "04667760",
   "metadata": {},
   "source": [
    "Q9.計算金額"
   ]
  },
  {
   "cell_type": "code",
   "execution_count": 19,
   "id": "c1d8bf53",
   "metadata": {},
   "outputs": [
    {
     "data": {
      "text/plain": [
       "4300290"
      ]
     },
     "execution_count": 19,
     "metadata": {},
     "output_type": "execute_result"
    }
   ],
   "source": [
    "cM_國立 = M_國立['FValue'].sum()\n",
    "cM_國立"
   ]
  },
  {
   "cell_type": "code",
   "execution_count": 20,
   "id": "d8e790bc",
   "metadata": {},
   "outputs": [
    {
     "data": {
      "text/plain": [
       "3404538"
      ]
     },
     "execution_count": 20,
     "metadata": {},
     "output_type": "execute_result"
    }
   ],
   "source": [
    "cM_市立 = M_市立['FValue'].sum()\n",
    "cM_市立"
   ]
  },
  {
   "cell_type": "code",
   "execution_count": 21,
   "id": "7f066329",
   "metadata": {},
   "outputs": [
    {
     "data": {
      "text/plain": [
       "1363337"
      ]
     },
     "execution_count": 21,
     "metadata": {},
     "output_type": "execute_result"
    }
   ],
   "source": [
    "cM_私立 = M_私立['FValue'].sum()\n",
    "cM_私立"
   ]
  },
  {
   "cell_type": "markdown",
   "id": "e4638d2d",
   "metadata": {},
   "source": [
    "Q10.列出總計金額"
   ]
  },
  {
   "cell_type": "code",
   "execution_count": 22,
   "id": "1ac932ec",
   "metadata": {},
   "outputs": [
    {
     "data": {
      "text/plain": [
       "國立    4300290\n",
       "市立    3404538\n",
       "私立    1363337\n",
       "dtype: int64"
      ]
     },
     "execution_count": 22,
     "metadata": {},
     "output_type": "execute_result"
    }
   ],
   "source": [
    "m_data = []\n",
    "m_data = pd.Series({'國立': cM_國立 , '市立':cM_市立, '私立':cM_私立})\n",
    "m_data"
   ]
  },
  {
   "cell_type": "markdown",
   "id": "425c1f35",
   "metadata": {},
   "source": [
    "# HW2 week5"
   ]
  },
  {
   "cell_type": "markdown",
   "id": "c8e2f65d",
   "metadata": {},
   "source": [
    "Q:分析各種類在各年度中的支出"
   ]
  },
  {
   "cell_type": "code",
   "execution_count": 39,
   "id": "8d903314",
   "metadata": {
    "scrolled": false
   },
   "outputs": [
    {
     "data": {
      "application/vnd.plotly.v1+json": {
       "config": {
        "plotlyServerURL": "https://plot.ly"
       },
       "data": [
        {
         "alignmentgroup": "True",
         "hovertemplate": "Complex2Name=經常支出<br>ComplexName=國立<br>年度=%{x}<br>FValue=%{y}<extra></extra>",
         "legendgroup": "經常支出, 國立",
         "marker": {
          "color": "#EF553B",
          "pattern": {
           "shape": "."
          }
         },
         "name": "經常支出, 國立",
         "offsetgroup": "經常支出, 國立",
         "orientation": "v",
         "showlegend": true,
         "textposition": "auto",
         "type": "bar",
         "x": [
          2015,
          2015,
          2016,
          2016,
          2017,
          2017,
          2018,
          2018
         ],
         "xaxis": "x",
         "y": [
          481303,
          445445,
          492093,
          464759,
          0,
          0,
          0,
          0
         ],
         "yaxis": "y"
        },
        {
         "alignmentgroup": "True",
         "hovertemplate": "Complex2Name=經常支出<br>ComplexName=市立<br>年度=%{x}<br>FValue=%{y}<extra></extra>",
         "legendgroup": "經常支出, 市立",
         "marker": {
          "color": "#EF553B",
          "pattern": {
           "shape": "/"
          }
         },
         "name": "經常支出, 市立",
         "offsetgroup": "經常支出, 市立",
         "orientation": "v",
         "showlegend": true,
         "textposition": "auto",
         "type": "bar",
         "x": [
          2015,
          2015,
          2016,
          2016,
          2017,
          2017,
          2018,
          2018
         ],
         "xaxis": "x",
         "y": [
          0,
          0,
          0,
          0,
          409354,
          390335,
          409255,
          404147
         ],
         "yaxis": "y"
        },
        {
         "alignmentgroup": "True",
         "hovertemplate": "Complex2Name=經常支出<br>ComplexName=私立<br>年度=%{x}<br>FValue=%{y}<extra></extra>",
         "legendgroup": "經常支出, 私立",
         "marker": {
          "color": "#EF553B",
          "pattern": {
           "shape": "+"
          }
         },
         "name": "經常支出, 私立",
         "offsetgroup": "經常支出, 私立",
         "orientation": "v",
         "showlegend": true,
         "textposition": "auto",
         "type": "bar",
         "x": [
          2015,
          2015,
          2016,
          2016,
          2017,
          2017,
          2018,
          2018
         ],
         "xaxis": "x",
         "y": [
          57360,
          71184,
          65284,
          61384,
          63574,
          59122,
          63840,
          52439
         ],
         "yaxis": "y"
        },
        {
         "alignmentgroup": "True",
         "hovertemplate": "Complex2Name=資本支出<br>ComplexName=國立<br>年度=%{x}<br>FValue=%{y}<extra></extra>",
         "legendgroup": "資本支出, 國立",
         "marker": {
          "color": "#00cc96",
          "pattern": {
           "shape": "."
          }
         },
         "name": "資本支出, 國立",
         "offsetgroup": "資本支出, 國立",
         "orientation": "v",
         "showlegend": true,
         "textposition": "auto",
         "type": "bar",
         "x": [
          2015,
          2015,
          2016,
          2016,
          2017,
          2017,
          2018,
          2018
         ],
         "xaxis": "x",
         "y": [
          29063,
          18682,
          36622,
          28930,
          0,
          0,
          0,
          0
         ],
         "yaxis": "y"
        },
        {
         "alignmentgroup": "True",
         "hovertemplate": "Complex2Name=資本支出<br>ComplexName=市立<br>年度=%{x}<br>FValue=%{y}<extra></extra>",
         "legendgroup": "資本支出, 市立",
         "marker": {
          "color": "#00cc96",
          "pattern": {
           "shape": "/"
          }
         },
         "name": "資本支出, 市立",
         "offsetgroup": "資本支出, 市立",
         "orientation": "v",
         "showlegend": true,
         "textposition": "auto",
         "type": "bar",
         "x": [
          2015,
          2015,
          2016,
          2016,
          2017,
          2017,
          2018,
          2018
         ],
         "xaxis": "x",
         "y": [
          0,
          0,
          0,
          0,
          20392,
          18578,
          12513,
          11920
         ],
         "yaxis": "y"
        },
        {
         "alignmentgroup": "True",
         "hovertemplate": "Complex2Name=資本支出<br>ComplexName=私立<br>年度=%{x}<br>FValue=%{y}<extra></extra>",
         "legendgroup": "資本支出, 私立",
         "marker": {
          "color": "#00cc96",
          "pattern": {
           "shape": "+"
          }
         },
         "name": "資本支出, 私立",
         "offsetgroup": "資本支出, 私立",
         "orientation": "v",
         "showlegend": true,
         "textposition": "auto",
         "type": "bar",
         "x": [
          2015,
          2015,
          2016,
          2016,
          2017,
          2017,
          2018,
          2018
         ],
         "xaxis": "x",
         "y": [
          1076,
          9507,
          880,
          9971,
          1740,
          7443,
          4775,
          3882
         ],
         "yaxis": "y"
        },
        {
         "alignmentgroup": "True",
         "hovertemplate": "Complex2Name=償還借款<br>ComplexName=國立<br>年度=%{x}<br>FValue=%{y}<extra></extra>",
         "legendgroup": "償還借款, 國立",
         "marker": {
          "color": "#ab63fa",
          "pattern": {
           "shape": "."
          }
         },
         "name": "償還借款, 國立",
         "offsetgroup": "償還借款, 國立",
         "orientation": "v",
         "showlegend": true,
         "textposition": "auto",
         "type": "bar",
         "x": [
          2015,
          2015,
          2016,
          2016,
          2017,
          2017,
          2018,
          2018
         ],
         "xaxis": "x",
         "y": [
          0,
          0,
          0,
          0,
          0,
          0,
          0,
          0
         ],
         "yaxis": "y"
        },
        {
         "alignmentgroup": "True",
         "hovertemplate": "Complex2Name=償還借款<br>ComplexName=市立<br>年度=%{x}<br>FValue=%{y}<extra></extra>",
         "legendgroup": "償還借款, 市立",
         "marker": {
          "color": "#ab63fa",
          "pattern": {
           "shape": "/"
          }
         },
         "name": "償還借款, 市立",
         "offsetgroup": "償還借款, 市立",
         "orientation": "v",
         "showlegend": true,
         "textposition": "auto",
         "type": "bar",
         "x": [
          2015,
          2015,
          2016,
          2016,
          2017,
          2017,
          2018,
          2018
         ],
         "xaxis": "x",
         "y": [
          0,
          0,
          0,
          0,
          0,
          0,
          0,
          0
         ],
         "yaxis": "y"
        },
        {
         "alignmentgroup": "True",
         "hovertemplate": "Complex2Name=償還借款<br>ComplexName=私立<br>年度=%{x}<br>FValue=%{y}<extra></extra>",
         "legendgroup": "償還借款, 私立",
         "marker": {
          "color": "#ab63fa",
          "pattern": {
           "shape": "+"
          }
         },
         "name": "償還借款, 私立",
         "offsetgroup": "償還借款, 私立",
         "orientation": "v",
         "showlegend": true,
         "textposition": "auto",
         "type": "bar",
         "x": [
          2015,
          2015,
          2016,
          2016,
          2017,
          2017,
          2018,
          2018
         ],
         "xaxis": "x",
         "y": [
          0,
          0,
          0,
          0,
          0,
          0,
          0,
          0
         ],
         "yaxis": "y"
        },
        {
         "alignmentgroup": "True",
         "hovertemplate": "Complex2Name=經常支出報廢金額<br>ComplexName=國立<br>年度=%{x}<br>FValue=%{y}<extra></extra>",
         "legendgroup": "經常支出報廢金額, 國立",
         "marker": {
          "color": "#FFA15A",
          "pattern": {
           "shape": "."
          }
         },
         "name": "經常支出報廢金額, 國立",
         "offsetgroup": "經常支出報廢金額, 國立",
         "orientation": "v",
         "showlegend": true,
         "textposition": "auto",
         "type": "bar",
         "x": [
          2015,
          2015,
          2016,
          2016,
          2017,
          2017,
          2018,
          2018
         ],
         "xaxis": "x",
         "y": [
          0,
          0,
          0,
          0,
          0,
          0,
          0,
          0
         ],
         "yaxis": "y"
        },
        {
         "alignmentgroup": "True",
         "hovertemplate": "Complex2Name=經常支出報廢金額<br>ComplexName=市立<br>年度=%{x}<br>FValue=%{y}<extra></extra>",
         "legendgroup": "經常支出報廢金額, 市立",
         "marker": {
          "color": "#FFA15A",
          "pattern": {
           "shape": "/"
          }
         },
         "name": "經常支出報廢金額, 市立",
         "offsetgroup": "經常支出報廢金額, 市立",
         "orientation": "v",
         "showlegend": true,
         "textposition": "auto",
         "type": "bar",
         "x": [
          2015,
          2015,
          2016,
          2016,
          2017,
          2017,
          2018,
          2018
         ],
         "xaxis": "x",
         "y": [
          0,
          0,
          0,
          0,
          0,
          0,
          0,
          0
         ],
         "yaxis": "y"
        },
        {
         "alignmentgroup": "True",
         "hovertemplate": "Complex2Name=經常支出報廢金額<br>ComplexName=私立<br>年度=%{x}<br>FValue=%{y}<extra></extra>",
         "legendgroup": "經常支出報廢金額, 私立",
         "marker": {
          "color": "#FFA15A",
          "pattern": {
           "shape": "+"
          }
         },
         "name": "經常支出報廢金額, 私立",
         "offsetgroup": "經常支出報廢金額, 私立",
         "orientation": "v",
         "showlegend": true,
         "textposition": "auto",
         "type": "bar",
         "x": [
          2015,
          2015,
          2016,
          2016,
          2017,
          2017,
          2018,
          2018
         ],
         "xaxis": "x",
         "y": [
          1000,
          1038,
          0,
          0,
          1400,
          136,
          6330,
          499
         ],
         "yaxis": "y"
        },
        {
         "alignmentgroup": "True",
         "hovertemplate": "Complex2Name=折舊、折耗及攤銷<br>ComplexName=國立<br>年度=%{x}<br>FValue=%{y}<extra></extra>",
         "legendgroup": "折舊、折耗及攤銷, 國立",
         "marker": {
          "color": "#19d3f3",
          "pattern": {
           "shape": "."
          }
         },
         "name": "折舊、折耗及攤銷, 國立",
         "offsetgroup": "折舊、折耗及攤銷, 國立",
         "orientation": "v",
         "showlegend": true,
         "textposition": "auto",
         "type": "bar",
         "x": [
          2015,
          2015,
          2016,
          2016,
          2017,
          2017,
          2018,
          2018
         ],
         "xaxis": "x",
         "y": [
          62880,
          74784,
          66385,
          63419,
          0,
          0,
          0,
          0
         ],
         "yaxis": "y"
        },
        {
         "alignmentgroup": "True",
         "hovertemplate": "Complex2Name=折舊、折耗及攤銷<br>ComplexName=市立<br>年度=%{x}<br>FValue=%{y}<extra></extra>",
         "legendgroup": "折舊、折耗及攤銷, 市立",
         "marker": {
          "color": "#19d3f3",
          "pattern": {
           "shape": "/"
          }
         },
         "name": "折舊、折耗及攤銷, 市立",
         "offsetgroup": "折舊、折耗及攤銷, 市立",
         "orientation": "v",
         "showlegend": true,
         "textposition": "auto",
         "type": "bar",
         "x": [
          2015,
          2015,
          2016,
          2016,
          2017,
          2017,
          2018,
          2018
         ],
         "xaxis": "x",
         "y": [
          0,
          0,
          0,
          0,
          0,
          0,
          0,
          27140
         ],
         "yaxis": "y"
        },
        {
         "alignmentgroup": "True",
         "hovertemplate": "Complex2Name=折舊、折耗及攤銷<br>ComplexName=私立<br>年度=%{x}<br>FValue=%{y}<extra></extra>",
         "legendgroup": "折舊、折耗及攤銷, 私立",
         "marker": {
          "color": "#19d3f3",
          "pattern": {
           "shape": "+"
          }
         },
         "name": "折舊、折耗及攤銷, 私立",
         "offsetgroup": "折舊、折耗及攤銷, 私立",
         "orientation": "v",
         "showlegend": true,
         "textposition": "auto",
         "type": "bar",
         "x": [
          2015,
          2015,
          2016,
          2016,
          2017,
          2017,
          2018,
          2018
         ],
         "xaxis": "x",
         "y": [
          0,
          0,
          0,
          0,
          0,
          0,
          0,
          6023
         ],
         "yaxis": "y"
        }
       ],
       "layout": {
        "barmode": "group",
        "legend": {
         "title": {
          "text": "Complex2Name, ComplexName"
         },
         "tracegroupgap": 0
        },
        "margin": {
         "t": 60
        },
        "template": {
         "data": {
          "bar": [
           {
            "error_x": {
             "color": "#2a3f5f"
            },
            "error_y": {
             "color": "#2a3f5f"
            },
            "marker": {
             "line": {
              "color": "#E5ECF6",
              "width": 0.5
             },
             "pattern": {
              "fillmode": "overlay",
              "size": 10,
              "solidity": 0.2
             }
            },
            "type": "bar"
           }
          ],
          "barpolar": [
           {
            "marker": {
             "line": {
              "color": "#E5ECF6",
              "width": 0.5
             },
             "pattern": {
              "fillmode": "overlay",
              "size": 10,
              "solidity": 0.2
             }
            },
            "type": "barpolar"
           }
          ],
          "carpet": [
           {
            "aaxis": {
             "endlinecolor": "#2a3f5f",
             "gridcolor": "white",
             "linecolor": "white",
             "minorgridcolor": "white",
             "startlinecolor": "#2a3f5f"
            },
            "baxis": {
             "endlinecolor": "#2a3f5f",
             "gridcolor": "white",
             "linecolor": "white",
             "minorgridcolor": "white",
             "startlinecolor": "#2a3f5f"
            },
            "type": "carpet"
           }
          ],
          "choropleth": [
           {
            "colorbar": {
             "outlinewidth": 0,
             "ticks": ""
            },
            "type": "choropleth"
           }
          ],
          "contour": [
           {
            "colorbar": {
             "outlinewidth": 0,
             "ticks": ""
            },
            "colorscale": [
             [
              0,
              "#0d0887"
             ],
             [
              0.1111111111111111,
              "#46039f"
             ],
             [
              0.2222222222222222,
              "#7201a8"
             ],
             [
              0.3333333333333333,
              "#9c179e"
             ],
             [
              0.4444444444444444,
              "#bd3786"
             ],
             [
              0.5555555555555556,
              "#d8576b"
             ],
             [
              0.6666666666666666,
              "#ed7953"
             ],
             [
              0.7777777777777778,
              "#fb9f3a"
             ],
             [
              0.8888888888888888,
              "#fdca26"
             ],
             [
              1,
              "#f0f921"
             ]
            ],
            "type": "contour"
           }
          ],
          "contourcarpet": [
           {
            "colorbar": {
             "outlinewidth": 0,
             "ticks": ""
            },
            "type": "contourcarpet"
           }
          ],
          "heatmap": [
           {
            "colorbar": {
             "outlinewidth": 0,
             "ticks": ""
            },
            "colorscale": [
             [
              0,
              "#0d0887"
             ],
             [
              0.1111111111111111,
              "#46039f"
             ],
             [
              0.2222222222222222,
              "#7201a8"
             ],
             [
              0.3333333333333333,
              "#9c179e"
             ],
             [
              0.4444444444444444,
              "#bd3786"
             ],
             [
              0.5555555555555556,
              "#d8576b"
             ],
             [
              0.6666666666666666,
              "#ed7953"
             ],
             [
              0.7777777777777778,
              "#fb9f3a"
             ],
             [
              0.8888888888888888,
              "#fdca26"
             ],
             [
              1,
              "#f0f921"
             ]
            ],
            "type": "heatmap"
           }
          ],
          "heatmapgl": [
           {
            "colorbar": {
             "outlinewidth": 0,
             "ticks": ""
            },
            "colorscale": [
             [
              0,
              "#0d0887"
             ],
             [
              0.1111111111111111,
              "#46039f"
             ],
             [
              0.2222222222222222,
              "#7201a8"
             ],
             [
              0.3333333333333333,
              "#9c179e"
             ],
             [
              0.4444444444444444,
              "#bd3786"
             ],
             [
              0.5555555555555556,
              "#d8576b"
             ],
             [
              0.6666666666666666,
              "#ed7953"
             ],
             [
              0.7777777777777778,
              "#fb9f3a"
             ],
             [
              0.8888888888888888,
              "#fdca26"
             ],
             [
              1,
              "#f0f921"
             ]
            ],
            "type": "heatmapgl"
           }
          ],
          "histogram": [
           {
            "marker": {
             "pattern": {
              "fillmode": "overlay",
              "size": 10,
              "solidity": 0.2
             }
            },
            "type": "histogram"
           }
          ],
          "histogram2d": [
           {
            "colorbar": {
             "outlinewidth": 0,
             "ticks": ""
            },
            "colorscale": [
             [
              0,
              "#0d0887"
             ],
             [
              0.1111111111111111,
              "#46039f"
             ],
             [
              0.2222222222222222,
              "#7201a8"
             ],
             [
              0.3333333333333333,
              "#9c179e"
             ],
             [
              0.4444444444444444,
              "#bd3786"
             ],
             [
              0.5555555555555556,
              "#d8576b"
             ],
             [
              0.6666666666666666,
              "#ed7953"
             ],
             [
              0.7777777777777778,
              "#fb9f3a"
             ],
             [
              0.8888888888888888,
              "#fdca26"
             ],
             [
              1,
              "#f0f921"
             ]
            ],
            "type": "histogram2d"
           }
          ],
          "histogram2dcontour": [
           {
            "colorbar": {
             "outlinewidth": 0,
             "ticks": ""
            },
            "colorscale": [
             [
              0,
              "#0d0887"
             ],
             [
              0.1111111111111111,
              "#46039f"
             ],
             [
              0.2222222222222222,
              "#7201a8"
             ],
             [
              0.3333333333333333,
              "#9c179e"
             ],
             [
              0.4444444444444444,
              "#bd3786"
             ],
             [
              0.5555555555555556,
              "#d8576b"
             ],
             [
              0.6666666666666666,
              "#ed7953"
             ],
             [
              0.7777777777777778,
              "#fb9f3a"
             ],
             [
              0.8888888888888888,
              "#fdca26"
             ],
             [
              1,
              "#f0f921"
             ]
            ],
            "type": "histogram2dcontour"
           }
          ],
          "mesh3d": [
           {
            "colorbar": {
             "outlinewidth": 0,
             "ticks": ""
            },
            "type": "mesh3d"
           }
          ],
          "parcoords": [
           {
            "line": {
             "colorbar": {
              "outlinewidth": 0,
              "ticks": ""
             }
            },
            "type": "parcoords"
           }
          ],
          "pie": [
           {
            "automargin": true,
            "type": "pie"
           }
          ],
          "scatter": [
           {
            "fillpattern": {
             "fillmode": "overlay",
             "size": 10,
             "solidity": 0.2
            },
            "type": "scatter"
           }
          ],
          "scatter3d": [
           {
            "line": {
             "colorbar": {
              "outlinewidth": 0,
              "ticks": ""
             }
            },
            "marker": {
             "colorbar": {
              "outlinewidth": 0,
              "ticks": ""
             }
            },
            "type": "scatter3d"
           }
          ],
          "scattercarpet": [
           {
            "marker": {
             "colorbar": {
              "outlinewidth": 0,
              "ticks": ""
             }
            },
            "type": "scattercarpet"
           }
          ],
          "scattergeo": [
           {
            "marker": {
             "colorbar": {
              "outlinewidth": 0,
              "ticks": ""
             }
            },
            "type": "scattergeo"
           }
          ],
          "scattergl": [
           {
            "marker": {
             "colorbar": {
              "outlinewidth": 0,
              "ticks": ""
             }
            },
            "type": "scattergl"
           }
          ],
          "scattermapbox": [
           {
            "marker": {
             "colorbar": {
              "outlinewidth": 0,
              "ticks": ""
             }
            },
            "type": "scattermapbox"
           }
          ],
          "scatterpolar": [
           {
            "marker": {
             "colorbar": {
              "outlinewidth": 0,
              "ticks": ""
             }
            },
            "type": "scatterpolar"
           }
          ],
          "scatterpolargl": [
           {
            "marker": {
             "colorbar": {
              "outlinewidth": 0,
              "ticks": ""
             }
            },
            "type": "scatterpolargl"
           }
          ],
          "scatterternary": [
           {
            "marker": {
             "colorbar": {
              "outlinewidth": 0,
              "ticks": ""
             }
            },
            "type": "scatterternary"
           }
          ],
          "surface": [
           {
            "colorbar": {
             "outlinewidth": 0,
             "ticks": ""
            },
            "colorscale": [
             [
              0,
              "#0d0887"
             ],
             [
              0.1111111111111111,
              "#46039f"
             ],
             [
              0.2222222222222222,
              "#7201a8"
             ],
             [
              0.3333333333333333,
              "#9c179e"
             ],
             [
              0.4444444444444444,
              "#bd3786"
             ],
             [
              0.5555555555555556,
              "#d8576b"
             ],
             [
              0.6666666666666666,
              "#ed7953"
             ],
             [
              0.7777777777777778,
              "#fb9f3a"
             ],
             [
              0.8888888888888888,
              "#fdca26"
             ],
             [
              1,
              "#f0f921"
             ]
            ],
            "type": "surface"
           }
          ],
          "table": [
           {
            "cells": {
             "fill": {
              "color": "#EBF0F8"
             },
             "line": {
              "color": "white"
             }
            },
            "header": {
             "fill": {
              "color": "#C8D4E3"
             },
             "line": {
              "color": "white"
             }
            },
            "type": "table"
           }
          ]
         },
         "layout": {
          "annotationdefaults": {
           "arrowcolor": "#2a3f5f",
           "arrowhead": 0,
           "arrowwidth": 1
          },
          "autotypenumbers": "strict",
          "coloraxis": {
           "colorbar": {
            "outlinewidth": 0,
            "ticks": ""
           }
          },
          "colorscale": {
           "diverging": [
            [
             0,
             "#8e0152"
            ],
            [
             0.1,
             "#c51b7d"
            ],
            [
             0.2,
             "#de77ae"
            ],
            [
             0.3,
             "#f1b6da"
            ],
            [
             0.4,
             "#fde0ef"
            ],
            [
             0.5,
             "#f7f7f7"
            ],
            [
             0.6,
             "#e6f5d0"
            ],
            [
             0.7,
             "#b8e186"
            ],
            [
             0.8,
             "#7fbc41"
            ],
            [
             0.9,
             "#4d9221"
            ],
            [
             1,
             "#276419"
            ]
           ],
           "sequential": [
            [
             0,
             "#0d0887"
            ],
            [
             0.1111111111111111,
             "#46039f"
            ],
            [
             0.2222222222222222,
             "#7201a8"
            ],
            [
             0.3333333333333333,
             "#9c179e"
            ],
            [
             0.4444444444444444,
             "#bd3786"
            ],
            [
             0.5555555555555556,
             "#d8576b"
            ],
            [
             0.6666666666666666,
             "#ed7953"
            ],
            [
             0.7777777777777778,
             "#fb9f3a"
            ],
            [
             0.8888888888888888,
             "#fdca26"
            ],
            [
             1,
             "#f0f921"
            ]
           ],
           "sequentialminus": [
            [
             0,
             "#0d0887"
            ],
            [
             0.1111111111111111,
             "#46039f"
            ],
            [
             0.2222222222222222,
             "#7201a8"
            ],
            [
             0.3333333333333333,
             "#9c179e"
            ],
            [
             0.4444444444444444,
             "#bd3786"
            ],
            [
             0.5555555555555556,
             "#d8576b"
            ],
            [
             0.6666666666666666,
             "#ed7953"
            ],
            [
             0.7777777777777778,
             "#fb9f3a"
            ],
            [
             0.8888888888888888,
             "#fdca26"
            ],
            [
             1,
             "#f0f921"
            ]
           ]
          },
          "colorway": [
           "#636efa",
           "#EF553B",
           "#00cc96",
           "#ab63fa",
           "#FFA15A",
           "#19d3f3",
           "#FF6692",
           "#B6E880",
           "#FF97FF",
           "#FECB52"
          ],
          "font": {
           "color": "#2a3f5f"
          },
          "geo": {
           "bgcolor": "white",
           "lakecolor": "white",
           "landcolor": "#E5ECF6",
           "showlakes": true,
           "showland": true,
           "subunitcolor": "white"
          },
          "hoverlabel": {
           "align": "left"
          },
          "hovermode": "closest",
          "mapbox": {
           "style": "light"
          },
          "paper_bgcolor": "white",
          "plot_bgcolor": "#E5ECF6",
          "polar": {
           "angularaxis": {
            "gridcolor": "white",
            "linecolor": "white",
            "ticks": ""
           },
           "bgcolor": "#E5ECF6",
           "radialaxis": {
            "gridcolor": "white",
            "linecolor": "white",
            "ticks": ""
           }
          },
          "scene": {
           "xaxis": {
            "backgroundcolor": "#E5ECF6",
            "gridcolor": "white",
            "gridwidth": 2,
            "linecolor": "white",
            "showbackground": true,
            "ticks": "",
            "zerolinecolor": "white"
           },
           "yaxis": {
            "backgroundcolor": "#E5ECF6",
            "gridcolor": "white",
            "gridwidth": 2,
            "linecolor": "white",
            "showbackground": true,
            "ticks": "",
            "zerolinecolor": "white"
           },
           "zaxis": {
            "backgroundcolor": "#E5ECF6",
            "gridcolor": "white",
            "gridwidth": 2,
            "linecolor": "white",
            "showbackground": true,
            "ticks": "",
            "zerolinecolor": "white"
           }
          },
          "shapedefaults": {
           "line": {
            "color": "#2a3f5f"
           }
          },
          "ternary": {
           "aaxis": {
            "gridcolor": "white",
            "linecolor": "white",
            "ticks": ""
           },
           "baxis": {
            "gridcolor": "white",
            "linecolor": "white",
            "ticks": ""
           },
           "bgcolor": "#E5ECF6",
           "caxis": {
            "gridcolor": "white",
            "linecolor": "white",
            "ticks": ""
           }
          },
          "title": {
           "x": 0.05
          },
          "xaxis": {
           "automargin": true,
           "gridcolor": "white",
           "linecolor": "white",
           "ticks": "",
           "title": {
            "standoff": 15
           },
           "zerolinecolor": "white",
           "zerolinewidth": 2
          },
          "yaxis": {
           "automargin": true,
           "gridcolor": "white",
           "linecolor": "white",
           "ticks": "",
           "title": {
            "standoff": 15
           },
           "zerolinecolor": "white",
           "zerolinewidth": 2
          }
         }
        },
        "xaxis": {
         "anchor": "y",
         "domain": [
          0,
          1
         ],
         "title": {
          "text": "年度"
         }
        },
        "yaxis": {
         "anchor": "x",
         "domain": [
          0,
          1
         ],
         "title": {
          "text": "FValue"
         }
        }
       }
      },
      "text/html": [
       "<div>                            <div id=\"05337bfa-ae58-4d29-852e-397d44e15842\" class=\"plotly-graph-div\" style=\"height:525px; width:100%;\"></div>            <script type=\"text/javascript\">                require([\"plotly\"], function(Plotly) {                    window.PLOTLYENV=window.PLOTLYENV || {};                                    if (document.getElementById(\"05337bfa-ae58-4d29-852e-397d44e15842\")) {                    Plotly.newPlot(                        \"05337bfa-ae58-4d29-852e-397d44e15842\",                        [{\"alignmentgroup\":\"True\",\"hovertemplate\":\"Complex2Name=\\u7d93\\u5e38\\u652f\\u51fa<br>ComplexName=\\u570b\\u7acb<br>\\u5e74\\u5ea6=%{x}<br>FValue=%{y}<extra></extra>\",\"legendgroup\":\"\\u7d93\\u5e38\\u652f\\u51fa, \\u570b\\u7acb\",\"marker\":{\"color\":\"#EF553B\",\"pattern\":{\"shape\":\".\"}},\"name\":\"\\u7d93\\u5e38\\u652f\\u51fa, \\u570b\\u7acb\",\"offsetgroup\":\"\\u7d93\\u5e38\\u652f\\u51fa, \\u570b\\u7acb\",\"orientation\":\"v\",\"showlegend\":true,\"textposition\":\"auto\",\"x\":[2015,2015,2016,2016,2017,2017,2018,2018],\"xaxis\":\"x\",\"y\":[481303,445445,492093,464759,0,0,0,0],\"yaxis\":\"y\",\"type\":\"bar\"},{\"alignmentgroup\":\"True\",\"hovertemplate\":\"Complex2Name=\\u7d93\\u5e38\\u652f\\u51fa<br>ComplexName=\\u5e02\\u7acb<br>\\u5e74\\u5ea6=%{x}<br>FValue=%{y}<extra></extra>\",\"legendgroup\":\"\\u7d93\\u5e38\\u652f\\u51fa, \\u5e02\\u7acb\",\"marker\":{\"color\":\"#EF553B\",\"pattern\":{\"shape\":\"/\"}},\"name\":\"\\u7d93\\u5e38\\u652f\\u51fa, \\u5e02\\u7acb\",\"offsetgroup\":\"\\u7d93\\u5e38\\u652f\\u51fa, \\u5e02\\u7acb\",\"orientation\":\"v\",\"showlegend\":true,\"textposition\":\"auto\",\"x\":[2015,2015,2016,2016,2017,2017,2018,2018],\"xaxis\":\"x\",\"y\":[0,0,0,0,409354,390335,409255,404147],\"yaxis\":\"y\",\"type\":\"bar\"},{\"alignmentgroup\":\"True\",\"hovertemplate\":\"Complex2Name=\\u7d93\\u5e38\\u652f\\u51fa<br>ComplexName=\\u79c1\\u7acb<br>\\u5e74\\u5ea6=%{x}<br>FValue=%{y}<extra></extra>\",\"legendgroup\":\"\\u7d93\\u5e38\\u652f\\u51fa, \\u79c1\\u7acb\",\"marker\":{\"color\":\"#EF553B\",\"pattern\":{\"shape\":\"+\"}},\"name\":\"\\u7d93\\u5e38\\u652f\\u51fa, \\u79c1\\u7acb\",\"offsetgroup\":\"\\u7d93\\u5e38\\u652f\\u51fa, \\u79c1\\u7acb\",\"orientation\":\"v\",\"showlegend\":true,\"textposition\":\"auto\",\"x\":[2015,2015,2016,2016,2017,2017,2018,2018],\"xaxis\":\"x\",\"y\":[57360,71184,65284,61384,63574,59122,63840,52439],\"yaxis\":\"y\",\"type\":\"bar\"},{\"alignmentgroup\":\"True\",\"hovertemplate\":\"Complex2Name=\\u8cc7\\u672c\\u652f\\u51fa<br>ComplexName=\\u570b\\u7acb<br>\\u5e74\\u5ea6=%{x}<br>FValue=%{y}<extra></extra>\",\"legendgroup\":\"\\u8cc7\\u672c\\u652f\\u51fa, \\u570b\\u7acb\",\"marker\":{\"color\":\"#00cc96\",\"pattern\":{\"shape\":\".\"}},\"name\":\"\\u8cc7\\u672c\\u652f\\u51fa, \\u570b\\u7acb\",\"offsetgroup\":\"\\u8cc7\\u672c\\u652f\\u51fa, \\u570b\\u7acb\",\"orientation\":\"v\",\"showlegend\":true,\"textposition\":\"auto\",\"x\":[2015,2015,2016,2016,2017,2017,2018,2018],\"xaxis\":\"x\",\"y\":[29063,18682,36622,28930,0,0,0,0],\"yaxis\":\"y\",\"type\":\"bar\"},{\"alignmentgroup\":\"True\",\"hovertemplate\":\"Complex2Name=\\u8cc7\\u672c\\u652f\\u51fa<br>ComplexName=\\u5e02\\u7acb<br>\\u5e74\\u5ea6=%{x}<br>FValue=%{y}<extra></extra>\",\"legendgroup\":\"\\u8cc7\\u672c\\u652f\\u51fa, \\u5e02\\u7acb\",\"marker\":{\"color\":\"#00cc96\",\"pattern\":{\"shape\":\"/\"}},\"name\":\"\\u8cc7\\u672c\\u652f\\u51fa, \\u5e02\\u7acb\",\"offsetgroup\":\"\\u8cc7\\u672c\\u652f\\u51fa, \\u5e02\\u7acb\",\"orientation\":\"v\",\"showlegend\":true,\"textposition\":\"auto\",\"x\":[2015,2015,2016,2016,2017,2017,2018,2018],\"xaxis\":\"x\",\"y\":[0,0,0,0,20392,18578,12513,11920],\"yaxis\":\"y\",\"type\":\"bar\"},{\"alignmentgroup\":\"True\",\"hovertemplate\":\"Complex2Name=\\u8cc7\\u672c\\u652f\\u51fa<br>ComplexName=\\u79c1\\u7acb<br>\\u5e74\\u5ea6=%{x}<br>FValue=%{y}<extra></extra>\",\"legendgroup\":\"\\u8cc7\\u672c\\u652f\\u51fa, \\u79c1\\u7acb\",\"marker\":{\"color\":\"#00cc96\",\"pattern\":{\"shape\":\"+\"}},\"name\":\"\\u8cc7\\u672c\\u652f\\u51fa, \\u79c1\\u7acb\",\"offsetgroup\":\"\\u8cc7\\u672c\\u652f\\u51fa, \\u79c1\\u7acb\",\"orientation\":\"v\",\"showlegend\":true,\"textposition\":\"auto\",\"x\":[2015,2015,2016,2016,2017,2017,2018,2018],\"xaxis\":\"x\",\"y\":[1076,9507,880,9971,1740,7443,4775,3882],\"yaxis\":\"y\",\"type\":\"bar\"},{\"alignmentgroup\":\"True\",\"hovertemplate\":\"Complex2Name=\\u511f\\u9084\\u501f\\u6b3e<br>ComplexName=\\u570b\\u7acb<br>\\u5e74\\u5ea6=%{x}<br>FValue=%{y}<extra></extra>\",\"legendgroup\":\"\\u511f\\u9084\\u501f\\u6b3e, \\u570b\\u7acb\",\"marker\":{\"color\":\"#ab63fa\",\"pattern\":{\"shape\":\".\"}},\"name\":\"\\u511f\\u9084\\u501f\\u6b3e, \\u570b\\u7acb\",\"offsetgroup\":\"\\u511f\\u9084\\u501f\\u6b3e, \\u570b\\u7acb\",\"orientation\":\"v\",\"showlegend\":true,\"textposition\":\"auto\",\"x\":[2015,2015,2016,2016,2017,2017,2018,2018],\"xaxis\":\"x\",\"y\":[0,0,0,0,0,0,0,0],\"yaxis\":\"y\",\"type\":\"bar\"},{\"alignmentgroup\":\"True\",\"hovertemplate\":\"Complex2Name=\\u511f\\u9084\\u501f\\u6b3e<br>ComplexName=\\u5e02\\u7acb<br>\\u5e74\\u5ea6=%{x}<br>FValue=%{y}<extra></extra>\",\"legendgroup\":\"\\u511f\\u9084\\u501f\\u6b3e, \\u5e02\\u7acb\",\"marker\":{\"color\":\"#ab63fa\",\"pattern\":{\"shape\":\"/\"}},\"name\":\"\\u511f\\u9084\\u501f\\u6b3e, \\u5e02\\u7acb\",\"offsetgroup\":\"\\u511f\\u9084\\u501f\\u6b3e, \\u5e02\\u7acb\",\"orientation\":\"v\",\"showlegend\":true,\"textposition\":\"auto\",\"x\":[2015,2015,2016,2016,2017,2017,2018,2018],\"xaxis\":\"x\",\"y\":[0,0,0,0,0,0,0,0],\"yaxis\":\"y\",\"type\":\"bar\"},{\"alignmentgroup\":\"True\",\"hovertemplate\":\"Complex2Name=\\u511f\\u9084\\u501f\\u6b3e<br>ComplexName=\\u79c1\\u7acb<br>\\u5e74\\u5ea6=%{x}<br>FValue=%{y}<extra></extra>\",\"legendgroup\":\"\\u511f\\u9084\\u501f\\u6b3e, \\u79c1\\u7acb\",\"marker\":{\"color\":\"#ab63fa\",\"pattern\":{\"shape\":\"+\"}},\"name\":\"\\u511f\\u9084\\u501f\\u6b3e, \\u79c1\\u7acb\",\"offsetgroup\":\"\\u511f\\u9084\\u501f\\u6b3e, \\u79c1\\u7acb\",\"orientation\":\"v\",\"showlegend\":true,\"textposition\":\"auto\",\"x\":[2015,2015,2016,2016,2017,2017,2018,2018],\"xaxis\":\"x\",\"y\":[0,0,0,0,0,0,0,0],\"yaxis\":\"y\",\"type\":\"bar\"},{\"alignmentgroup\":\"True\",\"hovertemplate\":\"Complex2Name=\\u7d93\\u5e38\\u652f\\u51fa\\u5831\\u5ee2\\u91d1\\u984d<br>ComplexName=\\u570b\\u7acb<br>\\u5e74\\u5ea6=%{x}<br>FValue=%{y}<extra></extra>\",\"legendgroup\":\"\\u7d93\\u5e38\\u652f\\u51fa\\u5831\\u5ee2\\u91d1\\u984d, \\u570b\\u7acb\",\"marker\":{\"color\":\"#FFA15A\",\"pattern\":{\"shape\":\".\"}},\"name\":\"\\u7d93\\u5e38\\u652f\\u51fa\\u5831\\u5ee2\\u91d1\\u984d, \\u570b\\u7acb\",\"offsetgroup\":\"\\u7d93\\u5e38\\u652f\\u51fa\\u5831\\u5ee2\\u91d1\\u984d, \\u570b\\u7acb\",\"orientation\":\"v\",\"showlegend\":true,\"textposition\":\"auto\",\"x\":[2015,2015,2016,2016,2017,2017,2018,2018],\"xaxis\":\"x\",\"y\":[0,0,0,0,0,0,0,0],\"yaxis\":\"y\",\"type\":\"bar\"},{\"alignmentgroup\":\"True\",\"hovertemplate\":\"Complex2Name=\\u7d93\\u5e38\\u652f\\u51fa\\u5831\\u5ee2\\u91d1\\u984d<br>ComplexName=\\u5e02\\u7acb<br>\\u5e74\\u5ea6=%{x}<br>FValue=%{y}<extra></extra>\",\"legendgroup\":\"\\u7d93\\u5e38\\u652f\\u51fa\\u5831\\u5ee2\\u91d1\\u984d, \\u5e02\\u7acb\",\"marker\":{\"color\":\"#FFA15A\",\"pattern\":{\"shape\":\"/\"}},\"name\":\"\\u7d93\\u5e38\\u652f\\u51fa\\u5831\\u5ee2\\u91d1\\u984d, \\u5e02\\u7acb\",\"offsetgroup\":\"\\u7d93\\u5e38\\u652f\\u51fa\\u5831\\u5ee2\\u91d1\\u984d, \\u5e02\\u7acb\",\"orientation\":\"v\",\"showlegend\":true,\"textposition\":\"auto\",\"x\":[2015,2015,2016,2016,2017,2017,2018,2018],\"xaxis\":\"x\",\"y\":[0,0,0,0,0,0,0,0],\"yaxis\":\"y\",\"type\":\"bar\"},{\"alignmentgroup\":\"True\",\"hovertemplate\":\"Complex2Name=\\u7d93\\u5e38\\u652f\\u51fa\\u5831\\u5ee2\\u91d1\\u984d<br>ComplexName=\\u79c1\\u7acb<br>\\u5e74\\u5ea6=%{x}<br>FValue=%{y}<extra></extra>\",\"legendgroup\":\"\\u7d93\\u5e38\\u652f\\u51fa\\u5831\\u5ee2\\u91d1\\u984d, \\u79c1\\u7acb\",\"marker\":{\"color\":\"#FFA15A\",\"pattern\":{\"shape\":\"+\"}},\"name\":\"\\u7d93\\u5e38\\u652f\\u51fa\\u5831\\u5ee2\\u91d1\\u984d, \\u79c1\\u7acb\",\"offsetgroup\":\"\\u7d93\\u5e38\\u652f\\u51fa\\u5831\\u5ee2\\u91d1\\u984d, \\u79c1\\u7acb\",\"orientation\":\"v\",\"showlegend\":true,\"textposition\":\"auto\",\"x\":[2015,2015,2016,2016,2017,2017,2018,2018],\"xaxis\":\"x\",\"y\":[1000,1038,0,0,1400,136,6330,499],\"yaxis\":\"y\",\"type\":\"bar\"},{\"alignmentgroup\":\"True\",\"hovertemplate\":\"Complex2Name=\\u6298\\u820a\\u3001\\u6298\\u8017\\u53ca\\u6524\\u92b7<br>ComplexName=\\u570b\\u7acb<br>\\u5e74\\u5ea6=%{x}<br>FValue=%{y}<extra></extra>\",\"legendgroup\":\"\\u6298\\u820a\\u3001\\u6298\\u8017\\u53ca\\u6524\\u92b7, \\u570b\\u7acb\",\"marker\":{\"color\":\"#19d3f3\",\"pattern\":{\"shape\":\".\"}},\"name\":\"\\u6298\\u820a\\u3001\\u6298\\u8017\\u53ca\\u6524\\u92b7, \\u570b\\u7acb\",\"offsetgroup\":\"\\u6298\\u820a\\u3001\\u6298\\u8017\\u53ca\\u6524\\u92b7, \\u570b\\u7acb\",\"orientation\":\"v\",\"showlegend\":true,\"textposition\":\"auto\",\"x\":[2015,2015,2016,2016,2017,2017,2018,2018],\"xaxis\":\"x\",\"y\":[62880,74784,66385,63419,0,0,0,0],\"yaxis\":\"y\",\"type\":\"bar\"},{\"alignmentgroup\":\"True\",\"hovertemplate\":\"Complex2Name=\\u6298\\u820a\\u3001\\u6298\\u8017\\u53ca\\u6524\\u92b7<br>ComplexName=\\u5e02\\u7acb<br>\\u5e74\\u5ea6=%{x}<br>FValue=%{y}<extra></extra>\",\"legendgroup\":\"\\u6298\\u820a\\u3001\\u6298\\u8017\\u53ca\\u6524\\u92b7, \\u5e02\\u7acb\",\"marker\":{\"color\":\"#19d3f3\",\"pattern\":{\"shape\":\"/\"}},\"name\":\"\\u6298\\u820a\\u3001\\u6298\\u8017\\u53ca\\u6524\\u92b7, \\u5e02\\u7acb\",\"offsetgroup\":\"\\u6298\\u820a\\u3001\\u6298\\u8017\\u53ca\\u6524\\u92b7, \\u5e02\\u7acb\",\"orientation\":\"v\",\"showlegend\":true,\"textposition\":\"auto\",\"x\":[2015,2015,2016,2016,2017,2017,2018,2018],\"xaxis\":\"x\",\"y\":[0,0,0,0,0,0,0,27140],\"yaxis\":\"y\",\"type\":\"bar\"},{\"alignmentgroup\":\"True\",\"hovertemplate\":\"Complex2Name=\\u6298\\u820a\\u3001\\u6298\\u8017\\u53ca\\u6524\\u92b7<br>ComplexName=\\u79c1\\u7acb<br>\\u5e74\\u5ea6=%{x}<br>FValue=%{y}<extra></extra>\",\"legendgroup\":\"\\u6298\\u820a\\u3001\\u6298\\u8017\\u53ca\\u6524\\u92b7, \\u79c1\\u7acb\",\"marker\":{\"color\":\"#19d3f3\",\"pattern\":{\"shape\":\"+\"}},\"name\":\"\\u6298\\u820a\\u3001\\u6298\\u8017\\u53ca\\u6524\\u92b7, \\u79c1\\u7acb\",\"offsetgroup\":\"\\u6298\\u820a\\u3001\\u6298\\u8017\\u53ca\\u6524\\u92b7, \\u79c1\\u7acb\",\"orientation\":\"v\",\"showlegend\":true,\"textposition\":\"auto\",\"x\":[2015,2015,2016,2016,2017,2017,2018,2018],\"xaxis\":\"x\",\"y\":[0,0,0,0,0,0,0,6023],\"yaxis\":\"y\",\"type\":\"bar\"}],                        {\"template\":{\"data\":{\"histogram2dcontour\":[{\"type\":\"histogram2dcontour\",\"colorbar\":{\"outlinewidth\":0,\"ticks\":\"\"},\"colorscale\":[[0.0,\"#0d0887\"],[0.1111111111111111,\"#46039f\"],[0.2222222222222222,\"#7201a8\"],[0.3333333333333333,\"#9c179e\"],[0.4444444444444444,\"#bd3786\"],[0.5555555555555556,\"#d8576b\"],[0.6666666666666666,\"#ed7953\"],[0.7777777777777778,\"#fb9f3a\"],[0.8888888888888888,\"#fdca26\"],[1.0,\"#f0f921\"]]}],\"choropleth\":[{\"type\":\"choropleth\",\"colorbar\":{\"outlinewidth\":0,\"ticks\":\"\"}}],\"histogram2d\":[{\"type\":\"histogram2d\",\"colorbar\":{\"outlinewidth\":0,\"ticks\":\"\"},\"colorscale\":[[0.0,\"#0d0887\"],[0.1111111111111111,\"#46039f\"],[0.2222222222222222,\"#7201a8\"],[0.3333333333333333,\"#9c179e\"],[0.4444444444444444,\"#bd3786\"],[0.5555555555555556,\"#d8576b\"],[0.6666666666666666,\"#ed7953\"],[0.7777777777777778,\"#fb9f3a\"],[0.8888888888888888,\"#fdca26\"],[1.0,\"#f0f921\"]]}],\"heatmap\":[{\"type\":\"heatmap\",\"colorbar\":{\"outlinewidth\":0,\"ticks\":\"\"},\"colorscale\":[[0.0,\"#0d0887\"],[0.1111111111111111,\"#46039f\"],[0.2222222222222222,\"#7201a8\"],[0.3333333333333333,\"#9c179e\"],[0.4444444444444444,\"#bd3786\"],[0.5555555555555556,\"#d8576b\"],[0.6666666666666666,\"#ed7953\"],[0.7777777777777778,\"#fb9f3a\"],[0.8888888888888888,\"#fdca26\"],[1.0,\"#f0f921\"]]}],\"heatmapgl\":[{\"type\":\"heatmapgl\",\"colorbar\":{\"outlinewidth\":0,\"ticks\":\"\"},\"colorscale\":[[0.0,\"#0d0887\"],[0.1111111111111111,\"#46039f\"],[0.2222222222222222,\"#7201a8\"],[0.3333333333333333,\"#9c179e\"],[0.4444444444444444,\"#bd3786\"],[0.5555555555555556,\"#d8576b\"],[0.6666666666666666,\"#ed7953\"],[0.7777777777777778,\"#fb9f3a\"],[0.8888888888888888,\"#fdca26\"],[1.0,\"#f0f921\"]]}],\"contourcarpet\":[{\"type\":\"contourcarpet\",\"colorbar\":{\"outlinewidth\":0,\"ticks\":\"\"}}],\"contour\":[{\"type\":\"contour\",\"colorbar\":{\"outlinewidth\":0,\"ticks\":\"\"},\"colorscale\":[[0.0,\"#0d0887\"],[0.1111111111111111,\"#46039f\"],[0.2222222222222222,\"#7201a8\"],[0.3333333333333333,\"#9c179e\"],[0.4444444444444444,\"#bd3786\"],[0.5555555555555556,\"#d8576b\"],[0.6666666666666666,\"#ed7953\"],[0.7777777777777778,\"#fb9f3a\"],[0.8888888888888888,\"#fdca26\"],[1.0,\"#f0f921\"]]}],\"surface\":[{\"type\":\"surface\",\"colorbar\":{\"outlinewidth\":0,\"ticks\":\"\"},\"colorscale\":[[0.0,\"#0d0887\"],[0.1111111111111111,\"#46039f\"],[0.2222222222222222,\"#7201a8\"],[0.3333333333333333,\"#9c179e\"],[0.4444444444444444,\"#bd3786\"],[0.5555555555555556,\"#d8576b\"],[0.6666666666666666,\"#ed7953\"],[0.7777777777777778,\"#fb9f3a\"],[0.8888888888888888,\"#fdca26\"],[1.0,\"#f0f921\"]]}],\"mesh3d\":[{\"type\":\"mesh3d\",\"colorbar\":{\"outlinewidth\":0,\"ticks\":\"\"}}],\"scatter\":[{\"fillpattern\":{\"fillmode\":\"overlay\",\"size\":10,\"solidity\":0.2},\"type\":\"scatter\"}],\"parcoords\":[{\"type\":\"parcoords\",\"line\":{\"colorbar\":{\"outlinewidth\":0,\"ticks\":\"\"}}}],\"scatterpolargl\":[{\"type\":\"scatterpolargl\",\"marker\":{\"colorbar\":{\"outlinewidth\":0,\"ticks\":\"\"}}}],\"bar\":[{\"error_x\":{\"color\":\"#2a3f5f\"},\"error_y\":{\"color\":\"#2a3f5f\"},\"marker\":{\"line\":{\"color\":\"#E5ECF6\",\"width\":0.5},\"pattern\":{\"fillmode\":\"overlay\",\"size\":10,\"solidity\":0.2}},\"type\":\"bar\"}],\"scattergeo\":[{\"type\":\"scattergeo\",\"marker\":{\"colorbar\":{\"outlinewidth\":0,\"ticks\":\"\"}}}],\"scatterpolar\":[{\"type\":\"scatterpolar\",\"marker\":{\"colorbar\":{\"outlinewidth\":0,\"ticks\":\"\"}}}],\"histogram\":[{\"marker\":{\"pattern\":{\"fillmode\":\"overlay\",\"size\":10,\"solidity\":0.2}},\"type\":\"histogram\"}],\"scattergl\":[{\"type\":\"scattergl\",\"marker\":{\"colorbar\":{\"outlinewidth\":0,\"ticks\":\"\"}}}],\"scatter3d\":[{\"type\":\"scatter3d\",\"line\":{\"colorbar\":{\"outlinewidth\":0,\"ticks\":\"\"}},\"marker\":{\"colorbar\":{\"outlinewidth\":0,\"ticks\":\"\"}}}],\"scattermapbox\":[{\"type\":\"scattermapbox\",\"marker\":{\"colorbar\":{\"outlinewidth\":0,\"ticks\":\"\"}}}],\"scatterternary\":[{\"type\":\"scatterternary\",\"marker\":{\"colorbar\":{\"outlinewidth\":0,\"ticks\":\"\"}}}],\"scattercarpet\":[{\"type\":\"scattercarpet\",\"marker\":{\"colorbar\":{\"outlinewidth\":0,\"ticks\":\"\"}}}],\"carpet\":[{\"aaxis\":{\"endlinecolor\":\"#2a3f5f\",\"gridcolor\":\"white\",\"linecolor\":\"white\",\"minorgridcolor\":\"white\",\"startlinecolor\":\"#2a3f5f\"},\"baxis\":{\"endlinecolor\":\"#2a3f5f\",\"gridcolor\":\"white\",\"linecolor\":\"white\",\"minorgridcolor\":\"white\",\"startlinecolor\":\"#2a3f5f\"},\"type\":\"carpet\"}],\"table\":[{\"cells\":{\"fill\":{\"color\":\"#EBF0F8\"},\"line\":{\"color\":\"white\"}},\"header\":{\"fill\":{\"color\":\"#C8D4E3\"},\"line\":{\"color\":\"white\"}},\"type\":\"table\"}],\"barpolar\":[{\"marker\":{\"line\":{\"color\":\"#E5ECF6\",\"width\":0.5},\"pattern\":{\"fillmode\":\"overlay\",\"size\":10,\"solidity\":0.2}},\"type\":\"barpolar\"}],\"pie\":[{\"automargin\":true,\"type\":\"pie\"}]},\"layout\":{\"autotypenumbers\":\"strict\",\"colorway\":[\"#636efa\",\"#EF553B\",\"#00cc96\",\"#ab63fa\",\"#FFA15A\",\"#19d3f3\",\"#FF6692\",\"#B6E880\",\"#FF97FF\",\"#FECB52\"],\"font\":{\"color\":\"#2a3f5f\"},\"hovermode\":\"closest\",\"hoverlabel\":{\"align\":\"left\"},\"paper_bgcolor\":\"white\",\"plot_bgcolor\":\"#E5ECF6\",\"polar\":{\"bgcolor\":\"#E5ECF6\",\"angularaxis\":{\"gridcolor\":\"white\",\"linecolor\":\"white\",\"ticks\":\"\"},\"radialaxis\":{\"gridcolor\":\"white\",\"linecolor\":\"white\",\"ticks\":\"\"}},\"ternary\":{\"bgcolor\":\"#E5ECF6\",\"aaxis\":{\"gridcolor\":\"white\",\"linecolor\":\"white\",\"ticks\":\"\"},\"baxis\":{\"gridcolor\":\"white\",\"linecolor\":\"white\",\"ticks\":\"\"},\"caxis\":{\"gridcolor\":\"white\",\"linecolor\":\"white\",\"ticks\":\"\"}},\"coloraxis\":{\"colorbar\":{\"outlinewidth\":0,\"ticks\":\"\"}},\"colorscale\":{\"sequential\":[[0.0,\"#0d0887\"],[0.1111111111111111,\"#46039f\"],[0.2222222222222222,\"#7201a8\"],[0.3333333333333333,\"#9c179e\"],[0.4444444444444444,\"#bd3786\"],[0.5555555555555556,\"#d8576b\"],[0.6666666666666666,\"#ed7953\"],[0.7777777777777778,\"#fb9f3a\"],[0.8888888888888888,\"#fdca26\"],[1.0,\"#f0f921\"]],\"sequentialminus\":[[0.0,\"#0d0887\"],[0.1111111111111111,\"#46039f\"],[0.2222222222222222,\"#7201a8\"],[0.3333333333333333,\"#9c179e\"],[0.4444444444444444,\"#bd3786\"],[0.5555555555555556,\"#d8576b\"],[0.6666666666666666,\"#ed7953\"],[0.7777777777777778,\"#fb9f3a\"],[0.8888888888888888,\"#fdca26\"],[1.0,\"#f0f921\"]],\"diverging\":[[0,\"#8e0152\"],[0.1,\"#c51b7d\"],[0.2,\"#de77ae\"],[0.3,\"#f1b6da\"],[0.4,\"#fde0ef\"],[0.5,\"#f7f7f7\"],[0.6,\"#e6f5d0\"],[0.7,\"#b8e186\"],[0.8,\"#7fbc41\"],[0.9,\"#4d9221\"],[1,\"#276419\"]]},\"xaxis\":{\"gridcolor\":\"white\",\"linecolor\":\"white\",\"ticks\":\"\",\"title\":{\"standoff\":15},\"zerolinecolor\":\"white\",\"automargin\":true,\"zerolinewidth\":2},\"yaxis\":{\"gridcolor\":\"white\",\"linecolor\":\"white\",\"ticks\":\"\",\"title\":{\"standoff\":15},\"zerolinecolor\":\"white\",\"automargin\":true,\"zerolinewidth\":2},\"scene\":{\"xaxis\":{\"backgroundcolor\":\"#E5ECF6\",\"gridcolor\":\"white\",\"linecolor\":\"white\",\"showbackground\":true,\"ticks\":\"\",\"zerolinecolor\":\"white\",\"gridwidth\":2},\"yaxis\":{\"backgroundcolor\":\"#E5ECF6\",\"gridcolor\":\"white\",\"linecolor\":\"white\",\"showbackground\":true,\"ticks\":\"\",\"zerolinecolor\":\"white\",\"gridwidth\":2},\"zaxis\":{\"backgroundcolor\":\"#E5ECF6\",\"gridcolor\":\"white\",\"linecolor\":\"white\",\"showbackground\":true,\"ticks\":\"\",\"zerolinecolor\":\"white\",\"gridwidth\":2}},\"shapedefaults\":{\"line\":{\"color\":\"#2a3f5f\"}},\"annotationdefaults\":{\"arrowcolor\":\"#2a3f5f\",\"arrowhead\":0,\"arrowwidth\":1},\"geo\":{\"bgcolor\":\"white\",\"landcolor\":\"#E5ECF6\",\"subunitcolor\":\"white\",\"showland\":true,\"showlakes\":true,\"lakecolor\":\"white\"},\"title\":{\"x\":0.05},\"mapbox\":{\"style\":\"light\"}}},\"xaxis\":{\"anchor\":\"y\",\"domain\":[0.0,1.0],\"title\":{\"text\":\"\\u5e74\\u5ea6\"}},\"yaxis\":{\"anchor\":\"x\",\"domain\":[0.0,1.0],\"title\":{\"text\":\"FValue\"}},\"legend\":{\"title\":{\"text\":\"Complex2Name, ComplexName\"},\"tracegroupgap\":0},\"margin\":{\"t\":60},\"barmode\":\"group\"},                        {\"responsive\": true}                    ).then(function(){\n",
       "                            \n",
       "var gd = document.getElementById('05337bfa-ae58-4d29-852e-397d44e15842');\n",
       "var x = new MutationObserver(function (mutations, observer) {{\n",
       "        var display = window.getComputedStyle(gd).display;\n",
       "        if (!display || display === 'none') {{\n",
       "            console.log([gd, 'removed!']);\n",
       "            Plotly.purge(gd);\n",
       "            observer.disconnect();\n",
       "        }}\n",
       "}});\n",
       "\n",
       "// Listen for the removal of the full notebook cells\n",
       "var notebookContainer = gd.closest('#notebook-container');\n",
       "if (notebookContainer) {{\n",
       "    x.observe(notebookContainer, {childList: true});\n",
       "}}\n",
       "\n",
       "// Listen for the clearing of the current output cell\n",
       "var outputEl = gd.closest('.output');\n",
       "if (outputEl) {{\n",
       "    x.observe(outputEl, {childList: true});\n",
       "}}\n",
       "\n",
       "                        })                };                });            </script>        </div>"
      ]
     },
     "metadata": {},
     "output_type": "display_data"
    }
   ],
   "source": [
    "import plotly.express as px\n",
    "fig = px.bar(對應支出金額,x=\"年度\", y=\"FValue\", color=\"Complex2Name\",barmode='group',pattern_shape=\"ComplexName\", pattern_shape_sequence=[\".\", \"/\", \"+\"])\n",
    "fig.show()"
   ]
  },
  {
   "cell_type": "markdown",
   "id": "3a68b634",
   "metadata": {},
   "source": [
    "上述的圖表中合併國市私立的全部屬性資料，雖然區分出各個類別了，但是各個資料中數值差距過大，導致整個資料中符號標示不明顯，看起來很雜亂，所以獨立區分出國立、市立、私立的資料。"
   ]
  },
  {
   "cell_type": "code",
   "execution_count": 31,
   "id": "aae4fae9",
   "metadata": {
    "scrolled": true
   },
   "outputs": [
    {
     "data": {
      "application/vnd.plotly.v1+json": {
       "config": {
        "plotlyServerURL": "https://plot.ly"
       },
       "data": [
        {
         "alignmentgroup": "True",
         "hovertemplate": "Complex2Name=經常支出<br>年度=%{x}<br>FValue=%{y}<extra></extra>",
         "legendgroup": "經常支出",
         "marker": {
          "color": "#EF553B",
          "pattern": {
           "shape": ""
          }
         },
         "name": "經常支出",
         "offsetgroup": "經常支出",
         "orientation": "v",
         "showlegend": true,
         "textposition": "auto",
         "type": "bar",
         "x": [
          2015,
          2015,
          2016,
          2016,
          2017,
          2017,
          2018,
          2018
         ],
         "xaxis": "x",
         "y": [
          481303,
          445445,
          492093,
          464759,
          0,
          0,
          0,
          0
         ],
         "yaxis": "y"
        },
        {
         "alignmentgroup": "True",
         "hovertemplate": "Complex2Name=資本支出<br>年度=%{x}<br>FValue=%{y}<extra></extra>",
         "legendgroup": "資本支出",
         "marker": {
          "color": "#00cc96",
          "pattern": {
           "shape": ""
          }
         },
         "name": "資本支出",
         "offsetgroup": "資本支出",
         "orientation": "v",
         "showlegend": true,
         "textposition": "auto",
         "type": "bar",
         "x": [
          2015,
          2015,
          2016,
          2016,
          2017,
          2017,
          2018,
          2018
         ],
         "xaxis": "x",
         "y": [
          29063,
          18682,
          36622,
          28930,
          0,
          0,
          0,
          0
         ],
         "yaxis": "y"
        },
        {
         "alignmentgroup": "True",
         "hovertemplate": "Complex2Name=償還借款<br>年度=%{x}<br>FValue=%{y}<extra></extra>",
         "legendgroup": "償還借款",
         "marker": {
          "color": "#ab63fa",
          "pattern": {
           "shape": ""
          }
         },
         "name": "償還借款",
         "offsetgroup": "償還借款",
         "orientation": "v",
         "showlegend": true,
         "textposition": "auto",
         "type": "bar",
         "x": [
          2015,
          2015,
          2016,
          2016,
          2017,
          2017,
          2018,
          2018
         ],
         "xaxis": "x",
         "y": [
          0,
          0,
          0,
          0,
          0,
          0,
          0,
          0
         ],
         "yaxis": "y"
        },
        {
         "alignmentgroup": "True",
         "hovertemplate": "Complex2Name=經常支出報廢金額<br>年度=%{x}<br>FValue=%{y}<extra></extra>",
         "legendgroup": "經常支出報廢金額",
         "marker": {
          "color": "#FFA15A",
          "pattern": {
           "shape": ""
          }
         },
         "name": "經常支出報廢金額",
         "offsetgroup": "經常支出報廢金額",
         "orientation": "v",
         "showlegend": true,
         "textposition": "auto",
         "type": "bar",
         "x": [
          2015,
          2015,
          2016,
          2016,
          2017,
          2017,
          2018,
          2018
         ],
         "xaxis": "x",
         "y": [
          0,
          0,
          0,
          0,
          0,
          0,
          0,
          0
         ],
         "yaxis": "y"
        },
        {
         "alignmentgroup": "True",
         "hovertemplate": "Complex2Name=折舊、折耗及攤銷<br>年度=%{x}<br>FValue=%{y}<extra></extra>",
         "legendgroup": "折舊、折耗及攤銷",
         "marker": {
          "color": "#19d3f3",
          "pattern": {
           "shape": ""
          }
         },
         "name": "折舊、折耗及攤銷",
         "offsetgroup": "折舊、折耗及攤銷",
         "orientation": "v",
         "showlegend": true,
         "textposition": "auto",
         "type": "bar",
         "x": [
          2015,
          2015,
          2016,
          2016,
          2017,
          2017,
          2018,
          2018
         ],
         "xaxis": "x",
         "y": [
          62880,
          74784,
          66385,
          63419,
          0,
          0,
          0,
          0
         ],
         "yaxis": "y"
        }
       ],
       "layout": {
        "barmode": "group",
        "legend": {
         "title": {
          "text": "Complex2Name"
         },
         "tracegroupgap": 0
        },
        "margin": {
         "t": 60
        },
        "template": {
         "data": {
          "bar": [
           {
            "error_x": {
             "color": "#2a3f5f"
            },
            "error_y": {
             "color": "#2a3f5f"
            },
            "marker": {
             "line": {
              "color": "#E5ECF6",
              "width": 0.5
             },
             "pattern": {
              "fillmode": "overlay",
              "size": 10,
              "solidity": 0.2
             }
            },
            "type": "bar"
           }
          ],
          "barpolar": [
           {
            "marker": {
             "line": {
              "color": "#E5ECF6",
              "width": 0.5
             },
             "pattern": {
              "fillmode": "overlay",
              "size": 10,
              "solidity": 0.2
             }
            },
            "type": "barpolar"
           }
          ],
          "carpet": [
           {
            "aaxis": {
             "endlinecolor": "#2a3f5f",
             "gridcolor": "white",
             "linecolor": "white",
             "minorgridcolor": "white",
             "startlinecolor": "#2a3f5f"
            },
            "baxis": {
             "endlinecolor": "#2a3f5f",
             "gridcolor": "white",
             "linecolor": "white",
             "minorgridcolor": "white",
             "startlinecolor": "#2a3f5f"
            },
            "type": "carpet"
           }
          ],
          "choropleth": [
           {
            "colorbar": {
             "outlinewidth": 0,
             "ticks": ""
            },
            "type": "choropleth"
           }
          ],
          "contour": [
           {
            "colorbar": {
             "outlinewidth": 0,
             "ticks": ""
            },
            "colorscale": [
             [
              0,
              "#0d0887"
             ],
             [
              0.1111111111111111,
              "#46039f"
             ],
             [
              0.2222222222222222,
              "#7201a8"
             ],
             [
              0.3333333333333333,
              "#9c179e"
             ],
             [
              0.4444444444444444,
              "#bd3786"
             ],
             [
              0.5555555555555556,
              "#d8576b"
             ],
             [
              0.6666666666666666,
              "#ed7953"
             ],
             [
              0.7777777777777778,
              "#fb9f3a"
             ],
             [
              0.8888888888888888,
              "#fdca26"
             ],
             [
              1,
              "#f0f921"
             ]
            ],
            "type": "contour"
           }
          ],
          "contourcarpet": [
           {
            "colorbar": {
             "outlinewidth": 0,
             "ticks": ""
            },
            "type": "contourcarpet"
           }
          ],
          "heatmap": [
           {
            "colorbar": {
             "outlinewidth": 0,
             "ticks": ""
            },
            "colorscale": [
             [
              0,
              "#0d0887"
             ],
             [
              0.1111111111111111,
              "#46039f"
             ],
             [
              0.2222222222222222,
              "#7201a8"
             ],
             [
              0.3333333333333333,
              "#9c179e"
             ],
             [
              0.4444444444444444,
              "#bd3786"
             ],
             [
              0.5555555555555556,
              "#d8576b"
             ],
             [
              0.6666666666666666,
              "#ed7953"
             ],
             [
              0.7777777777777778,
              "#fb9f3a"
             ],
             [
              0.8888888888888888,
              "#fdca26"
             ],
             [
              1,
              "#f0f921"
             ]
            ],
            "type": "heatmap"
           }
          ],
          "heatmapgl": [
           {
            "colorbar": {
             "outlinewidth": 0,
             "ticks": ""
            },
            "colorscale": [
             [
              0,
              "#0d0887"
             ],
             [
              0.1111111111111111,
              "#46039f"
             ],
             [
              0.2222222222222222,
              "#7201a8"
             ],
             [
              0.3333333333333333,
              "#9c179e"
             ],
             [
              0.4444444444444444,
              "#bd3786"
             ],
             [
              0.5555555555555556,
              "#d8576b"
             ],
             [
              0.6666666666666666,
              "#ed7953"
             ],
             [
              0.7777777777777778,
              "#fb9f3a"
             ],
             [
              0.8888888888888888,
              "#fdca26"
             ],
             [
              1,
              "#f0f921"
             ]
            ],
            "type": "heatmapgl"
           }
          ],
          "histogram": [
           {
            "marker": {
             "pattern": {
              "fillmode": "overlay",
              "size": 10,
              "solidity": 0.2
             }
            },
            "type": "histogram"
           }
          ],
          "histogram2d": [
           {
            "colorbar": {
             "outlinewidth": 0,
             "ticks": ""
            },
            "colorscale": [
             [
              0,
              "#0d0887"
             ],
             [
              0.1111111111111111,
              "#46039f"
             ],
             [
              0.2222222222222222,
              "#7201a8"
             ],
             [
              0.3333333333333333,
              "#9c179e"
             ],
             [
              0.4444444444444444,
              "#bd3786"
             ],
             [
              0.5555555555555556,
              "#d8576b"
             ],
             [
              0.6666666666666666,
              "#ed7953"
             ],
             [
              0.7777777777777778,
              "#fb9f3a"
             ],
             [
              0.8888888888888888,
              "#fdca26"
             ],
             [
              1,
              "#f0f921"
             ]
            ],
            "type": "histogram2d"
           }
          ],
          "histogram2dcontour": [
           {
            "colorbar": {
             "outlinewidth": 0,
             "ticks": ""
            },
            "colorscale": [
             [
              0,
              "#0d0887"
             ],
             [
              0.1111111111111111,
              "#46039f"
             ],
             [
              0.2222222222222222,
              "#7201a8"
             ],
             [
              0.3333333333333333,
              "#9c179e"
             ],
             [
              0.4444444444444444,
              "#bd3786"
             ],
             [
              0.5555555555555556,
              "#d8576b"
             ],
             [
              0.6666666666666666,
              "#ed7953"
             ],
             [
              0.7777777777777778,
              "#fb9f3a"
             ],
             [
              0.8888888888888888,
              "#fdca26"
             ],
             [
              1,
              "#f0f921"
             ]
            ],
            "type": "histogram2dcontour"
           }
          ],
          "mesh3d": [
           {
            "colorbar": {
             "outlinewidth": 0,
             "ticks": ""
            },
            "type": "mesh3d"
           }
          ],
          "parcoords": [
           {
            "line": {
             "colorbar": {
              "outlinewidth": 0,
              "ticks": ""
             }
            },
            "type": "parcoords"
           }
          ],
          "pie": [
           {
            "automargin": true,
            "type": "pie"
           }
          ],
          "scatter": [
           {
            "fillpattern": {
             "fillmode": "overlay",
             "size": 10,
             "solidity": 0.2
            },
            "type": "scatter"
           }
          ],
          "scatter3d": [
           {
            "line": {
             "colorbar": {
              "outlinewidth": 0,
              "ticks": ""
             }
            },
            "marker": {
             "colorbar": {
              "outlinewidth": 0,
              "ticks": ""
             }
            },
            "type": "scatter3d"
           }
          ],
          "scattercarpet": [
           {
            "marker": {
             "colorbar": {
              "outlinewidth": 0,
              "ticks": ""
             }
            },
            "type": "scattercarpet"
           }
          ],
          "scattergeo": [
           {
            "marker": {
             "colorbar": {
              "outlinewidth": 0,
              "ticks": ""
             }
            },
            "type": "scattergeo"
           }
          ],
          "scattergl": [
           {
            "marker": {
             "colorbar": {
              "outlinewidth": 0,
              "ticks": ""
             }
            },
            "type": "scattergl"
           }
          ],
          "scattermapbox": [
           {
            "marker": {
             "colorbar": {
              "outlinewidth": 0,
              "ticks": ""
             }
            },
            "type": "scattermapbox"
           }
          ],
          "scatterpolar": [
           {
            "marker": {
             "colorbar": {
              "outlinewidth": 0,
              "ticks": ""
             }
            },
            "type": "scatterpolar"
           }
          ],
          "scatterpolargl": [
           {
            "marker": {
             "colorbar": {
              "outlinewidth": 0,
              "ticks": ""
             }
            },
            "type": "scatterpolargl"
           }
          ],
          "scatterternary": [
           {
            "marker": {
             "colorbar": {
              "outlinewidth": 0,
              "ticks": ""
             }
            },
            "type": "scatterternary"
           }
          ],
          "surface": [
           {
            "colorbar": {
             "outlinewidth": 0,
             "ticks": ""
            },
            "colorscale": [
             [
              0,
              "#0d0887"
             ],
             [
              0.1111111111111111,
              "#46039f"
             ],
             [
              0.2222222222222222,
              "#7201a8"
             ],
             [
              0.3333333333333333,
              "#9c179e"
             ],
             [
              0.4444444444444444,
              "#bd3786"
             ],
             [
              0.5555555555555556,
              "#d8576b"
             ],
             [
              0.6666666666666666,
              "#ed7953"
             ],
             [
              0.7777777777777778,
              "#fb9f3a"
             ],
             [
              0.8888888888888888,
              "#fdca26"
             ],
             [
              1,
              "#f0f921"
             ]
            ],
            "type": "surface"
           }
          ],
          "table": [
           {
            "cells": {
             "fill": {
              "color": "#EBF0F8"
             },
             "line": {
              "color": "white"
             }
            },
            "header": {
             "fill": {
              "color": "#C8D4E3"
             },
             "line": {
              "color": "white"
             }
            },
            "type": "table"
           }
          ]
         },
         "layout": {
          "annotationdefaults": {
           "arrowcolor": "#2a3f5f",
           "arrowhead": 0,
           "arrowwidth": 1
          },
          "autotypenumbers": "strict",
          "coloraxis": {
           "colorbar": {
            "outlinewidth": 0,
            "ticks": ""
           }
          },
          "colorscale": {
           "diverging": [
            [
             0,
             "#8e0152"
            ],
            [
             0.1,
             "#c51b7d"
            ],
            [
             0.2,
             "#de77ae"
            ],
            [
             0.3,
             "#f1b6da"
            ],
            [
             0.4,
             "#fde0ef"
            ],
            [
             0.5,
             "#f7f7f7"
            ],
            [
             0.6,
             "#e6f5d0"
            ],
            [
             0.7,
             "#b8e186"
            ],
            [
             0.8,
             "#7fbc41"
            ],
            [
             0.9,
             "#4d9221"
            ],
            [
             1,
             "#276419"
            ]
           ],
           "sequential": [
            [
             0,
             "#0d0887"
            ],
            [
             0.1111111111111111,
             "#46039f"
            ],
            [
             0.2222222222222222,
             "#7201a8"
            ],
            [
             0.3333333333333333,
             "#9c179e"
            ],
            [
             0.4444444444444444,
             "#bd3786"
            ],
            [
             0.5555555555555556,
             "#d8576b"
            ],
            [
             0.6666666666666666,
             "#ed7953"
            ],
            [
             0.7777777777777778,
             "#fb9f3a"
            ],
            [
             0.8888888888888888,
             "#fdca26"
            ],
            [
             1,
             "#f0f921"
            ]
           ],
           "sequentialminus": [
            [
             0,
             "#0d0887"
            ],
            [
             0.1111111111111111,
             "#46039f"
            ],
            [
             0.2222222222222222,
             "#7201a8"
            ],
            [
             0.3333333333333333,
             "#9c179e"
            ],
            [
             0.4444444444444444,
             "#bd3786"
            ],
            [
             0.5555555555555556,
             "#d8576b"
            ],
            [
             0.6666666666666666,
             "#ed7953"
            ],
            [
             0.7777777777777778,
             "#fb9f3a"
            ],
            [
             0.8888888888888888,
             "#fdca26"
            ],
            [
             1,
             "#f0f921"
            ]
           ]
          },
          "colorway": [
           "#636efa",
           "#EF553B",
           "#00cc96",
           "#ab63fa",
           "#FFA15A",
           "#19d3f3",
           "#FF6692",
           "#B6E880",
           "#FF97FF",
           "#FECB52"
          ],
          "font": {
           "color": "#2a3f5f"
          },
          "geo": {
           "bgcolor": "white",
           "lakecolor": "white",
           "landcolor": "#E5ECF6",
           "showlakes": true,
           "showland": true,
           "subunitcolor": "white"
          },
          "hoverlabel": {
           "align": "left"
          },
          "hovermode": "closest",
          "mapbox": {
           "style": "light"
          },
          "paper_bgcolor": "white",
          "plot_bgcolor": "#E5ECF6",
          "polar": {
           "angularaxis": {
            "gridcolor": "white",
            "linecolor": "white",
            "ticks": ""
           },
           "bgcolor": "#E5ECF6",
           "radialaxis": {
            "gridcolor": "white",
            "linecolor": "white",
            "ticks": ""
           }
          },
          "scene": {
           "xaxis": {
            "backgroundcolor": "#E5ECF6",
            "gridcolor": "white",
            "gridwidth": 2,
            "linecolor": "white",
            "showbackground": true,
            "ticks": "",
            "zerolinecolor": "white"
           },
           "yaxis": {
            "backgroundcolor": "#E5ECF6",
            "gridcolor": "white",
            "gridwidth": 2,
            "linecolor": "white",
            "showbackground": true,
            "ticks": "",
            "zerolinecolor": "white"
           },
           "zaxis": {
            "backgroundcolor": "#E5ECF6",
            "gridcolor": "white",
            "gridwidth": 2,
            "linecolor": "white",
            "showbackground": true,
            "ticks": "",
            "zerolinecolor": "white"
           }
          },
          "shapedefaults": {
           "line": {
            "color": "#2a3f5f"
           }
          },
          "ternary": {
           "aaxis": {
            "gridcolor": "white",
            "linecolor": "white",
            "ticks": ""
           },
           "baxis": {
            "gridcolor": "white",
            "linecolor": "white",
            "ticks": ""
           },
           "bgcolor": "#E5ECF6",
           "caxis": {
            "gridcolor": "white",
            "linecolor": "white",
            "ticks": ""
           }
          },
          "title": {
           "x": 0.05
          },
          "xaxis": {
           "automargin": true,
           "gridcolor": "white",
           "linecolor": "white",
           "ticks": "",
           "title": {
            "standoff": 15
           },
           "zerolinecolor": "white",
           "zerolinewidth": 2
          },
          "yaxis": {
           "automargin": true,
           "gridcolor": "white",
           "linecolor": "white",
           "ticks": "",
           "title": {
            "standoff": 15
           },
           "zerolinecolor": "white",
           "zerolinewidth": 2
          }
         }
        },
        "xaxis": {
         "anchor": "y",
         "domain": [
          0,
          1
         ],
         "title": {
          "text": "年度"
         }
        },
        "yaxis": {
         "anchor": "x",
         "domain": [
          0,
          1
         ],
         "title": {
          "text": "FValue"
         }
        }
       }
      },
      "text/html": [
       "<div>                            <div id=\"40dce260-c88d-4a58-bc94-ab40903b4dd9\" class=\"plotly-graph-div\" style=\"height:525px; width:100%;\"></div>            <script type=\"text/javascript\">                require([\"plotly\"], function(Plotly) {                    window.PLOTLYENV=window.PLOTLYENV || {};                                    if (document.getElementById(\"40dce260-c88d-4a58-bc94-ab40903b4dd9\")) {                    Plotly.newPlot(                        \"40dce260-c88d-4a58-bc94-ab40903b4dd9\",                        [{\"alignmentgroup\":\"True\",\"hovertemplate\":\"Complex2Name=\\u7d93\\u5e38\\u652f\\u51fa<br>\\u5e74\\u5ea6=%{x}<br>FValue=%{y}<extra></extra>\",\"legendgroup\":\"\\u7d93\\u5e38\\u652f\\u51fa\",\"marker\":{\"color\":\"#EF553B\",\"pattern\":{\"shape\":\"\"}},\"name\":\"\\u7d93\\u5e38\\u652f\\u51fa\",\"offsetgroup\":\"\\u7d93\\u5e38\\u652f\\u51fa\",\"orientation\":\"v\",\"showlegend\":true,\"textposition\":\"auto\",\"x\":[2015,2015,2016,2016,2017,2017,2018,2018],\"xaxis\":\"x\",\"y\":[481303,445445,492093,464759,0,0,0,0],\"yaxis\":\"y\",\"type\":\"bar\"},{\"alignmentgroup\":\"True\",\"hovertemplate\":\"Complex2Name=\\u8cc7\\u672c\\u652f\\u51fa<br>\\u5e74\\u5ea6=%{x}<br>FValue=%{y}<extra></extra>\",\"legendgroup\":\"\\u8cc7\\u672c\\u652f\\u51fa\",\"marker\":{\"color\":\"#00cc96\",\"pattern\":{\"shape\":\"\"}},\"name\":\"\\u8cc7\\u672c\\u652f\\u51fa\",\"offsetgroup\":\"\\u8cc7\\u672c\\u652f\\u51fa\",\"orientation\":\"v\",\"showlegend\":true,\"textposition\":\"auto\",\"x\":[2015,2015,2016,2016,2017,2017,2018,2018],\"xaxis\":\"x\",\"y\":[29063,18682,36622,28930,0,0,0,0],\"yaxis\":\"y\",\"type\":\"bar\"},{\"alignmentgroup\":\"True\",\"hovertemplate\":\"Complex2Name=\\u511f\\u9084\\u501f\\u6b3e<br>\\u5e74\\u5ea6=%{x}<br>FValue=%{y}<extra></extra>\",\"legendgroup\":\"\\u511f\\u9084\\u501f\\u6b3e\",\"marker\":{\"color\":\"#ab63fa\",\"pattern\":{\"shape\":\"\"}},\"name\":\"\\u511f\\u9084\\u501f\\u6b3e\",\"offsetgroup\":\"\\u511f\\u9084\\u501f\\u6b3e\",\"orientation\":\"v\",\"showlegend\":true,\"textposition\":\"auto\",\"x\":[2015,2015,2016,2016,2017,2017,2018,2018],\"xaxis\":\"x\",\"y\":[0,0,0,0,0,0,0,0],\"yaxis\":\"y\",\"type\":\"bar\"},{\"alignmentgroup\":\"True\",\"hovertemplate\":\"Complex2Name=\\u7d93\\u5e38\\u652f\\u51fa\\u5831\\u5ee2\\u91d1\\u984d<br>\\u5e74\\u5ea6=%{x}<br>FValue=%{y}<extra></extra>\",\"legendgroup\":\"\\u7d93\\u5e38\\u652f\\u51fa\\u5831\\u5ee2\\u91d1\\u984d\",\"marker\":{\"color\":\"#FFA15A\",\"pattern\":{\"shape\":\"\"}},\"name\":\"\\u7d93\\u5e38\\u652f\\u51fa\\u5831\\u5ee2\\u91d1\\u984d\",\"offsetgroup\":\"\\u7d93\\u5e38\\u652f\\u51fa\\u5831\\u5ee2\\u91d1\\u984d\",\"orientation\":\"v\",\"showlegend\":true,\"textposition\":\"auto\",\"x\":[2015,2015,2016,2016,2017,2017,2018,2018],\"xaxis\":\"x\",\"y\":[0,0,0,0,0,0,0,0],\"yaxis\":\"y\",\"type\":\"bar\"},{\"alignmentgroup\":\"True\",\"hovertemplate\":\"Complex2Name=\\u6298\\u820a\\u3001\\u6298\\u8017\\u53ca\\u6524\\u92b7<br>\\u5e74\\u5ea6=%{x}<br>FValue=%{y}<extra></extra>\",\"legendgroup\":\"\\u6298\\u820a\\u3001\\u6298\\u8017\\u53ca\\u6524\\u92b7\",\"marker\":{\"color\":\"#19d3f3\",\"pattern\":{\"shape\":\"\"}},\"name\":\"\\u6298\\u820a\\u3001\\u6298\\u8017\\u53ca\\u6524\\u92b7\",\"offsetgroup\":\"\\u6298\\u820a\\u3001\\u6298\\u8017\\u53ca\\u6524\\u92b7\",\"orientation\":\"v\",\"showlegend\":true,\"textposition\":\"auto\",\"x\":[2015,2015,2016,2016,2017,2017,2018,2018],\"xaxis\":\"x\",\"y\":[62880,74784,66385,63419,0,0,0,0],\"yaxis\":\"y\",\"type\":\"bar\"}],                        {\"template\":{\"data\":{\"histogram2dcontour\":[{\"type\":\"histogram2dcontour\",\"colorbar\":{\"outlinewidth\":0,\"ticks\":\"\"},\"colorscale\":[[0.0,\"#0d0887\"],[0.1111111111111111,\"#46039f\"],[0.2222222222222222,\"#7201a8\"],[0.3333333333333333,\"#9c179e\"],[0.4444444444444444,\"#bd3786\"],[0.5555555555555556,\"#d8576b\"],[0.6666666666666666,\"#ed7953\"],[0.7777777777777778,\"#fb9f3a\"],[0.8888888888888888,\"#fdca26\"],[1.0,\"#f0f921\"]]}],\"choropleth\":[{\"type\":\"choropleth\",\"colorbar\":{\"outlinewidth\":0,\"ticks\":\"\"}}],\"histogram2d\":[{\"type\":\"histogram2d\",\"colorbar\":{\"outlinewidth\":0,\"ticks\":\"\"},\"colorscale\":[[0.0,\"#0d0887\"],[0.1111111111111111,\"#46039f\"],[0.2222222222222222,\"#7201a8\"],[0.3333333333333333,\"#9c179e\"],[0.4444444444444444,\"#bd3786\"],[0.5555555555555556,\"#d8576b\"],[0.6666666666666666,\"#ed7953\"],[0.7777777777777778,\"#fb9f3a\"],[0.8888888888888888,\"#fdca26\"],[1.0,\"#f0f921\"]]}],\"heatmap\":[{\"type\":\"heatmap\",\"colorbar\":{\"outlinewidth\":0,\"ticks\":\"\"},\"colorscale\":[[0.0,\"#0d0887\"],[0.1111111111111111,\"#46039f\"],[0.2222222222222222,\"#7201a8\"],[0.3333333333333333,\"#9c179e\"],[0.4444444444444444,\"#bd3786\"],[0.5555555555555556,\"#d8576b\"],[0.6666666666666666,\"#ed7953\"],[0.7777777777777778,\"#fb9f3a\"],[0.8888888888888888,\"#fdca26\"],[1.0,\"#f0f921\"]]}],\"heatmapgl\":[{\"type\":\"heatmapgl\",\"colorbar\":{\"outlinewidth\":0,\"ticks\":\"\"},\"colorscale\":[[0.0,\"#0d0887\"],[0.1111111111111111,\"#46039f\"],[0.2222222222222222,\"#7201a8\"],[0.3333333333333333,\"#9c179e\"],[0.4444444444444444,\"#bd3786\"],[0.5555555555555556,\"#d8576b\"],[0.6666666666666666,\"#ed7953\"],[0.7777777777777778,\"#fb9f3a\"],[0.8888888888888888,\"#fdca26\"],[1.0,\"#f0f921\"]]}],\"contourcarpet\":[{\"type\":\"contourcarpet\",\"colorbar\":{\"outlinewidth\":0,\"ticks\":\"\"}}],\"contour\":[{\"type\":\"contour\",\"colorbar\":{\"outlinewidth\":0,\"ticks\":\"\"},\"colorscale\":[[0.0,\"#0d0887\"],[0.1111111111111111,\"#46039f\"],[0.2222222222222222,\"#7201a8\"],[0.3333333333333333,\"#9c179e\"],[0.4444444444444444,\"#bd3786\"],[0.5555555555555556,\"#d8576b\"],[0.6666666666666666,\"#ed7953\"],[0.7777777777777778,\"#fb9f3a\"],[0.8888888888888888,\"#fdca26\"],[1.0,\"#f0f921\"]]}],\"surface\":[{\"type\":\"surface\",\"colorbar\":{\"outlinewidth\":0,\"ticks\":\"\"},\"colorscale\":[[0.0,\"#0d0887\"],[0.1111111111111111,\"#46039f\"],[0.2222222222222222,\"#7201a8\"],[0.3333333333333333,\"#9c179e\"],[0.4444444444444444,\"#bd3786\"],[0.5555555555555556,\"#d8576b\"],[0.6666666666666666,\"#ed7953\"],[0.7777777777777778,\"#fb9f3a\"],[0.8888888888888888,\"#fdca26\"],[1.0,\"#f0f921\"]]}],\"mesh3d\":[{\"type\":\"mesh3d\",\"colorbar\":{\"outlinewidth\":0,\"ticks\":\"\"}}],\"scatter\":[{\"fillpattern\":{\"fillmode\":\"overlay\",\"size\":10,\"solidity\":0.2},\"type\":\"scatter\"}],\"parcoords\":[{\"type\":\"parcoords\",\"line\":{\"colorbar\":{\"outlinewidth\":0,\"ticks\":\"\"}}}],\"scatterpolargl\":[{\"type\":\"scatterpolargl\",\"marker\":{\"colorbar\":{\"outlinewidth\":0,\"ticks\":\"\"}}}],\"bar\":[{\"error_x\":{\"color\":\"#2a3f5f\"},\"error_y\":{\"color\":\"#2a3f5f\"},\"marker\":{\"line\":{\"color\":\"#E5ECF6\",\"width\":0.5},\"pattern\":{\"fillmode\":\"overlay\",\"size\":10,\"solidity\":0.2}},\"type\":\"bar\"}],\"scattergeo\":[{\"type\":\"scattergeo\",\"marker\":{\"colorbar\":{\"outlinewidth\":0,\"ticks\":\"\"}}}],\"scatterpolar\":[{\"type\":\"scatterpolar\",\"marker\":{\"colorbar\":{\"outlinewidth\":0,\"ticks\":\"\"}}}],\"histogram\":[{\"marker\":{\"pattern\":{\"fillmode\":\"overlay\",\"size\":10,\"solidity\":0.2}},\"type\":\"histogram\"}],\"scattergl\":[{\"type\":\"scattergl\",\"marker\":{\"colorbar\":{\"outlinewidth\":0,\"ticks\":\"\"}}}],\"scatter3d\":[{\"type\":\"scatter3d\",\"line\":{\"colorbar\":{\"outlinewidth\":0,\"ticks\":\"\"}},\"marker\":{\"colorbar\":{\"outlinewidth\":0,\"ticks\":\"\"}}}],\"scattermapbox\":[{\"type\":\"scattermapbox\",\"marker\":{\"colorbar\":{\"outlinewidth\":0,\"ticks\":\"\"}}}],\"scatterternary\":[{\"type\":\"scatterternary\",\"marker\":{\"colorbar\":{\"outlinewidth\":0,\"ticks\":\"\"}}}],\"scattercarpet\":[{\"type\":\"scattercarpet\",\"marker\":{\"colorbar\":{\"outlinewidth\":0,\"ticks\":\"\"}}}],\"carpet\":[{\"aaxis\":{\"endlinecolor\":\"#2a3f5f\",\"gridcolor\":\"white\",\"linecolor\":\"white\",\"minorgridcolor\":\"white\",\"startlinecolor\":\"#2a3f5f\"},\"baxis\":{\"endlinecolor\":\"#2a3f5f\",\"gridcolor\":\"white\",\"linecolor\":\"white\",\"minorgridcolor\":\"white\",\"startlinecolor\":\"#2a3f5f\"},\"type\":\"carpet\"}],\"table\":[{\"cells\":{\"fill\":{\"color\":\"#EBF0F8\"},\"line\":{\"color\":\"white\"}},\"header\":{\"fill\":{\"color\":\"#C8D4E3\"},\"line\":{\"color\":\"white\"}},\"type\":\"table\"}],\"barpolar\":[{\"marker\":{\"line\":{\"color\":\"#E5ECF6\",\"width\":0.5},\"pattern\":{\"fillmode\":\"overlay\",\"size\":10,\"solidity\":0.2}},\"type\":\"barpolar\"}],\"pie\":[{\"automargin\":true,\"type\":\"pie\"}]},\"layout\":{\"autotypenumbers\":\"strict\",\"colorway\":[\"#636efa\",\"#EF553B\",\"#00cc96\",\"#ab63fa\",\"#FFA15A\",\"#19d3f3\",\"#FF6692\",\"#B6E880\",\"#FF97FF\",\"#FECB52\"],\"font\":{\"color\":\"#2a3f5f\"},\"hovermode\":\"closest\",\"hoverlabel\":{\"align\":\"left\"},\"paper_bgcolor\":\"white\",\"plot_bgcolor\":\"#E5ECF6\",\"polar\":{\"bgcolor\":\"#E5ECF6\",\"angularaxis\":{\"gridcolor\":\"white\",\"linecolor\":\"white\",\"ticks\":\"\"},\"radialaxis\":{\"gridcolor\":\"white\",\"linecolor\":\"white\",\"ticks\":\"\"}},\"ternary\":{\"bgcolor\":\"#E5ECF6\",\"aaxis\":{\"gridcolor\":\"white\",\"linecolor\":\"white\",\"ticks\":\"\"},\"baxis\":{\"gridcolor\":\"white\",\"linecolor\":\"white\",\"ticks\":\"\"},\"caxis\":{\"gridcolor\":\"white\",\"linecolor\":\"white\",\"ticks\":\"\"}},\"coloraxis\":{\"colorbar\":{\"outlinewidth\":0,\"ticks\":\"\"}},\"colorscale\":{\"sequential\":[[0.0,\"#0d0887\"],[0.1111111111111111,\"#46039f\"],[0.2222222222222222,\"#7201a8\"],[0.3333333333333333,\"#9c179e\"],[0.4444444444444444,\"#bd3786\"],[0.5555555555555556,\"#d8576b\"],[0.6666666666666666,\"#ed7953\"],[0.7777777777777778,\"#fb9f3a\"],[0.8888888888888888,\"#fdca26\"],[1.0,\"#f0f921\"]],\"sequentialminus\":[[0.0,\"#0d0887\"],[0.1111111111111111,\"#46039f\"],[0.2222222222222222,\"#7201a8\"],[0.3333333333333333,\"#9c179e\"],[0.4444444444444444,\"#bd3786\"],[0.5555555555555556,\"#d8576b\"],[0.6666666666666666,\"#ed7953\"],[0.7777777777777778,\"#fb9f3a\"],[0.8888888888888888,\"#fdca26\"],[1.0,\"#f0f921\"]],\"diverging\":[[0,\"#8e0152\"],[0.1,\"#c51b7d\"],[0.2,\"#de77ae\"],[0.3,\"#f1b6da\"],[0.4,\"#fde0ef\"],[0.5,\"#f7f7f7\"],[0.6,\"#e6f5d0\"],[0.7,\"#b8e186\"],[0.8,\"#7fbc41\"],[0.9,\"#4d9221\"],[1,\"#276419\"]]},\"xaxis\":{\"gridcolor\":\"white\",\"linecolor\":\"white\",\"ticks\":\"\",\"title\":{\"standoff\":15},\"zerolinecolor\":\"white\",\"automargin\":true,\"zerolinewidth\":2},\"yaxis\":{\"gridcolor\":\"white\",\"linecolor\":\"white\",\"ticks\":\"\",\"title\":{\"standoff\":15},\"zerolinecolor\":\"white\",\"automargin\":true,\"zerolinewidth\":2},\"scene\":{\"xaxis\":{\"backgroundcolor\":\"#E5ECF6\",\"gridcolor\":\"white\",\"linecolor\":\"white\",\"showbackground\":true,\"ticks\":\"\",\"zerolinecolor\":\"white\",\"gridwidth\":2},\"yaxis\":{\"backgroundcolor\":\"#E5ECF6\",\"gridcolor\":\"white\",\"linecolor\":\"white\",\"showbackground\":true,\"ticks\":\"\",\"zerolinecolor\":\"white\",\"gridwidth\":2},\"zaxis\":{\"backgroundcolor\":\"#E5ECF6\",\"gridcolor\":\"white\",\"linecolor\":\"white\",\"showbackground\":true,\"ticks\":\"\",\"zerolinecolor\":\"white\",\"gridwidth\":2}},\"shapedefaults\":{\"line\":{\"color\":\"#2a3f5f\"}},\"annotationdefaults\":{\"arrowcolor\":\"#2a3f5f\",\"arrowhead\":0,\"arrowwidth\":1},\"geo\":{\"bgcolor\":\"white\",\"landcolor\":\"#E5ECF6\",\"subunitcolor\":\"white\",\"showland\":true,\"showlakes\":true,\"lakecolor\":\"white\"},\"title\":{\"x\":0.05},\"mapbox\":{\"style\":\"light\"}}},\"xaxis\":{\"anchor\":\"y\",\"domain\":[0.0,1.0],\"title\":{\"text\":\"\\u5e74\\u5ea6\"}},\"yaxis\":{\"anchor\":\"x\",\"domain\":[0.0,1.0],\"title\":{\"text\":\"FValue\"}},\"legend\":{\"title\":{\"text\":\"Complex2Name\"},\"tracegroupgap\":0},\"margin\":{\"t\":60},\"barmode\":\"group\"},                        {\"responsive\": true}                    ).then(function(){\n",
       "                            \n",
       "var gd = document.getElementById('40dce260-c88d-4a58-bc94-ab40903b4dd9');\n",
       "var x = new MutationObserver(function (mutations, observer) {{\n",
       "        var display = window.getComputedStyle(gd).display;\n",
       "        if (!display || display === 'none') {{\n",
       "            console.log([gd, 'removed!']);\n",
       "            Plotly.purge(gd);\n",
       "            observer.disconnect();\n",
       "        }}\n",
       "}});\n",
       "\n",
       "// Listen for the removal of the full notebook cells\n",
       "var notebookContainer = gd.closest('#notebook-container');\n",
       "if (notebookContainer) {{\n",
       "    x.observe(notebookContainer, {childList: true});\n",
       "}}\n",
       "\n",
       "// Listen for the clearing of the current output cell\n",
       "var outputEl = gd.closest('.output');\n",
       "if (outputEl) {{\n",
       "    x.observe(outputEl, {childList: true});\n",
       "}}\n",
       "\n",
       "                        })                };                });            </script>        </div>"
      ]
     },
     "metadata": {},
     "output_type": "display_data"
    }
   ],
   "source": [
    "import plotly.express as px\n",
    "fig = px.bar(M_國立,x=\"年度\", y=\"FValue\", color=\"Complex2Name\",barmode='group')\n",
    "fig.show()"
   ]
  },
  {
   "cell_type": "markdown",
   "id": "7286a297",
   "metadata": {},
   "source": [
    "由上列資料中可以看出，國立特教經費支出主要是在經常支出，2015、2016還有些許資本支出及折舊、折耗及攤銷方面的支出，但在2017、2018的報表中紀錄為0，但無法確認是紀錄有誤還是尚未紀錄。"
   ]
  },
  {
   "cell_type": "code",
   "execution_count": 32,
   "id": "6f5a51f7",
   "metadata": {
    "scrolled": false
   },
   "outputs": [
    {
     "data": {
      "application/vnd.plotly.v1+json": {
       "config": {
        "plotlyServerURL": "https://plot.ly"
       },
       "data": [
        {
         "alignmentgroup": "True",
         "hovertemplate": "Complex2Name=經常支出<br>年度=%{x}<br>FValue=%{y}<extra></extra>",
         "legendgroup": "經常支出",
         "marker": {
          "color": "#EF553B",
          "pattern": {
           "shape": ""
          }
         },
         "name": "經常支出",
         "offsetgroup": "經常支出",
         "orientation": "v",
         "showlegend": true,
         "textposition": "auto",
         "type": "bar",
         "x": [
          2015,
          2015,
          2016,
          2016,
          2017,
          2017,
          2018,
          2018
         ],
         "xaxis": "x",
         "y": [
          0,
          0,
          0,
          0,
          409354,
          390335,
          409255,
          404147
         ],
         "yaxis": "y"
        },
        {
         "alignmentgroup": "True",
         "hovertemplate": "Complex2Name=資本支出<br>年度=%{x}<br>FValue=%{y}<extra></extra>",
         "legendgroup": "資本支出",
         "marker": {
          "color": "#00cc96",
          "pattern": {
           "shape": ""
          }
         },
         "name": "資本支出",
         "offsetgroup": "資本支出",
         "orientation": "v",
         "showlegend": true,
         "textposition": "auto",
         "type": "bar",
         "x": [
          2015,
          2015,
          2016,
          2016,
          2017,
          2017,
          2018,
          2018
         ],
         "xaxis": "x",
         "y": [
          0,
          0,
          0,
          0,
          20392,
          18578,
          12513,
          11920
         ],
         "yaxis": "y"
        },
        {
         "alignmentgroup": "True",
         "hovertemplate": "Complex2Name=償還借款<br>年度=%{x}<br>FValue=%{y}<extra></extra>",
         "legendgroup": "償還借款",
         "marker": {
          "color": "#ab63fa",
          "pattern": {
           "shape": ""
          }
         },
         "name": "償還借款",
         "offsetgroup": "償還借款",
         "orientation": "v",
         "showlegend": true,
         "textposition": "auto",
         "type": "bar",
         "x": [
          2015,
          2015,
          2016,
          2016,
          2017,
          2017,
          2018,
          2018
         ],
         "xaxis": "x",
         "y": [
          0,
          0,
          0,
          0,
          0,
          0,
          0,
          0
         ],
         "yaxis": "y"
        },
        {
         "alignmentgroup": "True",
         "hovertemplate": "Complex2Name=經常支出報廢金額<br>年度=%{x}<br>FValue=%{y}<extra></extra>",
         "legendgroup": "經常支出報廢金額",
         "marker": {
          "color": "#FFA15A",
          "pattern": {
           "shape": ""
          }
         },
         "name": "經常支出報廢金額",
         "offsetgroup": "經常支出報廢金額",
         "orientation": "v",
         "showlegend": true,
         "textposition": "auto",
         "type": "bar",
         "x": [
          2015,
          2015,
          2016,
          2016,
          2017,
          2017,
          2018,
          2018
         ],
         "xaxis": "x",
         "y": [
          0,
          0,
          0,
          0,
          0,
          0,
          0,
          0
         ],
         "yaxis": "y"
        },
        {
         "alignmentgroup": "True",
         "hovertemplate": "Complex2Name=折舊、折耗及攤銷<br>年度=%{x}<br>FValue=%{y}<extra></extra>",
         "legendgroup": "折舊、折耗及攤銷",
         "marker": {
          "color": "#19d3f3",
          "pattern": {
           "shape": ""
          }
         },
         "name": "折舊、折耗及攤銷",
         "offsetgroup": "折舊、折耗及攤銷",
         "orientation": "v",
         "showlegend": true,
         "textposition": "auto",
         "type": "bar",
         "x": [
          2015,
          2015,
          2016,
          2016,
          2017,
          2017,
          2018,
          2018
         ],
         "xaxis": "x",
         "y": [
          0,
          0,
          0,
          0,
          0,
          0,
          0,
          27140
         ],
         "yaxis": "y"
        }
       ],
       "layout": {
        "barmode": "group",
        "legend": {
         "title": {
          "text": "Complex2Name"
         },
         "tracegroupgap": 0
        },
        "margin": {
         "t": 60
        },
        "template": {
         "data": {
          "bar": [
           {
            "error_x": {
             "color": "#2a3f5f"
            },
            "error_y": {
             "color": "#2a3f5f"
            },
            "marker": {
             "line": {
              "color": "#E5ECF6",
              "width": 0.5
             },
             "pattern": {
              "fillmode": "overlay",
              "size": 10,
              "solidity": 0.2
             }
            },
            "type": "bar"
           }
          ],
          "barpolar": [
           {
            "marker": {
             "line": {
              "color": "#E5ECF6",
              "width": 0.5
             },
             "pattern": {
              "fillmode": "overlay",
              "size": 10,
              "solidity": 0.2
             }
            },
            "type": "barpolar"
           }
          ],
          "carpet": [
           {
            "aaxis": {
             "endlinecolor": "#2a3f5f",
             "gridcolor": "white",
             "linecolor": "white",
             "minorgridcolor": "white",
             "startlinecolor": "#2a3f5f"
            },
            "baxis": {
             "endlinecolor": "#2a3f5f",
             "gridcolor": "white",
             "linecolor": "white",
             "minorgridcolor": "white",
             "startlinecolor": "#2a3f5f"
            },
            "type": "carpet"
           }
          ],
          "choropleth": [
           {
            "colorbar": {
             "outlinewidth": 0,
             "ticks": ""
            },
            "type": "choropleth"
           }
          ],
          "contour": [
           {
            "colorbar": {
             "outlinewidth": 0,
             "ticks": ""
            },
            "colorscale": [
             [
              0,
              "#0d0887"
             ],
             [
              0.1111111111111111,
              "#46039f"
             ],
             [
              0.2222222222222222,
              "#7201a8"
             ],
             [
              0.3333333333333333,
              "#9c179e"
             ],
             [
              0.4444444444444444,
              "#bd3786"
             ],
             [
              0.5555555555555556,
              "#d8576b"
             ],
             [
              0.6666666666666666,
              "#ed7953"
             ],
             [
              0.7777777777777778,
              "#fb9f3a"
             ],
             [
              0.8888888888888888,
              "#fdca26"
             ],
             [
              1,
              "#f0f921"
             ]
            ],
            "type": "contour"
           }
          ],
          "contourcarpet": [
           {
            "colorbar": {
             "outlinewidth": 0,
             "ticks": ""
            },
            "type": "contourcarpet"
           }
          ],
          "heatmap": [
           {
            "colorbar": {
             "outlinewidth": 0,
             "ticks": ""
            },
            "colorscale": [
             [
              0,
              "#0d0887"
             ],
             [
              0.1111111111111111,
              "#46039f"
             ],
             [
              0.2222222222222222,
              "#7201a8"
             ],
             [
              0.3333333333333333,
              "#9c179e"
             ],
             [
              0.4444444444444444,
              "#bd3786"
             ],
             [
              0.5555555555555556,
              "#d8576b"
             ],
             [
              0.6666666666666666,
              "#ed7953"
             ],
             [
              0.7777777777777778,
              "#fb9f3a"
             ],
             [
              0.8888888888888888,
              "#fdca26"
             ],
             [
              1,
              "#f0f921"
             ]
            ],
            "type": "heatmap"
           }
          ],
          "heatmapgl": [
           {
            "colorbar": {
             "outlinewidth": 0,
             "ticks": ""
            },
            "colorscale": [
             [
              0,
              "#0d0887"
             ],
             [
              0.1111111111111111,
              "#46039f"
             ],
             [
              0.2222222222222222,
              "#7201a8"
             ],
             [
              0.3333333333333333,
              "#9c179e"
             ],
             [
              0.4444444444444444,
              "#bd3786"
             ],
             [
              0.5555555555555556,
              "#d8576b"
             ],
             [
              0.6666666666666666,
              "#ed7953"
             ],
             [
              0.7777777777777778,
              "#fb9f3a"
             ],
             [
              0.8888888888888888,
              "#fdca26"
             ],
             [
              1,
              "#f0f921"
             ]
            ],
            "type": "heatmapgl"
           }
          ],
          "histogram": [
           {
            "marker": {
             "pattern": {
              "fillmode": "overlay",
              "size": 10,
              "solidity": 0.2
             }
            },
            "type": "histogram"
           }
          ],
          "histogram2d": [
           {
            "colorbar": {
             "outlinewidth": 0,
             "ticks": ""
            },
            "colorscale": [
             [
              0,
              "#0d0887"
             ],
             [
              0.1111111111111111,
              "#46039f"
             ],
             [
              0.2222222222222222,
              "#7201a8"
             ],
             [
              0.3333333333333333,
              "#9c179e"
             ],
             [
              0.4444444444444444,
              "#bd3786"
             ],
             [
              0.5555555555555556,
              "#d8576b"
             ],
             [
              0.6666666666666666,
              "#ed7953"
             ],
             [
              0.7777777777777778,
              "#fb9f3a"
             ],
             [
              0.8888888888888888,
              "#fdca26"
             ],
             [
              1,
              "#f0f921"
             ]
            ],
            "type": "histogram2d"
           }
          ],
          "histogram2dcontour": [
           {
            "colorbar": {
             "outlinewidth": 0,
             "ticks": ""
            },
            "colorscale": [
             [
              0,
              "#0d0887"
             ],
             [
              0.1111111111111111,
              "#46039f"
             ],
             [
              0.2222222222222222,
              "#7201a8"
             ],
             [
              0.3333333333333333,
              "#9c179e"
             ],
             [
              0.4444444444444444,
              "#bd3786"
             ],
             [
              0.5555555555555556,
              "#d8576b"
             ],
             [
              0.6666666666666666,
              "#ed7953"
             ],
             [
              0.7777777777777778,
              "#fb9f3a"
             ],
             [
              0.8888888888888888,
              "#fdca26"
             ],
             [
              1,
              "#f0f921"
             ]
            ],
            "type": "histogram2dcontour"
           }
          ],
          "mesh3d": [
           {
            "colorbar": {
             "outlinewidth": 0,
             "ticks": ""
            },
            "type": "mesh3d"
           }
          ],
          "parcoords": [
           {
            "line": {
             "colorbar": {
              "outlinewidth": 0,
              "ticks": ""
             }
            },
            "type": "parcoords"
           }
          ],
          "pie": [
           {
            "automargin": true,
            "type": "pie"
           }
          ],
          "scatter": [
           {
            "fillpattern": {
             "fillmode": "overlay",
             "size": 10,
             "solidity": 0.2
            },
            "type": "scatter"
           }
          ],
          "scatter3d": [
           {
            "line": {
             "colorbar": {
              "outlinewidth": 0,
              "ticks": ""
             }
            },
            "marker": {
             "colorbar": {
              "outlinewidth": 0,
              "ticks": ""
             }
            },
            "type": "scatter3d"
           }
          ],
          "scattercarpet": [
           {
            "marker": {
             "colorbar": {
              "outlinewidth": 0,
              "ticks": ""
             }
            },
            "type": "scattercarpet"
           }
          ],
          "scattergeo": [
           {
            "marker": {
             "colorbar": {
              "outlinewidth": 0,
              "ticks": ""
             }
            },
            "type": "scattergeo"
           }
          ],
          "scattergl": [
           {
            "marker": {
             "colorbar": {
              "outlinewidth": 0,
              "ticks": ""
             }
            },
            "type": "scattergl"
           }
          ],
          "scattermapbox": [
           {
            "marker": {
             "colorbar": {
              "outlinewidth": 0,
              "ticks": ""
             }
            },
            "type": "scattermapbox"
           }
          ],
          "scatterpolar": [
           {
            "marker": {
             "colorbar": {
              "outlinewidth": 0,
              "ticks": ""
             }
            },
            "type": "scatterpolar"
           }
          ],
          "scatterpolargl": [
           {
            "marker": {
             "colorbar": {
              "outlinewidth": 0,
              "ticks": ""
             }
            },
            "type": "scatterpolargl"
           }
          ],
          "scatterternary": [
           {
            "marker": {
             "colorbar": {
              "outlinewidth": 0,
              "ticks": ""
             }
            },
            "type": "scatterternary"
           }
          ],
          "surface": [
           {
            "colorbar": {
             "outlinewidth": 0,
             "ticks": ""
            },
            "colorscale": [
             [
              0,
              "#0d0887"
             ],
             [
              0.1111111111111111,
              "#46039f"
             ],
             [
              0.2222222222222222,
              "#7201a8"
             ],
             [
              0.3333333333333333,
              "#9c179e"
             ],
             [
              0.4444444444444444,
              "#bd3786"
             ],
             [
              0.5555555555555556,
              "#d8576b"
             ],
             [
              0.6666666666666666,
              "#ed7953"
             ],
             [
              0.7777777777777778,
              "#fb9f3a"
             ],
             [
              0.8888888888888888,
              "#fdca26"
             ],
             [
              1,
              "#f0f921"
             ]
            ],
            "type": "surface"
           }
          ],
          "table": [
           {
            "cells": {
             "fill": {
              "color": "#EBF0F8"
             },
             "line": {
              "color": "white"
             }
            },
            "header": {
             "fill": {
              "color": "#C8D4E3"
             },
             "line": {
              "color": "white"
             }
            },
            "type": "table"
           }
          ]
         },
         "layout": {
          "annotationdefaults": {
           "arrowcolor": "#2a3f5f",
           "arrowhead": 0,
           "arrowwidth": 1
          },
          "autotypenumbers": "strict",
          "coloraxis": {
           "colorbar": {
            "outlinewidth": 0,
            "ticks": ""
           }
          },
          "colorscale": {
           "diverging": [
            [
             0,
             "#8e0152"
            ],
            [
             0.1,
             "#c51b7d"
            ],
            [
             0.2,
             "#de77ae"
            ],
            [
             0.3,
             "#f1b6da"
            ],
            [
             0.4,
             "#fde0ef"
            ],
            [
             0.5,
             "#f7f7f7"
            ],
            [
             0.6,
             "#e6f5d0"
            ],
            [
             0.7,
             "#b8e186"
            ],
            [
             0.8,
             "#7fbc41"
            ],
            [
             0.9,
             "#4d9221"
            ],
            [
             1,
             "#276419"
            ]
           ],
           "sequential": [
            [
             0,
             "#0d0887"
            ],
            [
             0.1111111111111111,
             "#46039f"
            ],
            [
             0.2222222222222222,
             "#7201a8"
            ],
            [
             0.3333333333333333,
             "#9c179e"
            ],
            [
             0.4444444444444444,
             "#bd3786"
            ],
            [
             0.5555555555555556,
             "#d8576b"
            ],
            [
             0.6666666666666666,
             "#ed7953"
            ],
            [
             0.7777777777777778,
             "#fb9f3a"
            ],
            [
             0.8888888888888888,
             "#fdca26"
            ],
            [
             1,
             "#f0f921"
            ]
           ],
           "sequentialminus": [
            [
             0,
             "#0d0887"
            ],
            [
             0.1111111111111111,
             "#46039f"
            ],
            [
             0.2222222222222222,
             "#7201a8"
            ],
            [
             0.3333333333333333,
             "#9c179e"
            ],
            [
             0.4444444444444444,
             "#bd3786"
            ],
            [
             0.5555555555555556,
             "#d8576b"
            ],
            [
             0.6666666666666666,
             "#ed7953"
            ],
            [
             0.7777777777777778,
             "#fb9f3a"
            ],
            [
             0.8888888888888888,
             "#fdca26"
            ],
            [
             1,
             "#f0f921"
            ]
           ]
          },
          "colorway": [
           "#636efa",
           "#EF553B",
           "#00cc96",
           "#ab63fa",
           "#FFA15A",
           "#19d3f3",
           "#FF6692",
           "#B6E880",
           "#FF97FF",
           "#FECB52"
          ],
          "font": {
           "color": "#2a3f5f"
          },
          "geo": {
           "bgcolor": "white",
           "lakecolor": "white",
           "landcolor": "#E5ECF6",
           "showlakes": true,
           "showland": true,
           "subunitcolor": "white"
          },
          "hoverlabel": {
           "align": "left"
          },
          "hovermode": "closest",
          "mapbox": {
           "style": "light"
          },
          "paper_bgcolor": "white",
          "plot_bgcolor": "#E5ECF6",
          "polar": {
           "angularaxis": {
            "gridcolor": "white",
            "linecolor": "white",
            "ticks": ""
           },
           "bgcolor": "#E5ECF6",
           "radialaxis": {
            "gridcolor": "white",
            "linecolor": "white",
            "ticks": ""
           }
          },
          "scene": {
           "xaxis": {
            "backgroundcolor": "#E5ECF6",
            "gridcolor": "white",
            "gridwidth": 2,
            "linecolor": "white",
            "showbackground": true,
            "ticks": "",
            "zerolinecolor": "white"
           },
           "yaxis": {
            "backgroundcolor": "#E5ECF6",
            "gridcolor": "white",
            "gridwidth": 2,
            "linecolor": "white",
            "showbackground": true,
            "ticks": "",
            "zerolinecolor": "white"
           },
           "zaxis": {
            "backgroundcolor": "#E5ECF6",
            "gridcolor": "white",
            "gridwidth": 2,
            "linecolor": "white",
            "showbackground": true,
            "ticks": "",
            "zerolinecolor": "white"
           }
          },
          "shapedefaults": {
           "line": {
            "color": "#2a3f5f"
           }
          },
          "ternary": {
           "aaxis": {
            "gridcolor": "white",
            "linecolor": "white",
            "ticks": ""
           },
           "baxis": {
            "gridcolor": "white",
            "linecolor": "white",
            "ticks": ""
           },
           "bgcolor": "#E5ECF6",
           "caxis": {
            "gridcolor": "white",
            "linecolor": "white",
            "ticks": ""
           }
          },
          "title": {
           "x": 0.05
          },
          "xaxis": {
           "automargin": true,
           "gridcolor": "white",
           "linecolor": "white",
           "ticks": "",
           "title": {
            "standoff": 15
           },
           "zerolinecolor": "white",
           "zerolinewidth": 2
          },
          "yaxis": {
           "automargin": true,
           "gridcolor": "white",
           "linecolor": "white",
           "ticks": "",
           "title": {
            "standoff": 15
           },
           "zerolinecolor": "white",
           "zerolinewidth": 2
          }
         }
        },
        "xaxis": {
         "anchor": "y",
         "domain": [
          0,
          1
         ],
         "title": {
          "text": "年度"
         }
        },
        "yaxis": {
         "anchor": "x",
         "domain": [
          0,
          1
         ],
         "title": {
          "text": "FValue"
         }
        }
       }
      },
      "text/html": [
       "<div>                            <div id=\"0d3828f8-b715-49a5-a464-30b2b30ffdd0\" class=\"plotly-graph-div\" style=\"height:525px; width:100%;\"></div>            <script type=\"text/javascript\">                require([\"plotly\"], function(Plotly) {                    window.PLOTLYENV=window.PLOTLYENV || {};                                    if (document.getElementById(\"0d3828f8-b715-49a5-a464-30b2b30ffdd0\")) {                    Plotly.newPlot(                        \"0d3828f8-b715-49a5-a464-30b2b30ffdd0\",                        [{\"alignmentgroup\":\"True\",\"hovertemplate\":\"Complex2Name=\\u7d93\\u5e38\\u652f\\u51fa<br>\\u5e74\\u5ea6=%{x}<br>FValue=%{y}<extra></extra>\",\"legendgroup\":\"\\u7d93\\u5e38\\u652f\\u51fa\",\"marker\":{\"color\":\"#EF553B\",\"pattern\":{\"shape\":\"\"}},\"name\":\"\\u7d93\\u5e38\\u652f\\u51fa\",\"offsetgroup\":\"\\u7d93\\u5e38\\u652f\\u51fa\",\"orientation\":\"v\",\"showlegend\":true,\"textposition\":\"auto\",\"x\":[2015,2015,2016,2016,2017,2017,2018,2018],\"xaxis\":\"x\",\"y\":[0,0,0,0,409354,390335,409255,404147],\"yaxis\":\"y\",\"type\":\"bar\"},{\"alignmentgroup\":\"True\",\"hovertemplate\":\"Complex2Name=\\u8cc7\\u672c\\u652f\\u51fa<br>\\u5e74\\u5ea6=%{x}<br>FValue=%{y}<extra></extra>\",\"legendgroup\":\"\\u8cc7\\u672c\\u652f\\u51fa\",\"marker\":{\"color\":\"#00cc96\",\"pattern\":{\"shape\":\"\"}},\"name\":\"\\u8cc7\\u672c\\u652f\\u51fa\",\"offsetgroup\":\"\\u8cc7\\u672c\\u652f\\u51fa\",\"orientation\":\"v\",\"showlegend\":true,\"textposition\":\"auto\",\"x\":[2015,2015,2016,2016,2017,2017,2018,2018],\"xaxis\":\"x\",\"y\":[0,0,0,0,20392,18578,12513,11920],\"yaxis\":\"y\",\"type\":\"bar\"},{\"alignmentgroup\":\"True\",\"hovertemplate\":\"Complex2Name=\\u511f\\u9084\\u501f\\u6b3e<br>\\u5e74\\u5ea6=%{x}<br>FValue=%{y}<extra></extra>\",\"legendgroup\":\"\\u511f\\u9084\\u501f\\u6b3e\",\"marker\":{\"color\":\"#ab63fa\",\"pattern\":{\"shape\":\"\"}},\"name\":\"\\u511f\\u9084\\u501f\\u6b3e\",\"offsetgroup\":\"\\u511f\\u9084\\u501f\\u6b3e\",\"orientation\":\"v\",\"showlegend\":true,\"textposition\":\"auto\",\"x\":[2015,2015,2016,2016,2017,2017,2018,2018],\"xaxis\":\"x\",\"y\":[0,0,0,0,0,0,0,0],\"yaxis\":\"y\",\"type\":\"bar\"},{\"alignmentgroup\":\"True\",\"hovertemplate\":\"Complex2Name=\\u7d93\\u5e38\\u652f\\u51fa\\u5831\\u5ee2\\u91d1\\u984d<br>\\u5e74\\u5ea6=%{x}<br>FValue=%{y}<extra></extra>\",\"legendgroup\":\"\\u7d93\\u5e38\\u652f\\u51fa\\u5831\\u5ee2\\u91d1\\u984d\",\"marker\":{\"color\":\"#FFA15A\",\"pattern\":{\"shape\":\"\"}},\"name\":\"\\u7d93\\u5e38\\u652f\\u51fa\\u5831\\u5ee2\\u91d1\\u984d\",\"offsetgroup\":\"\\u7d93\\u5e38\\u652f\\u51fa\\u5831\\u5ee2\\u91d1\\u984d\",\"orientation\":\"v\",\"showlegend\":true,\"textposition\":\"auto\",\"x\":[2015,2015,2016,2016,2017,2017,2018,2018],\"xaxis\":\"x\",\"y\":[0,0,0,0,0,0,0,0],\"yaxis\":\"y\",\"type\":\"bar\"},{\"alignmentgroup\":\"True\",\"hovertemplate\":\"Complex2Name=\\u6298\\u820a\\u3001\\u6298\\u8017\\u53ca\\u6524\\u92b7<br>\\u5e74\\u5ea6=%{x}<br>FValue=%{y}<extra></extra>\",\"legendgroup\":\"\\u6298\\u820a\\u3001\\u6298\\u8017\\u53ca\\u6524\\u92b7\",\"marker\":{\"color\":\"#19d3f3\",\"pattern\":{\"shape\":\"\"}},\"name\":\"\\u6298\\u820a\\u3001\\u6298\\u8017\\u53ca\\u6524\\u92b7\",\"offsetgroup\":\"\\u6298\\u820a\\u3001\\u6298\\u8017\\u53ca\\u6524\\u92b7\",\"orientation\":\"v\",\"showlegend\":true,\"textposition\":\"auto\",\"x\":[2015,2015,2016,2016,2017,2017,2018,2018],\"xaxis\":\"x\",\"y\":[0,0,0,0,0,0,0,27140],\"yaxis\":\"y\",\"type\":\"bar\"}],                        {\"template\":{\"data\":{\"histogram2dcontour\":[{\"type\":\"histogram2dcontour\",\"colorbar\":{\"outlinewidth\":0,\"ticks\":\"\"},\"colorscale\":[[0.0,\"#0d0887\"],[0.1111111111111111,\"#46039f\"],[0.2222222222222222,\"#7201a8\"],[0.3333333333333333,\"#9c179e\"],[0.4444444444444444,\"#bd3786\"],[0.5555555555555556,\"#d8576b\"],[0.6666666666666666,\"#ed7953\"],[0.7777777777777778,\"#fb9f3a\"],[0.8888888888888888,\"#fdca26\"],[1.0,\"#f0f921\"]]}],\"choropleth\":[{\"type\":\"choropleth\",\"colorbar\":{\"outlinewidth\":0,\"ticks\":\"\"}}],\"histogram2d\":[{\"type\":\"histogram2d\",\"colorbar\":{\"outlinewidth\":0,\"ticks\":\"\"},\"colorscale\":[[0.0,\"#0d0887\"],[0.1111111111111111,\"#46039f\"],[0.2222222222222222,\"#7201a8\"],[0.3333333333333333,\"#9c179e\"],[0.4444444444444444,\"#bd3786\"],[0.5555555555555556,\"#d8576b\"],[0.6666666666666666,\"#ed7953\"],[0.7777777777777778,\"#fb9f3a\"],[0.8888888888888888,\"#fdca26\"],[1.0,\"#f0f921\"]]}],\"heatmap\":[{\"type\":\"heatmap\",\"colorbar\":{\"outlinewidth\":0,\"ticks\":\"\"},\"colorscale\":[[0.0,\"#0d0887\"],[0.1111111111111111,\"#46039f\"],[0.2222222222222222,\"#7201a8\"],[0.3333333333333333,\"#9c179e\"],[0.4444444444444444,\"#bd3786\"],[0.5555555555555556,\"#d8576b\"],[0.6666666666666666,\"#ed7953\"],[0.7777777777777778,\"#fb9f3a\"],[0.8888888888888888,\"#fdca26\"],[1.0,\"#f0f921\"]]}],\"heatmapgl\":[{\"type\":\"heatmapgl\",\"colorbar\":{\"outlinewidth\":0,\"ticks\":\"\"},\"colorscale\":[[0.0,\"#0d0887\"],[0.1111111111111111,\"#46039f\"],[0.2222222222222222,\"#7201a8\"],[0.3333333333333333,\"#9c179e\"],[0.4444444444444444,\"#bd3786\"],[0.5555555555555556,\"#d8576b\"],[0.6666666666666666,\"#ed7953\"],[0.7777777777777778,\"#fb9f3a\"],[0.8888888888888888,\"#fdca26\"],[1.0,\"#f0f921\"]]}],\"contourcarpet\":[{\"type\":\"contourcarpet\",\"colorbar\":{\"outlinewidth\":0,\"ticks\":\"\"}}],\"contour\":[{\"type\":\"contour\",\"colorbar\":{\"outlinewidth\":0,\"ticks\":\"\"},\"colorscale\":[[0.0,\"#0d0887\"],[0.1111111111111111,\"#46039f\"],[0.2222222222222222,\"#7201a8\"],[0.3333333333333333,\"#9c179e\"],[0.4444444444444444,\"#bd3786\"],[0.5555555555555556,\"#d8576b\"],[0.6666666666666666,\"#ed7953\"],[0.7777777777777778,\"#fb9f3a\"],[0.8888888888888888,\"#fdca26\"],[1.0,\"#f0f921\"]]}],\"surface\":[{\"type\":\"surface\",\"colorbar\":{\"outlinewidth\":0,\"ticks\":\"\"},\"colorscale\":[[0.0,\"#0d0887\"],[0.1111111111111111,\"#46039f\"],[0.2222222222222222,\"#7201a8\"],[0.3333333333333333,\"#9c179e\"],[0.4444444444444444,\"#bd3786\"],[0.5555555555555556,\"#d8576b\"],[0.6666666666666666,\"#ed7953\"],[0.7777777777777778,\"#fb9f3a\"],[0.8888888888888888,\"#fdca26\"],[1.0,\"#f0f921\"]]}],\"mesh3d\":[{\"type\":\"mesh3d\",\"colorbar\":{\"outlinewidth\":0,\"ticks\":\"\"}}],\"scatter\":[{\"fillpattern\":{\"fillmode\":\"overlay\",\"size\":10,\"solidity\":0.2},\"type\":\"scatter\"}],\"parcoords\":[{\"type\":\"parcoords\",\"line\":{\"colorbar\":{\"outlinewidth\":0,\"ticks\":\"\"}}}],\"scatterpolargl\":[{\"type\":\"scatterpolargl\",\"marker\":{\"colorbar\":{\"outlinewidth\":0,\"ticks\":\"\"}}}],\"bar\":[{\"error_x\":{\"color\":\"#2a3f5f\"},\"error_y\":{\"color\":\"#2a3f5f\"},\"marker\":{\"line\":{\"color\":\"#E5ECF6\",\"width\":0.5},\"pattern\":{\"fillmode\":\"overlay\",\"size\":10,\"solidity\":0.2}},\"type\":\"bar\"}],\"scattergeo\":[{\"type\":\"scattergeo\",\"marker\":{\"colorbar\":{\"outlinewidth\":0,\"ticks\":\"\"}}}],\"scatterpolar\":[{\"type\":\"scatterpolar\",\"marker\":{\"colorbar\":{\"outlinewidth\":0,\"ticks\":\"\"}}}],\"histogram\":[{\"marker\":{\"pattern\":{\"fillmode\":\"overlay\",\"size\":10,\"solidity\":0.2}},\"type\":\"histogram\"}],\"scattergl\":[{\"type\":\"scattergl\",\"marker\":{\"colorbar\":{\"outlinewidth\":0,\"ticks\":\"\"}}}],\"scatter3d\":[{\"type\":\"scatter3d\",\"line\":{\"colorbar\":{\"outlinewidth\":0,\"ticks\":\"\"}},\"marker\":{\"colorbar\":{\"outlinewidth\":0,\"ticks\":\"\"}}}],\"scattermapbox\":[{\"type\":\"scattermapbox\",\"marker\":{\"colorbar\":{\"outlinewidth\":0,\"ticks\":\"\"}}}],\"scatterternary\":[{\"type\":\"scatterternary\",\"marker\":{\"colorbar\":{\"outlinewidth\":0,\"ticks\":\"\"}}}],\"scattercarpet\":[{\"type\":\"scattercarpet\",\"marker\":{\"colorbar\":{\"outlinewidth\":0,\"ticks\":\"\"}}}],\"carpet\":[{\"aaxis\":{\"endlinecolor\":\"#2a3f5f\",\"gridcolor\":\"white\",\"linecolor\":\"white\",\"minorgridcolor\":\"white\",\"startlinecolor\":\"#2a3f5f\"},\"baxis\":{\"endlinecolor\":\"#2a3f5f\",\"gridcolor\":\"white\",\"linecolor\":\"white\",\"minorgridcolor\":\"white\",\"startlinecolor\":\"#2a3f5f\"},\"type\":\"carpet\"}],\"table\":[{\"cells\":{\"fill\":{\"color\":\"#EBF0F8\"},\"line\":{\"color\":\"white\"}},\"header\":{\"fill\":{\"color\":\"#C8D4E3\"},\"line\":{\"color\":\"white\"}},\"type\":\"table\"}],\"barpolar\":[{\"marker\":{\"line\":{\"color\":\"#E5ECF6\",\"width\":0.5},\"pattern\":{\"fillmode\":\"overlay\",\"size\":10,\"solidity\":0.2}},\"type\":\"barpolar\"}],\"pie\":[{\"automargin\":true,\"type\":\"pie\"}]},\"layout\":{\"autotypenumbers\":\"strict\",\"colorway\":[\"#636efa\",\"#EF553B\",\"#00cc96\",\"#ab63fa\",\"#FFA15A\",\"#19d3f3\",\"#FF6692\",\"#B6E880\",\"#FF97FF\",\"#FECB52\"],\"font\":{\"color\":\"#2a3f5f\"},\"hovermode\":\"closest\",\"hoverlabel\":{\"align\":\"left\"},\"paper_bgcolor\":\"white\",\"plot_bgcolor\":\"#E5ECF6\",\"polar\":{\"bgcolor\":\"#E5ECF6\",\"angularaxis\":{\"gridcolor\":\"white\",\"linecolor\":\"white\",\"ticks\":\"\"},\"radialaxis\":{\"gridcolor\":\"white\",\"linecolor\":\"white\",\"ticks\":\"\"}},\"ternary\":{\"bgcolor\":\"#E5ECF6\",\"aaxis\":{\"gridcolor\":\"white\",\"linecolor\":\"white\",\"ticks\":\"\"},\"baxis\":{\"gridcolor\":\"white\",\"linecolor\":\"white\",\"ticks\":\"\"},\"caxis\":{\"gridcolor\":\"white\",\"linecolor\":\"white\",\"ticks\":\"\"}},\"coloraxis\":{\"colorbar\":{\"outlinewidth\":0,\"ticks\":\"\"}},\"colorscale\":{\"sequential\":[[0.0,\"#0d0887\"],[0.1111111111111111,\"#46039f\"],[0.2222222222222222,\"#7201a8\"],[0.3333333333333333,\"#9c179e\"],[0.4444444444444444,\"#bd3786\"],[0.5555555555555556,\"#d8576b\"],[0.6666666666666666,\"#ed7953\"],[0.7777777777777778,\"#fb9f3a\"],[0.8888888888888888,\"#fdca26\"],[1.0,\"#f0f921\"]],\"sequentialminus\":[[0.0,\"#0d0887\"],[0.1111111111111111,\"#46039f\"],[0.2222222222222222,\"#7201a8\"],[0.3333333333333333,\"#9c179e\"],[0.4444444444444444,\"#bd3786\"],[0.5555555555555556,\"#d8576b\"],[0.6666666666666666,\"#ed7953\"],[0.7777777777777778,\"#fb9f3a\"],[0.8888888888888888,\"#fdca26\"],[1.0,\"#f0f921\"]],\"diverging\":[[0,\"#8e0152\"],[0.1,\"#c51b7d\"],[0.2,\"#de77ae\"],[0.3,\"#f1b6da\"],[0.4,\"#fde0ef\"],[0.5,\"#f7f7f7\"],[0.6,\"#e6f5d0\"],[0.7,\"#b8e186\"],[0.8,\"#7fbc41\"],[0.9,\"#4d9221\"],[1,\"#276419\"]]},\"xaxis\":{\"gridcolor\":\"white\",\"linecolor\":\"white\",\"ticks\":\"\",\"title\":{\"standoff\":15},\"zerolinecolor\":\"white\",\"automargin\":true,\"zerolinewidth\":2},\"yaxis\":{\"gridcolor\":\"white\",\"linecolor\":\"white\",\"ticks\":\"\",\"title\":{\"standoff\":15},\"zerolinecolor\":\"white\",\"automargin\":true,\"zerolinewidth\":2},\"scene\":{\"xaxis\":{\"backgroundcolor\":\"#E5ECF6\",\"gridcolor\":\"white\",\"linecolor\":\"white\",\"showbackground\":true,\"ticks\":\"\",\"zerolinecolor\":\"white\",\"gridwidth\":2},\"yaxis\":{\"backgroundcolor\":\"#E5ECF6\",\"gridcolor\":\"white\",\"linecolor\":\"white\",\"showbackground\":true,\"ticks\":\"\",\"zerolinecolor\":\"white\",\"gridwidth\":2},\"zaxis\":{\"backgroundcolor\":\"#E5ECF6\",\"gridcolor\":\"white\",\"linecolor\":\"white\",\"showbackground\":true,\"ticks\":\"\",\"zerolinecolor\":\"white\",\"gridwidth\":2}},\"shapedefaults\":{\"line\":{\"color\":\"#2a3f5f\"}},\"annotationdefaults\":{\"arrowcolor\":\"#2a3f5f\",\"arrowhead\":0,\"arrowwidth\":1},\"geo\":{\"bgcolor\":\"white\",\"landcolor\":\"#E5ECF6\",\"subunitcolor\":\"white\",\"showland\":true,\"showlakes\":true,\"lakecolor\":\"white\"},\"title\":{\"x\":0.05},\"mapbox\":{\"style\":\"light\"}}},\"xaxis\":{\"anchor\":\"y\",\"domain\":[0.0,1.0],\"title\":{\"text\":\"\\u5e74\\u5ea6\"}},\"yaxis\":{\"anchor\":\"x\",\"domain\":[0.0,1.0],\"title\":{\"text\":\"FValue\"}},\"legend\":{\"title\":{\"text\":\"Complex2Name\"},\"tracegroupgap\":0},\"margin\":{\"t\":60},\"barmode\":\"group\"},                        {\"responsive\": true}                    ).then(function(){\n",
       "                            \n",
       "var gd = document.getElementById('0d3828f8-b715-49a5-a464-30b2b30ffdd0');\n",
       "var x = new MutationObserver(function (mutations, observer) {{\n",
       "        var display = window.getComputedStyle(gd).display;\n",
       "        if (!display || display === 'none') {{\n",
       "            console.log([gd, 'removed!']);\n",
       "            Plotly.purge(gd);\n",
       "            observer.disconnect();\n",
       "        }}\n",
       "}});\n",
       "\n",
       "// Listen for the removal of the full notebook cells\n",
       "var notebookContainer = gd.closest('#notebook-container');\n",
       "if (notebookContainer) {{\n",
       "    x.observe(notebookContainer, {childList: true});\n",
       "}}\n",
       "\n",
       "// Listen for the clearing of the current output cell\n",
       "var outputEl = gd.closest('.output');\n",
       "if (outputEl) {{\n",
       "    x.observe(outputEl, {childList: true});\n",
       "}}\n",
       "\n",
       "                        })                };                });            </script>        </div>"
      ]
     },
     "metadata": {},
     "output_type": "display_data"
    }
   ],
   "source": [
    "import plotly.express as px\n",
    "fig = px.bar(M_市立,x=\"年度\", y=\"FValue\", color=\"Complex2Name\",barmode='group')\n",
    "fig.show()"
   ]
  },
  {
   "cell_type": "markdown",
   "id": "2d313a67",
   "metadata": {},
   "source": [
    "本資料為市立方面的經費開銷，與國立有異的部分為2015、2016的所有開銷方面紀錄為0。"
   ]
  },
  {
   "cell_type": "code",
   "execution_count": 33,
   "id": "12782b2b",
   "metadata": {
    "scrolled": true
   },
   "outputs": [
    {
     "data": {
      "application/vnd.plotly.v1+json": {
       "config": {
        "plotlyServerURL": "https://plot.ly"
       },
       "data": [
        {
         "alignmentgroup": "True",
         "hovertemplate": "Complex2Name=經常支出<br>年度=%{x}<br>FValue=%{y}<extra></extra>",
         "legendgroup": "經常支出",
         "marker": {
          "color": "#EF553B",
          "pattern": {
           "shape": ""
          }
         },
         "name": "經常支出",
         "offsetgroup": "經常支出",
         "orientation": "v",
         "showlegend": true,
         "textposition": "auto",
         "type": "bar",
         "x": [
          2015,
          2015,
          2016,
          2016,
          2017,
          2017,
          2018,
          2018
         ],
         "xaxis": "x",
         "y": [
          57360,
          71184,
          65284,
          61384,
          63574,
          59122,
          63840,
          52439
         ],
         "yaxis": "y"
        },
        {
         "alignmentgroup": "True",
         "hovertemplate": "Complex2Name=資本支出<br>年度=%{x}<br>FValue=%{y}<extra></extra>",
         "legendgroup": "資本支出",
         "marker": {
          "color": "#00cc96",
          "pattern": {
           "shape": ""
          }
         },
         "name": "資本支出",
         "offsetgroup": "資本支出",
         "orientation": "v",
         "showlegend": true,
         "textposition": "auto",
         "type": "bar",
         "x": [
          2015,
          2015,
          2016,
          2016,
          2017,
          2017,
          2018,
          2018
         ],
         "xaxis": "x",
         "y": [
          1076,
          9507,
          880,
          9971,
          1740,
          7443,
          4775,
          3882
         ],
         "yaxis": "y"
        },
        {
         "alignmentgroup": "True",
         "hovertemplate": "Complex2Name=償還借款<br>年度=%{x}<br>FValue=%{y}<extra></extra>",
         "legendgroup": "償還借款",
         "marker": {
          "color": "#ab63fa",
          "pattern": {
           "shape": ""
          }
         },
         "name": "償還借款",
         "offsetgroup": "償還借款",
         "orientation": "v",
         "showlegend": true,
         "textposition": "auto",
         "type": "bar",
         "x": [
          2015,
          2015,
          2016,
          2016,
          2017,
          2017,
          2018,
          2018
         ],
         "xaxis": "x",
         "y": [
          0,
          0,
          0,
          0,
          0,
          0,
          0,
          0
         ],
         "yaxis": "y"
        },
        {
         "alignmentgroup": "True",
         "hovertemplate": "Complex2Name=經常支出報廢金額<br>年度=%{x}<br>FValue=%{y}<extra></extra>",
         "legendgroup": "經常支出報廢金額",
         "marker": {
          "color": "#FFA15A",
          "pattern": {
           "shape": ""
          }
         },
         "name": "經常支出報廢金額",
         "offsetgroup": "經常支出報廢金額",
         "orientation": "v",
         "showlegend": true,
         "textposition": "auto",
         "type": "bar",
         "x": [
          2015,
          2015,
          2016,
          2016,
          2017,
          2017,
          2018,
          2018
         ],
         "xaxis": "x",
         "y": [
          1000,
          1038,
          0,
          0,
          1400,
          136,
          6330,
          499
         ],
         "yaxis": "y"
        },
        {
         "alignmentgroup": "True",
         "hovertemplate": "Complex2Name=折舊、折耗及攤銷<br>年度=%{x}<br>FValue=%{y}<extra></extra>",
         "legendgroup": "折舊、折耗及攤銷",
         "marker": {
          "color": "#19d3f3",
          "pattern": {
           "shape": ""
          }
         },
         "name": "折舊、折耗及攤銷",
         "offsetgroup": "折舊、折耗及攤銷",
         "orientation": "v",
         "showlegend": true,
         "textposition": "auto",
         "type": "bar",
         "x": [
          2015,
          2015,
          2016,
          2016,
          2017,
          2017,
          2018,
          2018
         ],
         "xaxis": "x",
         "y": [
          0,
          0,
          0,
          0,
          0,
          0,
          0,
          6023
         ],
         "yaxis": "y"
        }
       ],
       "layout": {
        "barmode": "group",
        "legend": {
         "title": {
          "text": "Complex2Name"
         },
         "tracegroupgap": 0
        },
        "margin": {
         "t": 60
        },
        "template": {
         "data": {
          "bar": [
           {
            "error_x": {
             "color": "#2a3f5f"
            },
            "error_y": {
             "color": "#2a3f5f"
            },
            "marker": {
             "line": {
              "color": "#E5ECF6",
              "width": 0.5
             },
             "pattern": {
              "fillmode": "overlay",
              "size": 10,
              "solidity": 0.2
             }
            },
            "type": "bar"
           }
          ],
          "barpolar": [
           {
            "marker": {
             "line": {
              "color": "#E5ECF6",
              "width": 0.5
             },
             "pattern": {
              "fillmode": "overlay",
              "size": 10,
              "solidity": 0.2
             }
            },
            "type": "barpolar"
           }
          ],
          "carpet": [
           {
            "aaxis": {
             "endlinecolor": "#2a3f5f",
             "gridcolor": "white",
             "linecolor": "white",
             "minorgridcolor": "white",
             "startlinecolor": "#2a3f5f"
            },
            "baxis": {
             "endlinecolor": "#2a3f5f",
             "gridcolor": "white",
             "linecolor": "white",
             "minorgridcolor": "white",
             "startlinecolor": "#2a3f5f"
            },
            "type": "carpet"
           }
          ],
          "choropleth": [
           {
            "colorbar": {
             "outlinewidth": 0,
             "ticks": ""
            },
            "type": "choropleth"
           }
          ],
          "contour": [
           {
            "colorbar": {
             "outlinewidth": 0,
             "ticks": ""
            },
            "colorscale": [
             [
              0,
              "#0d0887"
             ],
             [
              0.1111111111111111,
              "#46039f"
             ],
             [
              0.2222222222222222,
              "#7201a8"
             ],
             [
              0.3333333333333333,
              "#9c179e"
             ],
             [
              0.4444444444444444,
              "#bd3786"
             ],
             [
              0.5555555555555556,
              "#d8576b"
             ],
             [
              0.6666666666666666,
              "#ed7953"
             ],
             [
              0.7777777777777778,
              "#fb9f3a"
             ],
             [
              0.8888888888888888,
              "#fdca26"
             ],
             [
              1,
              "#f0f921"
             ]
            ],
            "type": "contour"
           }
          ],
          "contourcarpet": [
           {
            "colorbar": {
             "outlinewidth": 0,
             "ticks": ""
            },
            "type": "contourcarpet"
           }
          ],
          "heatmap": [
           {
            "colorbar": {
             "outlinewidth": 0,
             "ticks": ""
            },
            "colorscale": [
             [
              0,
              "#0d0887"
             ],
             [
              0.1111111111111111,
              "#46039f"
             ],
             [
              0.2222222222222222,
              "#7201a8"
             ],
             [
              0.3333333333333333,
              "#9c179e"
             ],
             [
              0.4444444444444444,
              "#bd3786"
             ],
             [
              0.5555555555555556,
              "#d8576b"
             ],
             [
              0.6666666666666666,
              "#ed7953"
             ],
             [
              0.7777777777777778,
              "#fb9f3a"
             ],
             [
              0.8888888888888888,
              "#fdca26"
             ],
             [
              1,
              "#f0f921"
             ]
            ],
            "type": "heatmap"
           }
          ],
          "heatmapgl": [
           {
            "colorbar": {
             "outlinewidth": 0,
             "ticks": ""
            },
            "colorscale": [
             [
              0,
              "#0d0887"
             ],
             [
              0.1111111111111111,
              "#46039f"
             ],
             [
              0.2222222222222222,
              "#7201a8"
             ],
             [
              0.3333333333333333,
              "#9c179e"
             ],
             [
              0.4444444444444444,
              "#bd3786"
             ],
             [
              0.5555555555555556,
              "#d8576b"
             ],
             [
              0.6666666666666666,
              "#ed7953"
             ],
             [
              0.7777777777777778,
              "#fb9f3a"
             ],
             [
              0.8888888888888888,
              "#fdca26"
             ],
             [
              1,
              "#f0f921"
             ]
            ],
            "type": "heatmapgl"
           }
          ],
          "histogram": [
           {
            "marker": {
             "pattern": {
              "fillmode": "overlay",
              "size": 10,
              "solidity": 0.2
             }
            },
            "type": "histogram"
           }
          ],
          "histogram2d": [
           {
            "colorbar": {
             "outlinewidth": 0,
             "ticks": ""
            },
            "colorscale": [
             [
              0,
              "#0d0887"
             ],
             [
              0.1111111111111111,
              "#46039f"
             ],
             [
              0.2222222222222222,
              "#7201a8"
             ],
             [
              0.3333333333333333,
              "#9c179e"
             ],
             [
              0.4444444444444444,
              "#bd3786"
             ],
             [
              0.5555555555555556,
              "#d8576b"
             ],
             [
              0.6666666666666666,
              "#ed7953"
             ],
             [
              0.7777777777777778,
              "#fb9f3a"
             ],
             [
              0.8888888888888888,
              "#fdca26"
             ],
             [
              1,
              "#f0f921"
             ]
            ],
            "type": "histogram2d"
           }
          ],
          "histogram2dcontour": [
           {
            "colorbar": {
             "outlinewidth": 0,
             "ticks": ""
            },
            "colorscale": [
             [
              0,
              "#0d0887"
             ],
             [
              0.1111111111111111,
              "#46039f"
             ],
             [
              0.2222222222222222,
              "#7201a8"
             ],
             [
              0.3333333333333333,
              "#9c179e"
             ],
             [
              0.4444444444444444,
              "#bd3786"
             ],
             [
              0.5555555555555556,
              "#d8576b"
             ],
             [
              0.6666666666666666,
              "#ed7953"
             ],
             [
              0.7777777777777778,
              "#fb9f3a"
             ],
             [
              0.8888888888888888,
              "#fdca26"
             ],
             [
              1,
              "#f0f921"
             ]
            ],
            "type": "histogram2dcontour"
           }
          ],
          "mesh3d": [
           {
            "colorbar": {
             "outlinewidth": 0,
             "ticks": ""
            },
            "type": "mesh3d"
           }
          ],
          "parcoords": [
           {
            "line": {
             "colorbar": {
              "outlinewidth": 0,
              "ticks": ""
             }
            },
            "type": "parcoords"
           }
          ],
          "pie": [
           {
            "automargin": true,
            "type": "pie"
           }
          ],
          "scatter": [
           {
            "fillpattern": {
             "fillmode": "overlay",
             "size": 10,
             "solidity": 0.2
            },
            "type": "scatter"
           }
          ],
          "scatter3d": [
           {
            "line": {
             "colorbar": {
              "outlinewidth": 0,
              "ticks": ""
             }
            },
            "marker": {
             "colorbar": {
              "outlinewidth": 0,
              "ticks": ""
             }
            },
            "type": "scatter3d"
           }
          ],
          "scattercarpet": [
           {
            "marker": {
             "colorbar": {
              "outlinewidth": 0,
              "ticks": ""
             }
            },
            "type": "scattercarpet"
           }
          ],
          "scattergeo": [
           {
            "marker": {
             "colorbar": {
              "outlinewidth": 0,
              "ticks": ""
             }
            },
            "type": "scattergeo"
           }
          ],
          "scattergl": [
           {
            "marker": {
             "colorbar": {
              "outlinewidth": 0,
              "ticks": ""
             }
            },
            "type": "scattergl"
           }
          ],
          "scattermapbox": [
           {
            "marker": {
             "colorbar": {
              "outlinewidth": 0,
              "ticks": ""
             }
            },
            "type": "scattermapbox"
           }
          ],
          "scatterpolar": [
           {
            "marker": {
             "colorbar": {
              "outlinewidth": 0,
              "ticks": ""
             }
            },
            "type": "scatterpolar"
           }
          ],
          "scatterpolargl": [
           {
            "marker": {
             "colorbar": {
              "outlinewidth": 0,
              "ticks": ""
             }
            },
            "type": "scatterpolargl"
           }
          ],
          "scatterternary": [
           {
            "marker": {
             "colorbar": {
              "outlinewidth": 0,
              "ticks": ""
             }
            },
            "type": "scatterternary"
           }
          ],
          "surface": [
           {
            "colorbar": {
             "outlinewidth": 0,
             "ticks": ""
            },
            "colorscale": [
             [
              0,
              "#0d0887"
             ],
             [
              0.1111111111111111,
              "#46039f"
             ],
             [
              0.2222222222222222,
              "#7201a8"
             ],
             [
              0.3333333333333333,
              "#9c179e"
             ],
             [
              0.4444444444444444,
              "#bd3786"
             ],
             [
              0.5555555555555556,
              "#d8576b"
             ],
             [
              0.6666666666666666,
              "#ed7953"
             ],
             [
              0.7777777777777778,
              "#fb9f3a"
             ],
             [
              0.8888888888888888,
              "#fdca26"
             ],
             [
              1,
              "#f0f921"
             ]
            ],
            "type": "surface"
           }
          ],
          "table": [
           {
            "cells": {
             "fill": {
              "color": "#EBF0F8"
             },
             "line": {
              "color": "white"
             }
            },
            "header": {
             "fill": {
              "color": "#C8D4E3"
             },
             "line": {
              "color": "white"
             }
            },
            "type": "table"
           }
          ]
         },
         "layout": {
          "annotationdefaults": {
           "arrowcolor": "#2a3f5f",
           "arrowhead": 0,
           "arrowwidth": 1
          },
          "autotypenumbers": "strict",
          "coloraxis": {
           "colorbar": {
            "outlinewidth": 0,
            "ticks": ""
           }
          },
          "colorscale": {
           "diverging": [
            [
             0,
             "#8e0152"
            ],
            [
             0.1,
             "#c51b7d"
            ],
            [
             0.2,
             "#de77ae"
            ],
            [
             0.3,
             "#f1b6da"
            ],
            [
             0.4,
             "#fde0ef"
            ],
            [
             0.5,
             "#f7f7f7"
            ],
            [
             0.6,
             "#e6f5d0"
            ],
            [
             0.7,
             "#b8e186"
            ],
            [
             0.8,
             "#7fbc41"
            ],
            [
             0.9,
             "#4d9221"
            ],
            [
             1,
             "#276419"
            ]
           ],
           "sequential": [
            [
             0,
             "#0d0887"
            ],
            [
             0.1111111111111111,
             "#46039f"
            ],
            [
             0.2222222222222222,
             "#7201a8"
            ],
            [
             0.3333333333333333,
             "#9c179e"
            ],
            [
             0.4444444444444444,
             "#bd3786"
            ],
            [
             0.5555555555555556,
             "#d8576b"
            ],
            [
             0.6666666666666666,
             "#ed7953"
            ],
            [
             0.7777777777777778,
             "#fb9f3a"
            ],
            [
             0.8888888888888888,
             "#fdca26"
            ],
            [
             1,
             "#f0f921"
            ]
           ],
           "sequentialminus": [
            [
             0,
             "#0d0887"
            ],
            [
             0.1111111111111111,
             "#46039f"
            ],
            [
             0.2222222222222222,
             "#7201a8"
            ],
            [
             0.3333333333333333,
             "#9c179e"
            ],
            [
             0.4444444444444444,
             "#bd3786"
            ],
            [
             0.5555555555555556,
             "#d8576b"
            ],
            [
             0.6666666666666666,
             "#ed7953"
            ],
            [
             0.7777777777777778,
             "#fb9f3a"
            ],
            [
             0.8888888888888888,
             "#fdca26"
            ],
            [
             1,
             "#f0f921"
            ]
           ]
          },
          "colorway": [
           "#636efa",
           "#EF553B",
           "#00cc96",
           "#ab63fa",
           "#FFA15A",
           "#19d3f3",
           "#FF6692",
           "#B6E880",
           "#FF97FF",
           "#FECB52"
          ],
          "font": {
           "color": "#2a3f5f"
          },
          "geo": {
           "bgcolor": "white",
           "lakecolor": "white",
           "landcolor": "#E5ECF6",
           "showlakes": true,
           "showland": true,
           "subunitcolor": "white"
          },
          "hoverlabel": {
           "align": "left"
          },
          "hovermode": "closest",
          "mapbox": {
           "style": "light"
          },
          "paper_bgcolor": "white",
          "plot_bgcolor": "#E5ECF6",
          "polar": {
           "angularaxis": {
            "gridcolor": "white",
            "linecolor": "white",
            "ticks": ""
           },
           "bgcolor": "#E5ECF6",
           "radialaxis": {
            "gridcolor": "white",
            "linecolor": "white",
            "ticks": ""
           }
          },
          "scene": {
           "xaxis": {
            "backgroundcolor": "#E5ECF6",
            "gridcolor": "white",
            "gridwidth": 2,
            "linecolor": "white",
            "showbackground": true,
            "ticks": "",
            "zerolinecolor": "white"
           },
           "yaxis": {
            "backgroundcolor": "#E5ECF6",
            "gridcolor": "white",
            "gridwidth": 2,
            "linecolor": "white",
            "showbackground": true,
            "ticks": "",
            "zerolinecolor": "white"
           },
           "zaxis": {
            "backgroundcolor": "#E5ECF6",
            "gridcolor": "white",
            "gridwidth": 2,
            "linecolor": "white",
            "showbackground": true,
            "ticks": "",
            "zerolinecolor": "white"
           }
          },
          "shapedefaults": {
           "line": {
            "color": "#2a3f5f"
           }
          },
          "ternary": {
           "aaxis": {
            "gridcolor": "white",
            "linecolor": "white",
            "ticks": ""
           },
           "baxis": {
            "gridcolor": "white",
            "linecolor": "white",
            "ticks": ""
           },
           "bgcolor": "#E5ECF6",
           "caxis": {
            "gridcolor": "white",
            "linecolor": "white",
            "ticks": ""
           }
          },
          "title": {
           "x": 0.05
          },
          "xaxis": {
           "automargin": true,
           "gridcolor": "white",
           "linecolor": "white",
           "ticks": "",
           "title": {
            "standoff": 15
           },
           "zerolinecolor": "white",
           "zerolinewidth": 2
          },
          "yaxis": {
           "automargin": true,
           "gridcolor": "white",
           "linecolor": "white",
           "ticks": "",
           "title": {
            "standoff": 15
           },
           "zerolinecolor": "white",
           "zerolinewidth": 2
          }
         }
        },
        "xaxis": {
         "anchor": "y",
         "domain": [
          0,
          1
         ],
         "title": {
          "text": "年度"
         }
        },
        "yaxis": {
         "anchor": "x",
         "domain": [
          0,
          1
         ],
         "title": {
          "text": "FValue"
         }
        }
       }
      },
      "text/html": [
       "<div>                            <div id=\"8178a797-b9a6-4b99-a4f6-1a60505538d4\" class=\"plotly-graph-div\" style=\"height:525px; width:100%;\"></div>            <script type=\"text/javascript\">                require([\"plotly\"], function(Plotly) {                    window.PLOTLYENV=window.PLOTLYENV || {};                                    if (document.getElementById(\"8178a797-b9a6-4b99-a4f6-1a60505538d4\")) {                    Plotly.newPlot(                        \"8178a797-b9a6-4b99-a4f6-1a60505538d4\",                        [{\"alignmentgroup\":\"True\",\"hovertemplate\":\"Complex2Name=\\u7d93\\u5e38\\u652f\\u51fa<br>\\u5e74\\u5ea6=%{x}<br>FValue=%{y}<extra></extra>\",\"legendgroup\":\"\\u7d93\\u5e38\\u652f\\u51fa\",\"marker\":{\"color\":\"#EF553B\",\"pattern\":{\"shape\":\"\"}},\"name\":\"\\u7d93\\u5e38\\u652f\\u51fa\",\"offsetgroup\":\"\\u7d93\\u5e38\\u652f\\u51fa\",\"orientation\":\"v\",\"showlegend\":true,\"textposition\":\"auto\",\"x\":[2015,2015,2016,2016,2017,2017,2018,2018],\"xaxis\":\"x\",\"y\":[57360,71184,65284,61384,63574,59122,63840,52439],\"yaxis\":\"y\",\"type\":\"bar\"},{\"alignmentgroup\":\"True\",\"hovertemplate\":\"Complex2Name=\\u8cc7\\u672c\\u652f\\u51fa<br>\\u5e74\\u5ea6=%{x}<br>FValue=%{y}<extra></extra>\",\"legendgroup\":\"\\u8cc7\\u672c\\u652f\\u51fa\",\"marker\":{\"color\":\"#00cc96\",\"pattern\":{\"shape\":\"\"}},\"name\":\"\\u8cc7\\u672c\\u652f\\u51fa\",\"offsetgroup\":\"\\u8cc7\\u672c\\u652f\\u51fa\",\"orientation\":\"v\",\"showlegend\":true,\"textposition\":\"auto\",\"x\":[2015,2015,2016,2016,2017,2017,2018,2018],\"xaxis\":\"x\",\"y\":[1076,9507,880,9971,1740,7443,4775,3882],\"yaxis\":\"y\",\"type\":\"bar\"},{\"alignmentgroup\":\"True\",\"hovertemplate\":\"Complex2Name=\\u511f\\u9084\\u501f\\u6b3e<br>\\u5e74\\u5ea6=%{x}<br>FValue=%{y}<extra></extra>\",\"legendgroup\":\"\\u511f\\u9084\\u501f\\u6b3e\",\"marker\":{\"color\":\"#ab63fa\",\"pattern\":{\"shape\":\"\"}},\"name\":\"\\u511f\\u9084\\u501f\\u6b3e\",\"offsetgroup\":\"\\u511f\\u9084\\u501f\\u6b3e\",\"orientation\":\"v\",\"showlegend\":true,\"textposition\":\"auto\",\"x\":[2015,2015,2016,2016,2017,2017,2018,2018],\"xaxis\":\"x\",\"y\":[0,0,0,0,0,0,0,0],\"yaxis\":\"y\",\"type\":\"bar\"},{\"alignmentgroup\":\"True\",\"hovertemplate\":\"Complex2Name=\\u7d93\\u5e38\\u652f\\u51fa\\u5831\\u5ee2\\u91d1\\u984d<br>\\u5e74\\u5ea6=%{x}<br>FValue=%{y}<extra></extra>\",\"legendgroup\":\"\\u7d93\\u5e38\\u652f\\u51fa\\u5831\\u5ee2\\u91d1\\u984d\",\"marker\":{\"color\":\"#FFA15A\",\"pattern\":{\"shape\":\"\"}},\"name\":\"\\u7d93\\u5e38\\u652f\\u51fa\\u5831\\u5ee2\\u91d1\\u984d\",\"offsetgroup\":\"\\u7d93\\u5e38\\u652f\\u51fa\\u5831\\u5ee2\\u91d1\\u984d\",\"orientation\":\"v\",\"showlegend\":true,\"textposition\":\"auto\",\"x\":[2015,2015,2016,2016,2017,2017,2018,2018],\"xaxis\":\"x\",\"y\":[1000,1038,0,0,1400,136,6330,499],\"yaxis\":\"y\",\"type\":\"bar\"},{\"alignmentgroup\":\"True\",\"hovertemplate\":\"Complex2Name=\\u6298\\u820a\\u3001\\u6298\\u8017\\u53ca\\u6524\\u92b7<br>\\u5e74\\u5ea6=%{x}<br>FValue=%{y}<extra></extra>\",\"legendgroup\":\"\\u6298\\u820a\\u3001\\u6298\\u8017\\u53ca\\u6524\\u92b7\",\"marker\":{\"color\":\"#19d3f3\",\"pattern\":{\"shape\":\"\"}},\"name\":\"\\u6298\\u820a\\u3001\\u6298\\u8017\\u53ca\\u6524\\u92b7\",\"offsetgroup\":\"\\u6298\\u820a\\u3001\\u6298\\u8017\\u53ca\\u6524\\u92b7\",\"orientation\":\"v\",\"showlegend\":true,\"textposition\":\"auto\",\"x\":[2015,2015,2016,2016,2017,2017,2018,2018],\"xaxis\":\"x\",\"y\":[0,0,0,0,0,0,0,6023],\"yaxis\":\"y\",\"type\":\"bar\"}],                        {\"template\":{\"data\":{\"histogram2dcontour\":[{\"type\":\"histogram2dcontour\",\"colorbar\":{\"outlinewidth\":0,\"ticks\":\"\"},\"colorscale\":[[0.0,\"#0d0887\"],[0.1111111111111111,\"#46039f\"],[0.2222222222222222,\"#7201a8\"],[0.3333333333333333,\"#9c179e\"],[0.4444444444444444,\"#bd3786\"],[0.5555555555555556,\"#d8576b\"],[0.6666666666666666,\"#ed7953\"],[0.7777777777777778,\"#fb9f3a\"],[0.8888888888888888,\"#fdca26\"],[1.0,\"#f0f921\"]]}],\"choropleth\":[{\"type\":\"choropleth\",\"colorbar\":{\"outlinewidth\":0,\"ticks\":\"\"}}],\"histogram2d\":[{\"type\":\"histogram2d\",\"colorbar\":{\"outlinewidth\":0,\"ticks\":\"\"},\"colorscale\":[[0.0,\"#0d0887\"],[0.1111111111111111,\"#46039f\"],[0.2222222222222222,\"#7201a8\"],[0.3333333333333333,\"#9c179e\"],[0.4444444444444444,\"#bd3786\"],[0.5555555555555556,\"#d8576b\"],[0.6666666666666666,\"#ed7953\"],[0.7777777777777778,\"#fb9f3a\"],[0.8888888888888888,\"#fdca26\"],[1.0,\"#f0f921\"]]}],\"heatmap\":[{\"type\":\"heatmap\",\"colorbar\":{\"outlinewidth\":0,\"ticks\":\"\"},\"colorscale\":[[0.0,\"#0d0887\"],[0.1111111111111111,\"#46039f\"],[0.2222222222222222,\"#7201a8\"],[0.3333333333333333,\"#9c179e\"],[0.4444444444444444,\"#bd3786\"],[0.5555555555555556,\"#d8576b\"],[0.6666666666666666,\"#ed7953\"],[0.7777777777777778,\"#fb9f3a\"],[0.8888888888888888,\"#fdca26\"],[1.0,\"#f0f921\"]]}],\"heatmapgl\":[{\"type\":\"heatmapgl\",\"colorbar\":{\"outlinewidth\":0,\"ticks\":\"\"},\"colorscale\":[[0.0,\"#0d0887\"],[0.1111111111111111,\"#46039f\"],[0.2222222222222222,\"#7201a8\"],[0.3333333333333333,\"#9c179e\"],[0.4444444444444444,\"#bd3786\"],[0.5555555555555556,\"#d8576b\"],[0.6666666666666666,\"#ed7953\"],[0.7777777777777778,\"#fb9f3a\"],[0.8888888888888888,\"#fdca26\"],[1.0,\"#f0f921\"]]}],\"contourcarpet\":[{\"type\":\"contourcarpet\",\"colorbar\":{\"outlinewidth\":0,\"ticks\":\"\"}}],\"contour\":[{\"type\":\"contour\",\"colorbar\":{\"outlinewidth\":0,\"ticks\":\"\"},\"colorscale\":[[0.0,\"#0d0887\"],[0.1111111111111111,\"#46039f\"],[0.2222222222222222,\"#7201a8\"],[0.3333333333333333,\"#9c179e\"],[0.4444444444444444,\"#bd3786\"],[0.5555555555555556,\"#d8576b\"],[0.6666666666666666,\"#ed7953\"],[0.7777777777777778,\"#fb9f3a\"],[0.8888888888888888,\"#fdca26\"],[1.0,\"#f0f921\"]]}],\"surface\":[{\"type\":\"surface\",\"colorbar\":{\"outlinewidth\":0,\"ticks\":\"\"},\"colorscale\":[[0.0,\"#0d0887\"],[0.1111111111111111,\"#46039f\"],[0.2222222222222222,\"#7201a8\"],[0.3333333333333333,\"#9c179e\"],[0.4444444444444444,\"#bd3786\"],[0.5555555555555556,\"#d8576b\"],[0.6666666666666666,\"#ed7953\"],[0.7777777777777778,\"#fb9f3a\"],[0.8888888888888888,\"#fdca26\"],[1.0,\"#f0f921\"]]}],\"mesh3d\":[{\"type\":\"mesh3d\",\"colorbar\":{\"outlinewidth\":0,\"ticks\":\"\"}}],\"scatter\":[{\"fillpattern\":{\"fillmode\":\"overlay\",\"size\":10,\"solidity\":0.2},\"type\":\"scatter\"}],\"parcoords\":[{\"type\":\"parcoords\",\"line\":{\"colorbar\":{\"outlinewidth\":0,\"ticks\":\"\"}}}],\"scatterpolargl\":[{\"type\":\"scatterpolargl\",\"marker\":{\"colorbar\":{\"outlinewidth\":0,\"ticks\":\"\"}}}],\"bar\":[{\"error_x\":{\"color\":\"#2a3f5f\"},\"error_y\":{\"color\":\"#2a3f5f\"},\"marker\":{\"line\":{\"color\":\"#E5ECF6\",\"width\":0.5},\"pattern\":{\"fillmode\":\"overlay\",\"size\":10,\"solidity\":0.2}},\"type\":\"bar\"}],\"scattergeo\":[{\"type\":\"scattergeo\",\"marker\":{\"colorbar\":{\"outlinewidth\":0,\"ticks\":\"\"}}}],\"scatterpolar\":[{\"type\":\"scatterpolar\",\"marker\":{\"colorbar\":{\"outlinewidth\":0,\"ticks\":\"\"}}}],\"histogram\":[{\"marker\":{\"pattern\":{\"fillmode\":\"overlay\",\"size\":10,\"solidity\":0.2}},\"type\":\"histogram\"}],\"scattergl\":[{\"type\":\"scattergl\",\"marker\":{\"colorbar\":{\"outlinewidth\":0,\"ticks\":\"\"}}}],\"scatter3d\":[{\"type\":\"scatter3d\",\"line\":{\"colorbar\":{\"outlinewidth\":0,\"ticks\":\"\"}},\"marker\":{\"colorbar\":{\"outlinewidth\":0,\"ticks\":\"\"}}}],\"scattermapbox\":[{\"type\":\"scattermapbox\",\"marker\":{\"colorbar\":{\"outlinewidth\":0,\"ticks\":\"\"}}}],\"scatterternary\":[{\"type\":\"scatterternary\",\"marker\":{\"colorbar\":{\"outlinewidth\":0,\"ticks\":\"\"}}}],\"scattercarpet\":[{\"type\":\"scattercarpet\",\"marker\":{\"colorbar\":{\"outlinewidth\":0,\"ticks\":\"\"}}}],\"carpet\":[{\"aaxis\":{\"endlinecolor\":\"#2a3f5f\",\"gridcolor\":\"white\",\"linecolor\":\"white\",\"minorgridcolor\":\"white\",\"startlinecolor\":\"#2a3f5f\"},\"baxis\":{\"endlinecolor\":\"#2a3f5f\",\"gridcolor\":\"white\",\"linecolor\":\"white\",\"minorgridcolor\":\"white\",\"startlinecolor\":\"#2a3f5f\"},\"type\":\"carpet\"}],\"table\":[{\"cells\":{\"fill\":{\"color\":\"#EBF0F8\"},\"line\":{\"color\":\"white\"}},\"header\":{\"fill\":{\"color\":\"#C8D4E3\"},\"line\":{\"color\":\"white\"}},\"type\":\"table\"}],\"barpolar\":[{\"marker\":{\"line\":{\"color\":\"#E5ECF6\",\"width\":0.5},\"pattern\":{\"fillmode\":\"overlay\",\"size\":10,\"solidity\":0.2}},\"type\":\"barpolar\"}],\"pie\":[{\"automargin\":true,\"type\":\"pie\"}]},\"layout\":{\"autotypenumbers\":\"strict\",\"colorway\":[\"#636efa\",\"#EF553B\",\"#00cc96\",\"#ab63fa\",\"#FFA15A\",\"#19d3f3\",\"#FF6692\",\"#B6E880\",\"#FF97FF\",\"#FECB52\"],\"font\":{\"color\":\"#2a3f5f\"},\"hovermode\":\"closest\",\"hoverlabel\":{\"align\":\"left\"},\"paper_bgcolor\":\"white\",\"plot_bgcolor\":\"#E5ECF6\",\"polar\":{\"bgcolor\":\"#E5ECF6\",\"angularaxis\":{\"gridcolor\":\"white\",\"linecolor\":\"white\",\"ticks\":\"\"},\"radialaxis\":{\"gridcolor\":\"white\",\"linecolor\":\"white\",\"ticks\":\"\"}},\"ternary\":{\"bgcolor\":\"#E5ECF6\",\"aaxis\":{\"gridcolor\":\"white\",\"linecolor\":\"white\",\"ticks\":\"\"},\"baxis\":{\"gridcolor\":\"white\",\"linecolor\":\"white\",\"ticks\":\"\"},\"caxis\":{\"gridcolor\":\"white\",\"linecolor\":\"white\",\"ticks\":\"\"}},\"coloraxis\":{\"colorbar\":{\"outlinewidth\":0,\"ticks\":\"\"}},\"colorscale\":{\"sequential\":[[0.0,\"#0d0887\"],[0.1111111111111111,\"#46039f\"],[0.2222222222222222,\"#7201a8\"],[0.3333333333333333,\"#9c179e\"],[0.4444444444444444,\"#bd3786\"],[0.5555555555555556,\"#d8576b\"],[0.6666666666666666,\"#ed7953\"],[0.7777777777777778,\"#fb9f3a\"],[0.8888888888888888,\"#fdca26\"],[1.0,\"#f0f921\"]],\"sequentialminus\":[[0.0,\"#0d0887\"],[0.1111111111111111,\"#46039f\"],[0.2222222222222222,\"#7201a8\"],[0.3333333333333333,\"#9c179e\"],[0.4444444444444444,\"#bd3786\"],[0.5555555555555556,\"#d8576b\"],[0.6666666666666666,\"#ed7953\"],[0.7777777777777778,\"#fb9f3a\"],[0.8888888888888888,\"#fdca26\"],[1.0,\"#f0f921\"]],\"diverging\":[[0,\"#8e0152\"],[0.1,\"#c51b7d\"],[0.2,\"#de77ae\"],[0.3,\"#f1b6da\"],[0.4,\"#fde0ef\"],[0.5,\"#f7f7f7\"],[0.6,\"#e6f5d0\"],[0.7,\"#b8e186\"],[0.8,\"#7fbc41\"],[0.9,\"#4d9221\"],[1,\"#276419\"]]},\"xaxis\":{\"gridcolor\":\"white\",\"linecolor\":\"white\",\"ticks\":\"\",\"title\":{\"standoff\":15},\"zerolinecolor\":\"white\",\"automargin\":true,\"zerolinewidth\":2},\"yaxis\":{\"gridcolor\":\"white\",\"linecolor\":\"white\",\"ticks\":\"\",\"title\":{\"standoff\":15},\"zerolinecolor\":\"white\",\"automargin\":true,\"zerolinewidth\":2},\"scene\":{\"xaxis\":{\"backgroundcolor\":\"#E5ECF6\",\"gridcolor\":\"white\",\"linecolor\":\"white\",\"showbackground\":true,\"ticks\":\"\",\"zerolinecolor\":\"white\",\"gridwidth\":2},\"yaxis\":{\"backgroundcolor\":\"#E5ECF6\",\"gridcolor\":\"white\",\"linecolor\":\"white\",\"showbackground\":true,\"ticks\":\"\",\"zerolinecolor\":\"white\",\"gridwidth\":2},\"zaxis\":{\"backgroundcolor\":\"#E5ECF6\",\"gridcolor\":\"white\",\"linecolor\":\"white\",\"showbackground\":true,\"ticks\":\"\",\"zerolinecolor\":\"white\",\"gridwidth\":2}},\"shapedefaults\":{\"line\":{\"color\":\"#2a3f5f\"}},\"annotationdefaults\":{\"arrowcolor\":\"#2a3f5f\",\"arrowhead\":0,\"arrowwidth\":1},\"geo\":{\"bgcolor\":\"white\",\"landcolor\":\"#E5ECF6\",\"subunitcolor\":\"white\",\"showland\":true,\"showlakes\":true,\"lakecolor\":\"white\"},\"title\":{\"x\":0.05},\"mapbox\":{\"style\":\"light\"}}},\"xaxis\":{\"anchor\":\"y\",\"domain\":[0.0,1.0],\"title\":{\"text\":\"\\u5e74\\u5ea6\"}},\"yaxis\":{\"anchor\":\"x\",\"domain\":[0.0,1.0],\"title\":{\"text\":\"FValue\"}},\"legend\":{\"title\":{\"text\":\"Complex2Name\"},\"tracegroupgap\":0},\"margin\":{\"t\":60},\"barmode\":\"group\"},                        {\"responsive\": true}                    ).then(function(){\n",
       "                            \n",
       "var gd = document.getElementById('8178a797-b9a6-4b99-a4f6-1a60505538d4');\n",
       "var x = new MutationObserver(function (mutations, observer) {{\n",
       "        var display = window.getComputedStyle(gd).display;\n",
       "        if (!display || display === 'none') {{\n",
       "            console.log([gd, 'removed!']);\n",
       "            Plotly.purge(gd);\n",
       "            observer.disconnect();\n",
       "        }}\n",
       "}});\n",
       "\n",
       "// Listen for the removal of the full notebook cells\n",
       "var notebookContainer = gd.closest('#notebook-container');\n",
       "if (notebookContainer) {{\n",
       "    x.observe(notebookContainer, {childList: true});\n",
       "}}\n",
       "\n",
       "// Listen for the clearing of the current output cell\n",
       "var outputEl = gd.closest('.output');\n",
       "if (outputEl) {{\n",
       "    x.observe(outputEl, {childList: true});\n",
       "}}\n",
       "\n",
       "                        })                };                });            </script>        </div>"
      ]
     },
     "metadata": {},
     "output_type": "display_data"
    }
   ],
   "source": [
    "import plotly.express as px\n",
    "fig = px.bar(M_私立,x=\"年度\", y=\"FValue\", color=\"Complex2Name\",barmode='group')\n",
    "fig.show()"
   ]
  },
  {
   "cell_type": "markdown",
   "id": "c2256d65",
   "metadata": {},
   "source": [
    "最後一筆資料為私立特教經費的開銷，各年度中記錄較為完整。"
   ]
  }
 ],
 "metadata": {
  "kernelspec": {
   "display_name": "Python 3 (ipykernel)",
   "language": "python",
   "name": "python3"
  },
  "language_info": {
   "codemirror_mode": {
    "name": "ipython",
    "version": 3
   },
   "file_extension": ".py",
   "mimetype": "text/x-python",
   "name": "python",
   "nbconvert_exporter": "python",
   "pygments_lexer": "ipython3",
   "version": "3.9.13"
  }
 },
 "nbformat": 4,
 "nbformat_minor": 5
}
