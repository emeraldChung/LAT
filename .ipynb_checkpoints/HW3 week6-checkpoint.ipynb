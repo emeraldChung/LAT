{
 "cells": [
  {
   "cell_type": "code",
   "execution_count": 9,
   "id": "843c61d2",
   "metadata": {
    "scrolled": true
   },
   "outputs": [
    {
     "name": "stdout",
     "output_type": "stream",
     "text": [
      "Requirement already satisfied: openai in d:\\program\\anaconda3\\lib\\site-packages (0.27.2)\n",
      "Requirement already satisfied: tqdm in d:\\program\\anaconda3\\lib\\site-packages (from openai) (4.64.1)\n",
      "Requirement already satisfied: requests>=2.20 in d:\\program\\anaconda3\\lib\\site-packages (from openai) (2.28.1)\n",
      "Requirement already satisfied: aiohttp in d:\\program\\anaconda3\\lib\\site-packages (from openai) (3.8.4)\n",
      "Requirement already satisfied: idna<4,>=2.5 in d:\\program\\anaconda3\\lib\\site-packages (from requests>=2.20->openai) (3.3)\n",
      "Requirement already satisfied: charset-normalizer<3,>=2 in d:\\program\\anaconda3\\lib\\site-packages (from requests>=2.20->openai) (2.0.4)\n",
      "Requirement already satisfied: urllib3<1.27,>=1.21.1 in d:\\program\\anaconda3\\lib\\site-packages (from requests>=2.20->openai) (1.26.11)\n",
      "Requirement already satisfied: certifi>=2017.4.17 in d:\\program\\anaconda3\\lib\\site-packages (from requests>=2.20->openai) (2022.9.14)\n",
      "Requirement already satisfied: async-timeout<5.0,>=4.0.0a3 in d:\\program\\anaconda3\\lib\\site-packages (from aiohttp->openai) (4.0.2)\n",
      "Requirement already satisfied: frozenlist>=1.1.1 in d:\\program\\anaconda3\\lib\\site-packages (from aiohttp->openai) (1.3.3)\n",
      "Requirement already satisfied: multidict<7.0,>=4.5 in d:\\program\\anaconda3\\lib\\site-packages (from aiohttp->openai) (6.0.4)\n",
      "Requirement already satisfied: attrs>=17.3.0 in d:\\program\\anaconda3\\lib\\site-packages (from aiohttp->openai) (21.4.0)\n",
      "Requirement already satisfied: yarl<2.0,>=1.0 in d:\\program\\anaconda3\\lib\\site-packages (from aiohttp->openai) (1.8.2)\n",
      "Requirement already satisfied: aiosignal>=1.1.2 in d:\\program\\anaconda3\\lib\\site-packages (from aiohttp->openai) (1.3.1)\n",
      "Requirement already satisfied: colorama in d:\\program\\anaconda3\\lib\\site-packages (from tqdm->openai) (0.4.5)\n"
     ]
    }
   ],
   "source": [
    "!pip install openai"
   ]
  },
  {
   "cell_type": "code",
   "execution_count": 10,
   "id": "4e4d0842",
   "metadata": {},
   "outputs": [],
   "source": [
    "import openai\n",
    "import pandas as pd"
   ]
  },
  {
   "cell_type": "code",
   "execution_count": 15,
   "id": "0a648ff6",
   "metadata": {},
   "outputs": [],
   "source": [
    "with open('01.txt', 'r') as fh:\n",
    "    tmp = fh.read()\n",
    "    itemlist = tmp.split(',')"
   ]
  },
  {
   "cell_type": "code",
   "execution_count": 16,
   "id": "5c9367d3",
   "metadata": {},
   "outputs": [],
   "source": [
    "itemlist = str(itemlist)\n"
   ]
  },
  {
   "cell_type": "code",
   "execution_count": 17,
   "id": "96f48a16",
   "metadata": {},
   "outputs": [],
   "source": [
    "keyfile = open(\"key.txt\", \"r\")\n",
    "key = keyfile.readline()\n",
    "openai.api_key = key\n"
   ]
  },
  {
   "cell_type": "code",
   "execution_count": 18,
   "id": "50a62abb",
   "metadata": {},
   "outputs": [],
   "source": [
    "data = [itemlist[0:3200], itemlist[3201:6400], \n",
    "        itemlist[6401:9600], itemlist[9601:12800], itemlist[12801:16000]]\n"
   ]
  },
  {
   "cell_type": "code",
   "execution_count": 19,
   "id": "27cb2ad3",
   "metadata": {
    "scrolled": true
   },
   "outputs": [
    {
     "data": {
      "text/plain": [
       "\"['\\\\nBlockchain in education management: present and future applications \\\\nPreeti Bhaskar \\\\nUniversity of Technology and Applied Sciences', ' Ibra', ' Oman and ICFAI Business School', ' ICFAI University', ' Dehradun', ' India \\\\n\\\\nChandan Kumar Tiwari \\\\nSymbiosis Centre for Management Studies', ' Noida', ' India and Symbiosis International (Deemed University)', ' Pune', ' India', ' and \\\\n\\\\nAmit Joshi \\\\nICFAI Business School', ' ICFAI University', ' Dehradun', ' India \\\\nAbstract \\\\nPurpose ? This paper aims to provide a systematic literature review on blockchain technology in education to offer a detailed understanding of the present scenario in terms of bene.ts', ' barriers', ' present blockchain technology application and future areas where blockchain technology can be implemented in the other .elds of education. \\\\nDesign/methodology/approach ? A bibliometric analysis is conducted on for data in the publications', ' journals', ' authors and citations were collected', ' and examined by applying bibliometric measures. The data was collected from SCOPUS database on the topic ?Blockchain Technology in Education?. The following research questions guided this systematic literature review (SLR: How blockchain technology has been de.ned in educational settings? How were the technology examined (i.e. the methodology)? What were the results of using this technology in an education system? \\\\nFindings ? The study identi.es the bene.ts', ' barriers and present application of blockchain technology in education. The analysis shows that blockchain technology in education is still a young discipline', ' but has a lot of potential to bene.ts the educational sector at large. \\\\nPractical implications ? This research provides a groundwork for education institutions', ' the policymakers and researchers to explore other areas where blockchain technology can be implemented', ' though this research has also suggested some prospective uses of blockchain technology in different functions of an education system', ' more application can be brought into the education system to exploit the potential of blockchain technology. \\\\nOriginality/value ? The paper discusses the application of blockchain technology in education with the help of bibliometric analysis. This is one of the .rst known studies to review the blockchain technology by identifying its bene.ts', ' barriers', ' present blockchain technology application. Based on the analysis', ' future application areas are also identi.ed. \\\\nKeywords Systematic review', ' Education', ' Blockchain technology', ' Blockchain application \\\\nPaper type Literature review \\\\n1. Introduction \\\\nBlockchain was .rst used to a peer-to-peer ledger for record-keeping of the transactions of Bitcoin cryptocurrency. A blockchain transaction in the public ledger contains a veri.able record and once the information entered', ' it cannot be altered or erased in the future. The \\\\nBlockchain in education management \\\\nReceived 4 July 2020 Revised 19 September 2020 Accepted 10 October 2020 \\\\n\\\\nInteractive Technology and Smart Education Vol. 18 No. 1', ' 2021 pp. 1-17 ? Emerald Publishing Limited 1741-5659 DOI 10.1108/ITSE-07-2020-0102 \\\\n\\\\nBlockchain tech\""
      ]
     },
     "execution_count": 19,
     "metadata": {},
     "output_type": "execute_result"
    }
   ],
   "source": [
    "data[0]"
   ]
  },
  {
   "cell_type": "code",
   "execution_count": 20,
   "id": "903fb7f7",
   "metadata": {},
   "outputs": [],
   "source": [
    "def chatgptfn(sub_list):\n",
    "    result = ''\n",
    "    response = openai.ChatCompletion.create(\n",
    "        model=\"gpt-3.5-turbo\",\n",
    "        messages=[\n",
    "            {\"role\": \"system\", \"content\": \"You are an assistant\"},\n",
    "            {\"role\": \"user\", \"content\": f\"{sub_list} :give me a summary\"}\n",
    "        ]\n",
    "    )\n",
    "    for choice in response.choices:\n",
    "        result += choice.message.content\n",
    "    return result"
   ]
  },
  {
   "cell_type": "code",
   "execution_count": 21,
   "id": "c7f625f6",
   "metadata": {
    "scrolled": true
   },
   "outputs": [
    {
     "data": {
      "text/plain": [
       "'This article provides a systematic literature review on blockchain technology in education, aiming to offer a detailed understanding of the present scenario in terms of benefits, barriers, present blockchain technology applications, and future areas where blockchain technology can be implemented in the educational sector. The data was collected from the SCOPUS database on the topic \"Blockchain Technology in Education.\" The study identifies the benefits, barriers, and present applications of blockchain technology in education and suggests that there is a lot of potential for the educational sector to benefit from blockchain technology. The paper provides a groundwork for education institutions, policymakers, and researchers to explore other areas where blockchain technology can be implemented in the education system. This is one of the first known studies to review blockchain technology in education by identifying its benefits, barriers, and present applications, and based on the analysis, future application areas are also identified.'"
      ]
     },
     "execution_count": 21,
     "metadata": {},
     "output_type": "execute_result"
    }
   ],
   "source": [
    "data[0] = chatgptfn(data[0])\n",
    "data[0]"
   ]
  },
  {
   "cell_type": "code",
   "execution_count": 39,
   "id": "b72d6843",
   "metadata": {},
   "outputs": [],
   "source": [
    "for i in range(0,5):\n",
    "    data[i] = chatgptfn(data[i])\n"
   ]
  },
  {
   "cell_type": "code",
   "execution_count": 40,
   "id": "51cc9bec",
   "metadata": {},
   "outputs": [
    {
     "data": {
      "text/plain": [
       "['The article presents a systematic literature review on the use of blockchain technology in education. The review highlights the benefits and barriers of using blockchain technology in education and identifies current applications of the technology in the sector. The paper also suggests potential areas where blockchain technology can be implemented in education. Overall, the study provides a basis for education stakeholders to explore the possibilities of blockchain technology in the education system.',\n",
       " \"Blockchain technology is a reliable and decentralized system that eliminates third-party intermediaries and ensures high reliability of applications. It has evolved into four generations, each with its unique capabilities and applications. The benefits of blockchain technology are security, decentralization, transparency, and immutability, making it useful in various sectors such as finance, government, education, healthcare, tourism, energy, public, banking, and business. By 2025, blockchain technology is estimated to control 10% of the world's GDP. There is immense exploration of blockchain technology in different areas of businesses beyond governance and society. The application of blockchain technology in education is in its nascent stages, but future prospects are promising.\",\n",
       " 'This paper is a systematic literature review on the use of blockchain technology in the education sector. The paper aims to examine and present the current research literature that explores the use of blockchain technology in educational settings, including its benefits, challenges, and potential applications. The study was conducted using the Preferred Reporting Items for Systematic Reviews and Meta-Analyses (PRISMA) diagram methodology to depict the stages involved in the research study. The paper concludes by highlighting the potential benefits of blockchain technology for policymakers, higher education institutions, academicians, managers, and researchers in the education sector.',\n",
       " 'This passage describes the methodology and results of a systematic literature review on the topic of blockchain technology in education. The researchers searched the SCOPUS database for relevant studies, and then excluded articles that did not meet their inclusion criteria. They ultimately analyzed 36 articles and performed a content analysis to better understand the current state of literature on the topic. The passage notes that blockchain technology is a relatively new area of research, and while it has been widely applied in various fields, its application in education is immature and lacks public knowledge.',\n",
       " 'of the existing research on the application of blockchain technology in education, its potential contributions and limitations. The literature review highlights scalability, security, and user adoption as key issues in this area. The study suggests that blockchain technology can offer significant benefits in the management of student data and credentials, administration activities, and teaching and learning in schools and universities. The research is multidisciplinary, covering various fields such as science and technology, medicine, marketing, and law. However, the number of publications is limited, and there is a need for further exploration of the area, especially in areas such as social sciences, business, and management education. Most of the existing studies are qualitative and review-based, and there is a lack of quantitative research on the overall impact of blockchain technology on education.']"
      ]
     },
     "execution_count": 40,
     "metadata": {},
     "output_type": "execute_result"
    }
   ],
   "source": [
    "data"
   ]
  },
  {
   "cell_type": "code",
   "execution_count": 22,
   "id": "1c2344de",
   "metadata": {},
   "outputs": [],
   "source": [
    "with open('02.txt', 'r',encoding=\"utf-8\") as fh2:\n",
    "    tmp2 = fh2.read()\n",
    "    itemlist2 = tmp2.split(',')"
   ]
  },
  {
   "cell_type": "code",
   "execution_count": 23,
   "id": "f2a657f9",
   "metadata": {},
   "outputs": [],
   "source": [
    "itemlist2 = str(itemlist2)"
   ]
  },
  {
   "cell_type": "code",
   "execution_count": 24,
   "id": "a23e2a26",
   "metadata": {},
   "outputs": [],
   "source": [
    "data2 = [itemlist2[0:3200], itemlist2[3201:6400], \n",
    "        itemlist2[6401:9600], itemlist2[9601:12800], itemlist2[12801:16000]]\n"
   ]
  },
  {
   "cell_type": "code",
   "execution_count": 25,
   "id": "25edabe5",
   "metadata": {
    "scrolled": true
   },
   "outputs": [
    {
     "data": {
      "text/plain": [
       "'This chapter focuses on pre- and early colonial literature, covering topics such as Native American tales and their contribution to their respective tribes’ cultures, significant tropes and motifs in Native American creation stories, cultural characteristics of Native American creation, trickster, and first contact stories distinct from European cultural characteristics, elements of trickster stories, the European discovery of the Americas while searching for the Westward passage to Asia, and the role religion played in European settlement in North America. The chapter also explores how European exploration accounts were affected by their intended audience and purpose. The examples of Native American accounts in the chapter demonstrate different ways in which cultures explain themselves to themselves. The chapter notes that Native American tales are performative and oral, and that the words alone do not represent their full significance.'"
      ]
     },
     "execution_count": 25,
     "metadata": {},
     "output_type": "execute_result"
    }
   ],
   "source": [
    "data2[0] = chatgptfn(data2[0])\n",
    "data2[0]"
   ]
  },
  {
   "cell_type": "code",
   "execution_count": 26,
   "id": "9146a75b",
   "metadata": {},
   "outputs": [],
   "source": [
    "for i in range(0,5):\n",
    "    data2[i] = chatgptfn(data2[i])"
   ]
  },
  {
   "cell_type": "code",
   "execution_count": 27,
   "id": "a827c7bc",
   "metadata": {
    "scrolled": true
   },
   "outputs": [
    {
     "data": {
      "text/plain": [
       "['This chapter covers pre- and early colonial literature, with a focus on Native American tales and their cultural significance. It explores the key features of Native American stories, and how they differ from European stories. The chapter also discusses the role of religion in European settlement, and how European accounts of their exploration were influenced by their intended audience and purpose. Ultimately, the chapter emphasizes the performative and oral nature of Native American tales, stressing that their significance cannot be fully grasped through words alone.',\n",
       " 'The Native American creation and trickster stories serve both an explanatory and guiding function about the world and social codes. Creation stories often depict the birth of land and people, emphasizing the essentialness of land to tribal identity. Trickster tales are represented as animal figures who transgress social norms and function as culture heroes that reinforce social boundaries through their mishaps and experiences. These stories differ from European accounts of creation and representation of human and animal relationships. They suggest parallel development, European influence, and a strong emphasis on tribal identity and social codes.',\n",
       " \"The article discusses the Native American perspective on European exploration and colonization of the Americas. It explains that Native American creation stories and trickster tales challenge the European view of animals as inferior to humans, and instead advocate for a sense of equality with nature. Additionally, the article offers insight into how Native Americans interpreted first contact with European explorers, highlighting their customary social practices and the explorers' disingenuous reliance on Native American help while appropriating land and introducing European commodities into Native American culture. Finally, the article provides some background on Spain's exploration of the Americas and their search for a westward passage to Asia.\",\n",
       " 'The European powers, including Spain, Portugal, France, Holland, and England, sought new trade routes and territory in the Americas for commodities such as precious metals, fur, timber, and agricultural products, as well as an extension of their empires. Spain primarily explored South and Central America and the southeastern and southwestern parts of North America, while other European countries concentrated in different areas. England had the largest and most lasting colonial reach, starting with their first permanent settlement in Jamestown and expanding along the eastern seaboard. The relationship between imperialism and the spread of religion in the new world was first cemented during Spanish exploration.',\n",
       " 'The passage discusses the exploration and colonization of North America by European powers, primarily focusing on the Spanish, French, Dutch, and English. The motivations behind these expeditions varied, with some seeking to convert natives to Christianity while others prioritized trade and survival. The accounts of these expeditions served as written records for the governments and organizations that funded them, as well as tales of adventure and exotic lands to entice more investment and emigration. The following section highlights the perspectives of six Native American tribes whose territories spanned the eastern seaboard, midwest, and southwest regions of the United States. These excerpts provide insights into the varied cultures, traditions, and histories of these indigenous peoples.']"
      ]
     },
     "execution_count": 27,
     "metadata": {},
     "output_type": "execute_result"
    }
   ],
   "source": [
    "data2"
   ]
  },
  {
   "cell_type": "code",
   "execution_count": 29,
   "id": "55fdd83d",
   "metadata": {},
   "outputs": [],
   "source": [
    "with open('03.txt', 'r',encoding=\"utf-8\") as fh3:\n",
    "    tmp3 = fh3.read()\n",
    "    itemlist3 = tmp3.split(',')"
   ]
  },
  {
   "cell_type": "code",
   "execution_count": 30,
   "id": "2293e64e",
   "metadata": {},
   "outputs": [],
   "source": [
    "itemlist3 = str(itemlist3)"
   ]
  },
  {
   "cell_type": "code",
   "execution_count": 31,
   "id": "dcb3cee8",
   "metadata": {},
   "outputs": [],
   "source": [
    "data3 = [itemlist3[0:3200], itemlist3[3201:6400], \n",
    "        itemlist3[6401:9600], itemlist3[9601:12800], itemlist3[12801:16000]]\n"
   ]
  },
  {
   "cell_type": "code",
   "execution_count": 32,
   "id": "c2a2e540",
   "metadata": {},
   "outputs": [],
   "source": [
    "data3[0] = chatgptfn(data3[0])"
   ]
  },
  {
   "cell_type": "code",
   "execution_count": 33,
   "id": "e3c1cddf",
   "metadata": {},
   "outputs": [],
   "source": [
    "for i in range(0,5):\n",
    "    data3[i] = chatgptfn(data3[i])"
   ]
  },
  {
   "cell_type": "code",
   "execution_count": 36,
   "id": "8df8c3c5",
   "metadata": {
    "scrolled": true
   },
   "outputs": [
    {
     "data": {
      "text/plain": [
       "['This chapter explores the reasons behind European settlements in North America during the seventeenth century, particularly among the English. It covers the various motives and ideologies of different groups, including the Puritans, and the impacts of the expansion of English colonies on Native American tribes. It also delves into the growth of African slavery, the significance of Puritanism, and the aesthetic elements of Puritan literature. The chapter concludes with an overview of different colonies, such as Maryland, the Carolinas, Pennsylvania, and Georgia.',\n",
       " 'This passage provides an overview of the early history of the English colonies in North America. It discusses conflicts with Native American tribes, the growth of African slavery, and the dominance of the Puritans in the colonies. The Puritans were a group who sought to reform the Church of England, and their beliefs and culture had a significant impact on the colonies. The passage highlights the persistence of debates about slavery and freedom that would continue to shape American history for centuries to come.',\n",
       " 'The Puritans came to the New World with the goal of building a community constructed around religious principles. They subscribed to Calvinist theology, which held that mankind was born depraved as a result of original sin and incapable of achieving salvation on their own. According to Calvinism, only God’s intervention could save people from damnation. Some of the faithful will be saved because of unconditional election. Puritans were instructed to develop an attitude of indifference toward material things and personal relationships and emphasize the weaning of affections from the things of this world. They looked outside of themselves for guidance in following God’s will, with the Bible being the first source of guidance.',\n",
       " \"The Puritans believed in a typological relationship between the Old Testament and the New Testament, where stories of the Old Testament foreshadowed the antitypes or “the very image of the good things” in the New Testament, which communicated God’s will. Despite trying to keep their theological borders, the Puritans' power eventually faded due to a declining membership in the church. They adopted the Half-Way Covenant in 1662 to increase their ranks and hold on to political power, but their cultural influence continues to impact American culture. The Puritan aesthetic of plain style, characterized by simplicity and accessibility, is evident in many of their works.\",\n",
       " \"Of Plymouth Plantation is a chronicle written by William Bradford, a Puritan leader and governor of Plymouth Colony in Massachusetts. The book recounts the history of the pilgrims who left England to escape persecution by the Church of England and landed at Plymouth in 1620. Bradford recorded the pilgrims' struggles with starvation and sickness, as well as their interactions with Native Americans. He also wrote about the democratic principles that were put into practice in Plymouth and the Puritan ethic in action. The book offers simple yet monumental truths of the pilgrim's lives and serves as testimony of God's designs.\"]"
      ]
     },
     "execution_count": 36,
     "metadata": {},
     "output_type": "execute_result"
    }
   ],
   "source": [
    "data3"
   ]
  },
  {
   "cell_type": "code",
   "execution_count": 41,
   "id": "a5f71beb",
   "metadata": {},
   "outputs": [
    {
     "data": {
      "text/plain": [
       "[['The article presents a systematic literature review on the use of blockchain technology in education. The review highlights the benefits and barriers of using blockchain technology in education and identifies current applications of the technology in the sector. The paper also suggests potential areas where blockchain technology can be implemented in education. Overall, the study provides a basis for education stakeholders to explore the possibilities of blockchain technology in the education system.',\n",
       "  \"Blockchain technology is a reliable and decentralized system that eliminates third-party intermediaries and ensures high reliability of applications. It has evolved into four generations, each with its unique capabilities and applications. The benefits of blockchain technology are security, decentralization, transparency, and immutability, making it useful in various sectors such as finance, government, education, healthcare, tourism, energy, public, banking, and business. By 2025, blockchain technology is estimated to control 10% of the world's GDP. There is immense exploration of blockchain technology in different areas of businesses beyond governance and society. The application of blockchain technology in education is in its nascent stages, but future prospects are promising.\",\n",
       "  'This paper is a systematic literature review on the use of blockchain technology in the education sector. The paper aims to examine and present the current research literature that explores the use of blockchain technology in educational settings, including its benefits, challenges, and potential applications. The study was conducted using the Preferred Reporting Items for Systematic Reviews and Meta-Analyses (PRISMA) diagram methodology to depict the stages involved in the research study. The paper concludes by highlighting the potential benefits of blockchain technology for policymakers, higher education institutions, academicians, managers, and researchers in the education sector.',\n",
       "  'This passage describes the methodology and results of a systematic literature review on the topic of blockchain technology in education. The researchers searched the SCOPUS database for relevant studies, and then excluded articles that did not meet their inclusion criteria. They ultimately analyzed 36 articles and performed a content analysis to better understand the current state of literature on the topic. The passage notes that blockchain technology is a relatively new area of research, and while it has been widely applied in various fields, its application in education is immature and lacks public knowledge.',\n",
       "  'of the existing research on the application of blockchain technology in education, its potential contributions and limitations. The literature review highlights scalability, security, and user adoption as key issues in this area. The study suggests that blockchain technology can offer significant benefits in the management of student data and credentials, administration activities, and teaching and learning in schools and universities. The research is multidisciplinary, covering various fields such as science and technology, medicine, marketing, and law. However, the number of publications is limited, and there is a need for further exploration of the area, especially in areas such as social sciences, business, and management education. Most of the existing studies are qualitative and review-based, and there is a lack of quantitative research on the overall impact of blockchain technology on education.'],\n",
       " ['This chapter covers pre- and early colonial literature, with a focus on Native American tales and their cultural significance. It explores the key features of Native American stories, and how they differ from European stories. The chapter also discusses the role of religion in European settlement, and how European accounts of their exploration were influenced by their intended audience and purpose. Ultimately, the chapter emphasizes the performative and oral nature of Native American tales, stressing that their significance cannot be fully grasped through words alone.',\n",
       "  'The Native American creation and trickster stories serve both an explanatory and guiding function about the world and social codes. Creation stories often depict the birth of land and people, emphasizing the essentialness of land to tribal identity. Trickster tales are represented as animal figures who transgress social norms and function as culture heroes that reinforce social boundaries through their mishaps and experiences. These stories differ from European accounts of creation and representation of human and animal relationships. They suggest parallel development, European influence, and a strong emphasis on tribal identity and social codes.',\n",
       "  \"The article discusses the Native American perspective on European exploration and colonization of the Americas. It explains that Native American creation stories and trickster tales challenge the European view of animals as inferior to humans, and instead advocate for a sense of equality with nature. Additionally, the article offers insight into how Native Americans interpreted first contact with European explorers, highlighting their customary social practices and the explorers' disingenuous reliance on Native American help while appropriating land and introducing European commodities into Native American culture. Finally, the article provides some background on Spain's exploration of the Americas and their search for a westward passage to Asia.\",\n",
       "  'The European powers, including Spain, Portugal, France, Holland, and England, sought new trade routes and territory in the Americas for commodities such as precious metals, fur, timber, and agricultural products, as well as an extension of their empires. Spain primarily explored South and Central America and the southeastern and southwestern parts of North America, while other European countries concentrated in different areas. England had the largest and most lasting colonial reach, starting with their first permanent settlement in Jamestown and expanding along the eastern seaboard. The relationship between imperialism and the spread of religion in the new world was first cemented during Spanish exploration.',\n",
       "  'The passage discusses the exploration and colonization of North America by European powers, primarily focusing on the Spanish, French, Dutch, and English. The motivations behind these expeditions varied, with some seeking to convert natives to Christianity while others prioritized trade and survival. The accounts of these expeditions served as written records for the governments and organizations that funded them, as well as tales of adventure and exotic lands to entice more investment and emigration. The following section highlights the perspectives of six Native American tribes whose territories spanned the eastern seaboard, midwest, and southwest regions of the United States. These excerpts provide insights into the varied cultures, traditions, and histories of these indigenous peoples.'],\n",
       " ['This chapter explores the reasons behind European settlements in North America during the seventeenth century, particularly among the English. It covers the various motives and ideologies of different groups, including the Puritans, and the impacts of the expansion of English colonies on Native American tribes. It also delves into the growth of African slavery, the significance of Puritanism, and the aesthetic elements of Puritan literature. The chapter concludes with an overview of different colonies, such as Maryland, the Carolinas, Pennsylvania, and Georgia.',\n",
       "  'This passage provides an overview of the early history of the English colonies in North America. It discusses conflicts with Native American tribes, the growth of African slavery, and the dominance of the Puritans in the colonies. The Puritans were a group who sought to reform the Church of England, and their beliefs and culture had a significant impact on the colonies. The passage highlights the persistence of debates about slavery and freedom that would continue to shape American history for centuries to come.',\n",
       "  'The Puritans came to the New World with the goal of building a community constructed around religious principles. They subscribed to Calvinist theology, which held that mankind was born depraved as a result of original sin and incapable of achieving salvation on their own. According to Calvinism, only God’s intervention could save people from damnation. Some of the faithful will be saved because of unconditional election. Puritans were instructed to develop an attitude of indifference toward material things and personal relationships and emphasize the weaning of affections from the things of this world. They looked outside of themselves for guidance in following God’s will, with the Bible being the first source of guidance.',\n",
       "  \"The Puritans believed in a typological relationship between the Old Testament and the New Testament, where stories of the Old Testament foreshadowed the antitypes or “the very image of the good things” in the New Testament, which communicated God’s will. Despite trying to keep their theological borders, the Puritans' power eventually faded due to a declining membership in the church. They adopted the Half-Way Covenant in 1662 to increase their ranks and hold on to political power, but their cultural influence continues to impact American culture. The Puritan aesthetic of plain style, characterized by simplicity and accessibility, is evident in many of their works.\",\n",
       "  \"Of Plymouth Plantation is a chronicle written by William Bradford, a Puritan leader and governor of Plymouth Colony in Massachusetts. The book recounts the history of the pilgrims who left England to escape persecution by the Church of England and landed at Plymouth in 1620. Bradford recorded the pilgrims' struggles with starvation and sickness, as well as their interactions with Native Americans. He also wrote about the democratic principles that were put into practice in Plymouth and the Puritan ethic in action. The book offers simple yet monumental truths of the pilgrim's lives and serves as testimony of God's designs.\"]]"
      ]
     },
     "execution_count": 41,
     "metadata": {},
     "output_type": "execute_result"
    }
   ],
   "source": [
    "data_ = [data, data2, data3]\n",
    "data_"
   ]
  }
 ],
 "metadata": {
  "kernelspec": {
   "display_name": "Python 3 (ipykernel)",
   "language": "python",
   "name": "python3"
  },
  "language_info": {
   "codemirror_mode": {
    "name": "ipython",
    "version": 3
   },
   "file_extension": ".py",
   "mimetype": "text/x-python",
   "name": "python",
   "nbconvert_exporter": "python",
   "pygments_lexer": "ipython3",
   "version": "3.9.13"
  }
 },
 "nbformat": 4,
 "nbformat_minor": 5
}
